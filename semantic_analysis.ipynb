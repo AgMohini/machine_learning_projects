{
 "cells": [
  {
   "cell_type": "code",
   "id": "initial_id",
   "metadata": {
    "collapsed": true,
    "ExecuteTime": {
     "end_time": "2025-04-07T00:18:42.143109Z",
     "start_time": "2025-04-07T00:18:12.966235Z"
    }
   },
   "source": [
    "from sentence_transformers import SentenceTransformer, util\n",
    "import warnings\n",
    "warnings.filterwarnings('ignore')"
   ],
   "outputs": [
    {
     "name": "stderr",
     "output_type": "stream",
     "text": [
      "/Users/mohini/PycharmProjects/scientificProject/venv/lib/python3.12/site-packages/tqdm/auto.py:21: TqdmWarning: IProgress not found. Please update jupyter and ipywidgets. See https://ipywidgets.readthedocs.io/en/stable/user_install.html\n",
      "  from .autonotebook import tqdm as notebook_tqdm\n"
     ]
    }
   ],
   "execution_count": 1
  },
  {
   "metadata": {
    "ExecuteTime": {
     "end_time": "2025-04-07T00:18:44.830608Z",
     "start_time": "2025-04-07T00:18:42.156020Z"
    }
   },
   "cell_type": "code",
   "source": [
    "# Load the pre-trained Sentence Transformer model\n",
    "model = SentenceTransformer('all-MiniLM-L6-v2')"
   ],
   "id": "72a92d9d8e961d98",
   "outputs": [],
   "execution_count": 2
  },
  {
   "metadata": {
    "ExecuteTime": {
     "end_time": "2025-04-07T00:18:45.266322Z",
     "start_time": "2025-04-07T00:18:45.257335Z"
    }
   },
   "cell_type": "code",
   "source": [
    "# Define the question-answer dataset\n",
    "qa_pairs = [\n",
    "    (\"What is supervised learning?\", \"Supervised learning is a type of machine learning where a model is trained on labeled data.\"),\n",
    "    (\"What is unsupervised learning?\", \"Unsupervised learning is a type of machine learning where a model is trained on data without labels.\"),\n",
    "    (\"What is overfitting?\", \"Overfitting occurs when a model learns noise in the training data and performs poorly on new data.\"),\n",
    "    (\"What is underfitting?\", \"Underfitting happens when a model is too simple and fails to capture patterns in the training data.\"),\n",
    "    (\"What is cross-validation?\", \"Cross-validation is a technique used to assess the performance of a model by splitting the data into multiple training and testing sets.\"),\n",
    "    (\"What is regularization?\", \"Regularization is a technique used to prevent overfitting by adding a penalty to the model's complexity.\"),\n",
    "    (\"What is a decision tree?\", \"A decision tree is a supervised learning algorithm that splits data based on feature values to make predictions.\"),\n",
    "    (\"What is logistic regression?\", \"Logistic regression is a classification algorithm used to predict the probability of a binary outcome.\"),\n",
    "    (\"What is gradient descent?\", \"Gradient descent is an optimization algorithm used to minimize the loss function in machine learning models.\"),\n",
    "    (\"What is an activation function?\", \"An activation function in neural networks decides whether a neuron should be activated or not.\"),\n",
    "    (\"What is backpropagation?\", \"Backpropagation is an algorithm used to train neural networks by adjusting weights based on error gradients.\"),\n",
    "    (\"What is feature scaling?\", \"Feature scaling is a preprocessing technique used to normalize numerical values in a dataset.\"),\n",
    "    (\"What is a confusion matrix?\", \"A confusion matrix is a table used to evaluate the performance of a classification model.\"),\n",
    "    (\"What is precision in classification?\", \"Precision is the ratio of correctly predicted positive observations to the total predicted positive observations.\"),\n",
    "    (\"What is recall in classification?\", \"Recall measures the ability of a classifier to find all relevant instances in a dataset.\"),\n",
    "    (\"What is an ROC curve?\", \"An ROC curve is a graphical representation of a classifier’s performance across different threshold values.\"),\n",
    "    (\"What is PCA in machine learning?\", \"Principal Component Analysis (PCA) is a dimensionality reduction technique used to transform data into fewer dimensions.\"),\n",
    "    (\"What is reinforcement learning?\", \"Reinforcement learning is a type of machine learning where an agent learns to make decisions by receiving rewards.\"),\n",
    "    (\"What is transfer learning?\", \"Transfer learning is a machine learning technique where a pre-trained model is fine-tuned for a different but related task.\"),\n",
    "    (\"What is a support vector machine?\", \"A Support Vector Machine (SVM) is a supervised learning algorithm used for classification and regression tasks.\"),\n",
    "]"
   ],
   "id": "a3ffca3b0a32ccd",
   "outputs": [],
   "execution_count": 3
  },
  {
   "metadata": {
    "ExecuteTime": {
     "end_time": "2025-04-07T00:18:48.680265Z",
     "start_time": "2025-04-07T00:18:45.295464Z"
    }
   },
   "cell_type": "code",
   "source": [
    "# Extract questions from the dataset\n",
    "questions = [q for q, a in qa_pairs]\n",
    "\n",
    "# Encode questions into sentence embeddings\n",
    "question_embeddings = model.encode(questions, convert_to_tensor=True)"
   ],
   "id": "53f8312dc2166cb2",
   "outputs": [],
   "execution_count": 4
  },
  {
   "metadata": {
    "ExecuteTime": {
     "end_time": "2025-04-07T00:18:48.708133Z",
     "start_time": "2025-04-07T00:18:48.701159Z"
    }
   },
   "cell_type": "code",
   "source": [
    "# Finds the most relevant answer for a given query using cosine similarity.\n",
    "def find_best_answer(query): \n",
    "    query_embedding = model.encode(query, convert_to_tensor=True)\n",
    "\n",
    "    # Compute cosine similarity between query and stored questions\n",
    "    similarities = util.cos_sim(query_embedding, question_embeddings)\n",
    "\n",
    "    # Get the index of the most similar question\n",
    "    best_match_index = similarities.argmax().item()\n",
    "    return qa_pairs[best_match_index][1]"
   ],
   "id": "2f91e679a7c8f3c8",
   "outputs": [],
   "execution_count": 5
  },
  {
   "metadata": {
    "ExecuteTime": {
     "end_time": "2025-04-07T00:18:48.755364Z",
     "start_time": "2025-04-07T00:18:48.728949Z"
    }
   },
   "cell_type": "code",
   "source": [
    "# Example Usage\n",
    "new_question = \"Can you define generalization for a model?\"\n",
    "best_answer = find_best_answer(new_question)\n",
    "print(\"Question:\", new_question)\n",
    "print(\"Best Answer:\", best_answer)"
   ],
   "id": "1526094b3998ec29",
   "outputs": [
    {
     "name": "stdout",
     "output_type": "stream",
     "text": [
      "Question: Can you define generalization for a model?\n",
      "Best Answer: Regularization is a technique used to prevent overfitting by adding a penalty to the model's complexity.\n"
     ]
    }
   ],
   "execution_count": 6
  },
  {
   "metadata": {
    "ExecuteTime": {
     "end_time": "2025-04-07T00:18:49.108771Z",
     "start_time": "2025-04-07T00:18:49.098858Z"
    }
   },
   "cell_type": "code",
   "source": "",
   "id": "91964301e2c8099a",
   "outputs": [],
   "execution_count": null
  },
  {
   "metadata": {},
   "cell_type": "markdown",
   "source": [
    "“How does a model perform well on unseen data?”\n",
    "\n",
    "“What makes a model generalize?”"
   ],
   "id": "3cea61b749373853"
  },
  {
   "metadata": {
    "ExecuteTime": {
     "end_time": "2025-04-07T00:18:49.134814Z",
     "start_time": "2025-04-07T00:18:49.130165Z"
    }
   },
   "cell_type": "code",
   "source": "",
   "id": "bf8a74840386a1d4",
   "outputs": [],
   "execution_count": null
  }
 ],
 "metadata": {
  "kernelspec": {
   "display_name": "Python 3",
   "language": "python",
   "name": "python3"
  },
  "language_info": {
   "codemirror_mode": {
    "name": "ipython",
    "version": 2
   },
   "file_extension": ".py",
   "mimetype": "text/x-python",
   "name": "python",
   "nbconvert_exporter": "python",
   "pygments_lexer": "ipython2",
   "version": "2.7.6"
  }
 },
 "nbformat": 4,
 "nbformat_minor": 5
}

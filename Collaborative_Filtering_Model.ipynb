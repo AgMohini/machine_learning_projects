{
 "cells": [
  {
   "metadata": {},
   "cell_type": "markdown",
   "source": [
    "## **Collaborative Filtering Model for Book Recommendations**\n",
    "In this notebook, we build a collaborative filtering model to generate personalized book recommendations based on user ratings. By leveraging the Surprise library, we focus on user-item interactions to predict how a user might rate a book they haven't read yet. This approach is based on the idea that users with similar preferences tend to enjoy similar books. The goal is to provide relevant and meaningful recommendations by analyzing patterns in past user behavior rather than relying on book content or metadata.\n",
    "\n"
   ],
   "id": "b8478458d0235009"
  },
  {
   "metadata": {},
   "cell_type": "markdown",
   "source": [
    "### Task 1: Formulate a Prediction Question\n",
    "\n",
    "**Prediction Question:**  \n",
    "Can we predict how a user would rate a book they haven't read yet, based on the ratings from similar users (user-based collaborative filtering)?\n",
    "\n",
    "**Elaboration:**  \n",
    "The core idea behind this task is to leverage patterns in user behavior to forecast preferences. Specifically, we aim to predict a user’s potential rating for a book they haven’t rated yet by analyzing the preferences of other users who have demonstrated similar tastes. This is known as user-based collaborative filtering, where recommendations are made by identifying \"neighbors\"—users with similar rating histories—and using their opinions to estimate what the target user might like. This type of model is commonly used in recommendation systems for its ability to capture nuanced, personal preferences without requiring detailed information about the items themselves."
   ],
   "id": "3dfaa802b73ac21e"
  },
  {
   "metadata": {},
   "cell_type": "markdown",
   "source": [
    "### Task 2: Search and locate a dataset\n",
    "\n",
    "For this project, we used the Goodbooks-10k dataset from Kaggle, which offers a comprehensive collection of user ratings and book metadata. This dataset is a valuable resource for building recommendation systems, specifically collaborative filtering models, as it provides rich data on user preferences and book characteristics. The dataset consists of several CSV files, but for this project, we focus on two key files:\n",
    "\n",
    "- **`ratings.csv`**: This file contains the core data for building the collaborative filtering model. It includes ratings given by users for different books, where each entry represents a user's rating for a specific book. This dataset allows us to understand user preferences by identifying patterns in how different users rate books. The ratings range from 1 to 5, making it suitable for both explicit feedback (direct ratings) and collaborative filtering techniques. By analyzing these ratings, we can predict how a user might rate a book they haven't interacted with yet, enabling the model to recommend books that a user is likely to enjoy.\n",
    "\n",
    "- **`books.csv`**: This file provides metadata for each book, such as the book's title, author, and average rating. While the `ratings.csv` file focuses on user-book interactions, the `books.csv` file enriches the model by offering additional contextual information about each book. This data is particularly useful when presenting the recommended books to users, as it helps generate more personalized and meaningful recommendations. For instance, once the collaborative filtering model identifies the top recommended books, the `books.csv` file can be used to display book titles, authors, and average ratings to provide users with more detailed information about the suggestions.\n",
    "\n",
    "By combining the insights from both datasets, we can not only predict the ratings for books a user hasn't yet rated, but also provide them with rich, context-aware recommendations. This approach improves the overall user experience by offering personalized suggestions alongside relevant book details.\n",
    "\n",
    "Link for the dataset: https://www.kaggle.com/datasets/zygmunt/goodbooks-10k/data\n"
   ],
   "id": "11c181a4ab6ca132"
  },
  {
   "metadata": {},
   "cell_type": "markdown",
   "source": [
    "### Task 3: Import Required Libraries\n",
    "\n",
    "Before diving into building our recommender system, we first import all the essential Python libraries required for data processing, model development, evaluation, and visualization. Each of these libraries plays a unique role in the overall pipeline, helping us streamline the workflow and improve the model’s effectiveness.\n",
    "\n",
    "We start with **Pandas (`pd`)** and **NumPy (`np`)**, which are fundamental for any data science project. Pandas allows us to load and explore datasets using DataFrames, making it easier to inspect and manipulate structured data. NumPy, on the other hand, provides efficient operations for numerical computations and array manipulation, which are often required when dealing with ratings data.\n",
    "\n",
    "The core of our recommender system is built using the **Surprise** library, a powerful Python library specifically tailored for building and evaluating recommendation algorithms. From Surprise:\n",
    "- `Dataset` and `Reader` are used to load and parse the user-book ratings in a format suitable for modeling.\n",
    "- `train_test_split` helps us divide the data into training and testing sets to evaluate the model’s performance.\n",
    "- `SVD` is our chosen algorithm for collaborative filtering. It uses matrix factorization to learn latent features for users and items.\n",
    "- `accuracy` provides functions like RMSE and MAE to measure how well our predicted ratings match the actual ones.\n",
    "- `GridSearchCV` is an extremely useful tool for tuning hyperparameters (like the number of factors or learning rate) to find the best model configuration through cross-validation.\n",
    "\n",
    "In addition, we import `shuffle` from `sklearn.utils` to randomize our data when necessary, especially useful during exploratory analysis or to avoid any potential ordering bias in datasets.\n",
    "\n",
    "Finally, to support visual understanding and analysis of our data and results, we bring in **Matplotlib (`plt`)** and **Seaborn (`sns`)**. These libraries help us generate plots and charts for exploring rating distributions, model performance metrics, and other visual insights that make our findings more interpretable.\n",
    "\n",
    "Together, these libraries form the backbone of our recommender system pipeline—enabling us to handle data efficiently, build robust models, and derive meaningful insights from the results.\n"
   ],
   "id": "c6ac35813881b015"
  },
  {
   "cell_type": "code",
   "id": "initial_id",
   "metadata": {
    "collapsed": true,
    "ExecuteTime": {
     "end_time": "2025-05-05T22:38:39.196128Z",
     "start_time": "2025-05-05T22:38:38.918227Z"
    }
   },
   "source": [
    "# Importing necessary libraries\n",
    "import pandas as pd\n",
    "import numpy as np\n",
    "from surprise.model_selection import train_test_split\n",
    "from surprise import Dataset, Reader, SVD, accuracy\n",
    "from surprise.model_selection import GridSearchCV\n",
    "from sklearn.utils import shuffle\n",
    "import matplotlib.pyplot as plt\n",
    "import seaborn as sns"
   ],
   "outputs": [],
   "execution_count": 1
  },
  {
   "metadata": {},
   "cell_type": "markdown",
   "source": [
    "### Task 4: Load the Dataset in Surprise\n",
    "\n",
    "With the necessary libraries imported, the next step is to load our dataset into a format compatible with the Surprise library. Surprise requires the data to be structured in a specific way, where each row must contain exactly three elements: a user ID, an item ID (in this case, the book ID), and the corresponding rating. To achieve this, we use the `Reader` class from Surprise to define the rating scale and then load the data using the `Dataset.load_from_df()` method.\n",
    "\n",
    "We begin by reading the `ratings.csv` file using Pandas, which gives us a DataFrame containing user IDs, book IDs, and their associated ratings. Once loaded, we define the minimum and maximum values of the rating scale (in our case, typically 1 to 5) using `Reader(rating_scale=(1, 5))`. Then, we convert the DataFrame into a Surprise dataset using `Dataset.load_from_df()`, which transforms the raw DataFrame into a format that can be used for model training and evaluation.\n",
    "\n",
    "This step is crucial because it ensures that the data adheres to the structure expected by the collaborative filtering algorithms within Surprise. It also prepares the data for splitting into training and test sets, allowing us to build and validate our recommender model efficiently.\n"
   ],
   "id": "b251f561e44df5c6"
  },
  {
   "metadata": {
    "ExecuteTime": {
     "end_time": "2025-05-05T22:38:41.390773Z",
     "start_time": "2025-05-05T22:38:39.206339Z"
    }
   },
   "cell_type": "code",
   "source": [
    "# Load the dataset\n",
    "book_df= pd.read_csv('books.csv')\n",
    "rating_df= pd.read_csv('ratings.csv')"
   ],
   "id": "eeff6e01101280e6",
   "outputs": [],
   "execution_count": 2
  },
  {
   "metadata": {
    "ExecuteTime": {
     "end_time": "2025-05-05T22:38:42.054699Z",
     "start_time": "2025-05-05T22:38:42.009151Z"
    }
   },
   "cell_type": "code",
   "source": [
    "# Display the first few rows of the book dataset\n",
    "book_df.head()"
   ],
   "id": "80da95a593e8ccbe",
   "outputs": [
    {
     "data": {
      "text/plain": [
       "   book_id  goodreads_book_id  best_book_id  work_id  books_count       isbn  \\\n",
       "0        1            2767052       2767052  2792775          272  439023483   \n",
       "1        2                  3             3  4640799          491  439554934   \n",
       "2        3              41865         41865  3212258          226  316015849   \n",
       "3        4               2657          2657  3275794          487   61120081   \n",
       "4        5               4671          4671   245494         1356  743273567   \n",
       "\n",
       "         isbn13                      authors  original_publication_year  \\\n",
       "0  9.780439e+12              Suzanne Collins                     2008.0   \n",
       "1  9.780440e+12  J.K. Rowling, Mary GrandPré                     1997.0   \n",
       "2  9.780316e+12              Stephenie Meyer                     2005.0   \n",
       "3  9.780061e+12                   Harper Lee                     1960.0   \n",
       "4  9.780743e+12          F. Scott Fitzgerald                     1925.0   \n",
       "\n",
       "                             original_title  ... ratings_count  \\\n",
       "0                          The Hunger Games  ...       4780653   \n",
       "1  Harry Potter and the Philosopher's Stone  ...       4602479   \n",
       "2                                  Twilight  ...       3866839   \n",
       "3                     To Kill a Mockingbird  ...       3198671   \n",
       "4                          The Great Gatsby  ...       2683664   \n",
       "\n",
       "  work_ratings_count  work_text_reviews_count  ratings_1  ratings_2  \\\n",
       "0            4942365                   155254      66715     127936   \n",
       "1            4800065                    75867      75504     101676   \n",
       "2            3916824                    95009     456191     436802   \n",
       "3            3340896                    72586      60427     117415   \n",
       "4            2773745                    51992      86236     197621   \n",
       "\n",
       "   ratings_3  ratings_4  ratings_5  \\\n",
       "0     560092    1481305    2706317   \n",
       "1     455024    1156318    3011543   \n",
       "2     793319     875073    1355439   \n",
       "3     446835    1001952    1714267   \n",
       "4     606158     936012     947718   \n",
       "\n",
       "                                           image_url  \\\n",
       "0  https://images.gr-assets.com/books/1447303603m...   \n",
       "1  https://images.gr-assets.com/books/1474154022m...   \n",
       "2  https://images.gr-assets.com/books/1361039443m...   \n",
       "3  https://images.gr-assets.com/books/1361975680m...   \n",
       "4  https://images.gr-assets.com/books/1490528560m...   \n",
       "\n",
       "                                     small_image_url  \n",
       "0  https://images.gr-assets.com/books/1447303603s...  \n",
       "1  https://images.gr-assets.com/books/1474154022s...  \n",
       "2  https://images.gr-assets.com/books/1361039443s...  \n",
       "3  https://images.gr-assets.com/books/1361975680s...  \n",
       "4  https://images.gr-assets.com/books/1490528560s...  \n",
       "\n",
       "[5 rows x 23 columns]"
      ],
      "text/html": [
       "<div>\n",
       "<style scoped>\n",
       "    .dataframe tbody tr th:only-of-type {\n",
       "        vertical-align: middle;\n",
       "    }\n",
       "\n",
       "    .dataframe tbody tr th {\n",
       "        vertical-align: top;\n",
       "    }\n",
       "\n",
       "    .dataframe thead th {\n",
       "        text-align: right;\n",
       "    }\n",
       "</style>\n",
       "<table border=\"1\" class=\"dataframe\">\n",
       "  <thead>\n",
       "    <tr style=\"text-align: right;\">\n",
       "      <th></th>\n",
       "      <th>book_id</th>\n",
       "      <th>goodreads_book_id</th>\n",
       "      <th>best_book_id</th>\n",
       "      <th>work_id</th>\n",
       "      <th>books_count</th>\n",
       "      <th>isbn</th>\n",
       "      <th>isbn13</th>\n",
       "      <th>authors</th>\n",
       "      <th>original_publication_year</th>\n",
       "      <th>original_title</th>\n",
       "      <th>...</th>\n",
       "      <th>ratings_count</th>\n",
       "      <th>work_ratings_count</th>\n",
       "      <th>work_text_reviews_count</th>\n",
       "      <th>ratings_1</th>\n",
       "      <th>ratings_2</th>\n",
       "      <th>ratings_3</th>\n",
       "      <th>ratings_4</th>\n",
       "      <th>ratings_5</th>\n",
       "      <th>image_url</th>\n",
       "      <th>small_image_url</th>\n",
       "    </tr>\n",
       "  </thead>\n",
       "  <tbody>\n",
       "    <tr>\n",
       "      <th>0</th>\n",
       "      <td>1</td>\n",
       "      <td>2767052</td>\n",
       "      <td>2767052</td>\n",
       "      <td>2792775</td>\n",
       "      <td>272</td>\n",
       "      <td>439023483</td>\n",
       "      <td>9.780439e+12</td>\n",
       "      <td>Suzanne Collins</td>\n",
       "      <td>2008.0</td>\n",
       "      <td>The Hunger Games</td>\n",
       "      <td>...</td>\n",
       "      <td>4780653</td>\n",
       "      <td>4942365</td>\n",
       "      <td>155254</td>\n",
       "      <td>66715</td>\n",
       "      <td>127936</td>\n",
       "      <td>560092</td>\n",
       "      <td>1481305</td>\n",
       "      <td>2706317</td>\n",
       "      <td>https://images.gr-assets.com/books/1447303603m...</td>\n",
       "      <td>https://images.gr-assets.com/books/1447303603s...</td>\n",
       "    </tr>\n",
       "    <tr>\n",
       "      <th>1</th>\n",
       "      <td>2</td>\n",
       "      <td>3</td>\n",
       "      <td>3</td>\n",
       "      <td>4640799</td>\n",
       "      <td>491</td>\n",
       "      <td>439554934</td>\n",
       "      <td>9.780440e+12</td>\n",
       "      <td>J.K. Rowling, Mary GrandPré</td>\n",
       "      <td>1997.0</td>\n",
       "      <td>Harry Potter and the Philosopher's Stone</td>\n",
       "      <td>...</td>\n",
       "      <td>4602479</td>\n",
       "      <td>4800065</td>\n",
       "      <td>75867</td>\n",
       "      <td>75504</td>\n",
       "      <td>101676</td>\n",
       "      <td>455024</td>\n",
       "      <td>1156318</td>\n",
       "      <td>3011543</td>\n",
       "      <td>https://images.gr-assets.com/books/1474154022m...</td>\n",
       "      <td>https://images.gr-assets.com/books/1474154022s...</td>\n",
       "    </tr>\n",
       "    <tr>\n",
       "      <th>2</th>\n",
       "      <td>3</td>\n",
       "      <td>41865</td>\n",
       "      <td>41865</td>\n",
       "      <td>3212258</td>\n",
       "      <td>226</td>\n",
       "      <td>316015849</td>\n",
       "      <td>9.780316e+12</td>\n",
       "      <td>Stephenie Meyer</td>\n",
       "      <td>2005.0</td>\n",
       "      <td>Twilight</td>\n",
       "      <td>...</td>\n",
       "      <td>3866839</td>\n",
       "      <td>3916824</td>\n",
       "      <td>95009</td>\n",
       "      <td>456191</td>\n",
       "      <td>436802</td>\n",
       "      <td>793319</td>\n",
       "      <td>875073</td>\n",
       "      <td>1355439</td>\n",
       "      <td>https://images.gr-assets.com/books/1361039443m...</td>\n",
       "      <td>https://images.gr-assets.com/books/1361039443s...</td>\n",
       "    </tr>\n",
       "    <tr>\n",
       "      <th>3</th>\n",
       "      <td>4</td>\n",
       "      <td>2657</td>\n",
       "      <td>2657</td>\n",
       "      <td>3275794</td>\n",
       "      <td>487</td>\n",
       "      <td>61120081</td>\n",
       "      <td>9.780061e+12</td>\n",
       "      <td>Harper Lee</td>\n",
       "      <td>1960.0</td>\n",
       "      <td>To Kill a Mockingbird</td>\n",
       "      <td>...</td>\n",
       "      <td>3198671</td>\n",
       "      <td>3340896</td>\n",
       "      <td>72586</td>\n",
       "      <td>60427</td>\n",
       "      <td>117415</td>\n",
       "      <td>446835</td>\n",
       "      <td>1001952</td>\n",
       "      <td>1714267</td>\n",
       "      <td>https://images.gr-assets.com/books/1361975680m...</td>\n",
       "      <td>https://images.gr-assets.com/books/1361975680s...</td>\n",
       "    </tr>\n",
       "    <tr>\n",
       "      <th>4</th>\n",
       "      <td>5</td>\n",
       "      <td>4671</td>\n",
       "      <td>4671</td>\n",
       "      <td>245494</td>\n",
       "      <td>1356</td>\n",
       "      <td>743273567</td>\n",
       "      <td>9.780743e+12</td>\n",
       "      <td>F. Scott Fitzgerald</td>\n",
       "      <td>1925.0</td>\n",
       "      <td>The Great Gatsby</td>\n",
       "      <td>...</td>\n",
       "      <td>2683664</td>\n",
       "      <td>2773745</td>\n",
       "      <td>51992</td>\n",
       "      <td>86236</td>\n",
       "      <td>197621</td>\n",
       "      <td>606158</td>\n",
       "      <td>936012</td>\n",
       "      <td>947718</td>\n",
       "      <td>https://images.gr-assets.com/books/1490528560m...</td>\n",
       "      <td>https://images.gr-assets.com/books/1490528560s...</td>\n",
       "    </tr>\n",
       "  </tbody>\n",
       "</table>\n",
       "<p>5 rows × 23 columns</p>\n",
       "</div>"
      ]
     },
     "execution_count": 3,
     "metadata": {},
     "output_type": "execute_result"
    }
   ],
   "execution_count": 3
  },
  {
   "metadata": {
    "ExecuteTime": {
     "end_time": "2025-05-05T22:38:42.177338Z",
     "start_time": "2025-05-05T22:38:42.163122Z"
    }
   },
   "cell_type": "code",
   "source": [
    "# Display the shape of the book dataset\n",
    "book_df.shape"
   ],
   "id": "d3a12d9746ef0a96",
   "outputs": [
    {
     "data": {
      "text/plain": [
       "(10000, 23)"
      ]
     },
     "execution_count": 4,
     "metadata": {},
     "output_type": "execute_result"
    }
   ],
   "execution_count": 4
  },
  {
   "metadata": {
    "ExecuteTime": {
     "end_time": "2025-05-05T22:38:42.346253Z",
     "start_time": "2025-05-05T22:38:42.316714Z"
    }
   },
   "cell_type": "code",
   "source": [
    "# Check for missing values in the book dataset\n",
    "print(book_df.isnull().sum().sort_values())"
   ],
   "id": "d7da04d5b4c60be1",
   "outputs": [
    {
     "name": "stdout",
     "output_type": "stream",
     "text": [
      "book_id                         0\n",
      "ratings_5                       0\n",
      "ratings_4                       0\n",
      "ratings_3                       0\n",
      "ratings_2                       0\n",
      "ratings_1                       0\n",
      "work_text_reviews_count         0\n",
      "work_ratings_count              0\n",
      "ratings_count                   0\n",
      "average_rating                  0\n",
      "image_url                       0\n",
      "small_image_url                 0\n",
      "authors                         0\n",
      "books_count                     0\n",
      "work_id                         0\n",
      "best_book_id                    0\n",
      "goodreads_book_id               0\n",
      "title                           0\n",
      "original_publication_year      21\n",
      "original_title                585\n",
      "isbn13                        585\n",
      "isbn                          700\n",
      "language_code                1084\n",
      "dtype: int64\n"
     ]
    }
   ],
   "execution_count": 5
  },
  {
   "metadata": {
    "ExecuteTime": {
     "end_time": "2025-05-05T22:38:42.486764Z",
     "start_time": "2025-05-05T22:38:42.465135Z"
    }
   },
   "cell_type": "code",
   "source": [
    "# Display the first few rows of the rating dataset\n",
    "rating_df.head()"
   ],
   "id": "39478119599698d4",
   "outputs": [
    {
     "data": {
      "text/plain": [
       "   user_id  book_id  rating\n",
       "0        1      258       5\n",
       "1        2     4081       4\n",
       "2        2      260       5\n",
       "3        2     9296       5\n",
       "4        2     2318       3"
      ],
      "text/html": [
       "<div>\n",
       "<style scoped>\n",
       "    .dataframe tbody tr th:only-of-type {\n",
       "        vertical-align: middle;\n",
       "    }\n",
       "\n",
       "    .dataframe tbody tr th {\n",
       "        vertical-align: top;\n",
       "    }\n",
       "\n",
       "    .dataframe thead th {\n",
       "        text-align: right;\n",
       "    }\n",
       "</style>\n",
       "<table border=\"1\" class=\"dataframe\">\n",
       "  <thead>\n",
       "    <tr style=\"text-align: right;\">\n",
       "      <th></th>\n",
       "      <th>user_id</th>\n",
       "      <th>book_id</th>\n",
       "      <th>rating</th>\n",
       "    </tr>\n",
       "  </thead>\n",
       "  <tbody>\n",
       "    <tr>\n",
       "      <th>0</th>\n",
       "      <td>1</td>\n",
       "      <td>258</td>\n",
       "      <td>5</td>\n",
       "    </tr>\n",
       "    <tr>\n",
       "      <th>1</th>\n",
       "      <td>2</td>\n",
       "      <td>4081</td>\n",
       "      <td>4</td>\n",
       "    </tr>\n",
       "    <tr>\n",
       "      <th>2</th>\n",
       "      <td>2</td>\n",
       "      <td>260</td>\n",
       "      <td>5</td>\n",
       "    </tr>\n",
       "    <tr>\n",
       "      <th>3</th>\n",
       "      <td>2</td>\n",
       "      <td>9296</td>\n",
       "      <td>5</td>\n",
       "    </tr>\n",
       "    <tr>\n",
       "      <th>4</th>\n",
       "      <td>2</td>\n",
       "      <td>2318</td>\n",
       "      <td>3</td>\n",
       "    </tr>\n",
       "  </tbody>\n",
       "</table>\n",
       "</div>"
      ]
     },
     "execution_count": 6,
     "metadata": {},
     "output_type": "execute_result"
    }
   ],
   "execution_count": 6
  },
  {
   "metadata": {
    "ExecuteTime": {
     "end_time": "2025-05-05T22:38:42.584908Z",
     "start_time": "2025-05-05T22:38:42.572076Z"
    }
   },
   "cell_type": "code",
   "source": [
    "# Shape of the rating dataset\n",
    "rating_df.shape"
   ],
   "id": "c9a29b988343876d",
   "outputs": [
    {
     "data": {
      "text/plain": [
       "(5976479, 3)"
      ]
     },
     "execution_count": 7,
     "metadata": {},
     "output_type": "execute_result"
    }
   ],
   "execution_count": 7
  },
  {
   "metadata": {},
   "cell_type": "markdown",
   "source": [
    "The ratings dataset has 5976479 rows and 3 columns. The columns are:\n",
    "- **user_id**: Unique identifier for each user.\n",
    "- **book_id**: Unique identifier for each book.\n",
    "- **rating**: Rating given by the user to the book, typically on a scale from 1 to 5."
   ],
   "id": "572a9db65edf8cc1"
  },
  {
   "metadata": {
    "ExecuteTime": {
     "end_time": "2025-05-05T22:38:42.709500Z",
     "start_time": "2025-05-05T22:38:42.691688Z"
    }
   },
   "cell_type": "code",
   "source": [
    "# Display the info of the rating dataset\n",
    "print(rating_df.info())"
   ],
   "id": "f0ca2d49ba866b65",
   "outputs": [
    {
     "name": "stdout",
     "output_type": "stream",
     "text": [
      "<class 'pandas.core.frame.DataFrame'>\n",
      "RangeIndex: 5976479 entries, 0 to 5976478\n",
      "Data columns (total 3 columns):\n",
      " #   Column   Dtype\n",
      "---  ------   -----\n",
      " 0   user_id  int64\n",
      " 1   book_id  int64\n",
      " 2   rating   int64\n",
      "dtypes: int64(3)\n",
      "memory usage: 136.8 MB\n",
      "None\n"
     ]
    }
   ],
   "execution_count": 8
  },
  {
   "metadata": {
    "ExecuteTime": {
     "end_time": "2025-05-05T22:38:51.122248Z",
     "start_time": "2025-05-05T22:38:42.745909Z"
    }
   },
   "cell_type": "code",
   "source": [
    "# Only need user_id, book_id, and rating for modeling\n",
    "reader = Reader(rating_scale=(1, 5))\n",
    "data = Dataset.load_from_df(rating_df[['user_id', 'book_id', 'rating']], reader)\n"
   ],
   "id": "e1087b89c9152177",
   "outputs": [],
   "execution_count": 9
  },
  {
   "metadata": {
    "ExecuteTime": {
     "end_time": "2025-05-05T22:38:51.165348Z",
     "start_time": "2025-05-05T22:38:51.159614Z"
    }
   },
   "cell_type": "code",
   "source": "print(type(data))",
   "id": "88f6122e950b2119",
   "outputs": [
    {
     "name": "stdout",
     "output_type": "stream",
     "text": [
      "<class 'surprise.dataset.DatasetAutoFolds'>\n"
     ]
    }
   ],
   "execution_count": 10
  },
  {
   "metadata": {},
   "cell_type": "markdown",
   "source": [
    "### Task 5: Split into Train and Test Sets\n",
    "\n",
    "Once the dataset is loaded in the correct format, the next important step is to split it into training and testing sets. This step is essential for evaluating the performance of our collaborative filtering model in a fair and unbiased way. The idea is to train the model on one portion of the data (the training set) and then test how well it performs on unseen data (the test set).\n",
    "\n",
    "In this task, we use the `train_test_split` function provided by the Surprise library. It allows us to randomly divide the dataset into a training set and a test set based on a specified ratio—commonly, 75–80% of the data is used for training, and the remaining 20–25% is used for testing. This ensures that the model learns patterns from the majority of the data but is still challenged to predict ratings for books it has not seen during training.\n",
    "\n",
    "By doing this split, we simulate a real-world recommendation scenario where we attempt to predict how a user might rate a book they haven’t rated yet, based on patterns learned from other users. It also allows us to calculate important evaluation metrics such as RMSE (Root Mean Squared Error), which helps in understanding how accurate our recommendations are.\n",
    "\n",
    "This step lays the foundation for model training and performance evaluation, both of which are crucial in building a reliable recommender system.\n"
   ],
   "id": "1819dc23c9373820"
  },
  {
   "metadata": {
    "ExecuteTime": {
     "end_time": "2025-05-05T22:39:07.322763Z",
     "start_time": "2025-05-05T22:38:51.196481Z"
    }
   },
   "cell_type": "code",
   "source": "trainset, testset = train_test_split(data, test_size=0.2, random_state=42)",
   "id": "fae9c3471e183fb2",
   "outputs": [],
   "execution_count": 11
  },
  {
   "metadata": {},
   "cell_type": "markdown",
   "source": [
    "### Task 6: Fit a Recommender Model (SVD)\n",
    "\n",
    "After preparing our training and test datasets, the next step is to fit a collaborative filtering model that can learn user preferences and make predictions. For this task, we use the **Singular Value Decomposition (SVD)** algorithm, which is a popular and powerful matrix factorization technique for building recommender systems.\n",
    "\n",
    "SVD works by decomposing the large user-item rating matrix into a set of lower-dimensional matrices that capture the latent features (or hidden patterns) in user preferences and item characteristics. Essentially, it learns how users and items relate to each other in terms of these hidden features, even if they haven’t directly interacted before. This makes it ideal for predicting how a user might rate a book they haven’t yet rated.\n",
    "\n",
    "Using the Surprise library, we initialize an instance of the `SVD` model and train it on the training set. The model learns from the known user-book ratings and begins to understand the underlying structure of the data—such as which users tend to rate similarly and which books tend to receive similar ratings.\n",
    "\n",
    "Fitting the model is a critical step in the recommendation pipeline, as it enables the system to generate personalized predictions based on past behavior. Once trained, the model can be evaluated on unseen data to assess how accurately it predicts user ratings, which we will explore in the following tasks.\n"
   ],
   "id": "4c350b2c724eda2"
  },
  {
   "metadata": {
    "ExecuteTime": {
     "end_time": "2025-05-05T22:40:23.344006Z",
     "start_time": "2025-05-05T22:39:07.348223Z"
    }
   },
   "cell_type": "code",
   "source": [
    "model = SVD()\n",
    "model.fit(trainset)"
   ],
   "id": "fb0b256ced145821",
   "outputs": [
    {
     "data": {
      "text/plain": [
       "<surprise.prediction_algorithms.matrix_factorization.SVD at 0x11e892960>"
      ]
     },
     "execution_count": 12,
     "metadata": {},
     "output_type": "execute_result"
    }
   ],
   "execution_count": 12
  },
  {
   "metadata": {},
   "cell_type": "markdown",
   "source": [
    "### Task 7: Make Predictions and Evaluate\n",
    "\n",
    "With the SVD model trained on our data, we now move on to making predictions and evaluating how well the model performs. In this step, we use the test set to simulate how the model would behave in a real-world scenario—predicting how users would rate books they haven't rated yet, based on learned patterns from the training data.\n",
    "\n",
    "Using the Surprise library's prediction tools, we generate predicted ratings for the user-book pairs in the test set. These predictions are then compared against the actual ratings to assess the model’s accuracy. To do this, we calculate two commonly used evaluation metrics in recommender systems: **Root Mean Squared Error (RMSE)** and **Mean Absolute Error (MAE)**.\n",
    "\n",
    "- **RMSE** gives more weight to larger errors and is useful when we want to penalize significant deviations in prediction.\n",
    "- **MAE**, on the other hand, provides the average absolute difference between predicted and actual ratings, offering a more interpretable measure of typical prediction error."
   ],
   "id": "742ad76237e325e0"
  },
  {
   "metadata": {
    "ExecuteTime": {
     "end_time": "2025-05-05T22:40:40.147008Z",
     "start_time": "2025-05-05T22:40:23.372145Z"
    }
   },
   "cell_type": "code",
   "source": "predictions = model.test(testset)",
   "id": "8af74cba5e0673b1",
   "outputs": [],
   "execution_count": 13
  },
  {
   "metadata": {
    "ExecuteTime": {
     "end_time": "2025-05-05T22:40:41.757547Z",
     "start_time": "2025-05-05T22:40:40.174374Z"
    }
   },
   "cell_type": "code",
   "source": [
    "# Accuracy evaluation\n",
    "rmse = accuracy.rmse(predictions, verbose=False)\n",
    "mae = accuracy.mae(predictions, verbose=False)\n",
    "\n",
    "print(\"RMSE:\", round(rmse, 4))\n",
    "print(\"MAE:\", round(mae, 4))"
   ],
   "id": "823b08848d208ddc",
   "outputs": [
    {
     "name": "stdout",
     "output_type": "stream",
     "text": [
      "RMSE: 0.8319\n",
      "MAE: 0.642\n"
     ]
    }
   ],
   "execution_count": 14
  },
  {
   "metadata": {},
   "cell_type": "markdown",
   "source": [
    "**Interpretations: Make Predictions and Evaluate**\n",
    "\n",
    "For our model, we observed the following results:\n",
    "- **RMSE: 0.8319**\n",
    "- **MAE: 0.642**\n",
    "\n",
    "These values suggest that, on average, the model's predicted ratings are fairly close to the actual ratings. An RMSE under 1.0 is generally considered good in rating prediction tasks, and a lower MAE indicates that the model is making relatively accurate predictions. While there is always room for improvement through tuning or model experimentation, these results indicate that the SVD model is performing reasonably well on our dataset.\n"
   ],
   "id": "69935c3a315c131e"
  },
  {
   "metadata": {},
   "cell_type": "markdown",
   "source": [
    "### Task 8: Hyperparameter Tuning with GridSearchCV\n",
    "\n",
    "To further improve the performance of our recommendation model, we perform **hyperparameter tuning** using `GridSearchCV` from the Surprise library. Hyperparameters are configuration settings that govern the behavior of the learning algorithm, such as the number of training epochs, learning rate, and regularization strength. Choosing the right combination of these can significantly enhance model accuracy.\n",
    "\n",
    "In this task, we created a parameter grid with a few candidate values for `n_epochs`, `lr_all`, and `reg_all`—which control the number of training iterations, the global learning rate, and the regularization term, respectively. To make the grid search computationally efficient, we randomly sampled 100,000 rows from the dataset to form a representative subset. This subset was then converted into Surprise's format for compatibility with `GridSearchCV`.\n",
    "\n",
    "The grid search was run with 3-fold cross-validation, using **RMSE** as the performance metric. This means the dataset was split into three parts multiple times to ensure robust evaluation across different data splits. After testing all parameter combinations, the model with the best RMSE score was identified."
   ],
   "id": "23b75774adb722e2"
  },
  {
   "metadata": {
    "ExecuteTime": {
     "end_time": "2025-05-05T22:40:43.347458Z",
     "start_time": "2025-05-05T22:40:41.866572Z"
    }
   },
   "cell_type": "code",
   "source": [
    "# Sample 100,000 rows randomly\n",
    "subset_df = shuffle(rating_df).iloc[:100000]\n",
    "\n",
    "# Re-create Surprise data format from subset\n",
    "reader = Reader(rating_scale=(subset_df.rating.min(), subset_df.rating.max()))\n",
    "subset_data = Dataset.load_from_df(subset_df[['user_id', 'book_id', 'rating']], reader)"
   ],
   "id": "46ae903f491f2597",
   "outputs": [],
   "execution_count": 15
  },
  {
   "metadata": {
    "ExecuteTime": {
     "end_time": "2025-05-05T22:56:30.430271Z",
     "start_time": "2025-05-05T22:40:43.361035Z"
    }
   },
   "cell_type": "code",
   "source": [
    "# Define parameter grid\n",
    "param_grid = {\n",
    "    'n_epochs': [10, 20],\n",
    "    'lr_all': [0.002, 0.005],\n",
    "    'reg_all': [0.4, 0.6]\n",
    "}\n",
    "\n",
    "# Run GridSearchCV with 3-fold CV\n",
    "gs = GridSearchCV(SVD, param_grid, measures=['rmse'], cv=3, joblib_verbose=1)\n",
    "gs.fit(subset_data)\n"
   ],
   "id": "cc0898b36290617a",
   "outputs": [],
   "execution_count": 16
  },
  {
   "metadata": {
    "ExecuteTime": {
     "end_time": "2025-05-05T22:56:30.481312Z",
     "start_time": "2025-05-05T22:56:30.472847Z"
    }
   },
   "cell_type": "code",
   "source": [
    "# Round RMSE to 3 decimal places\n",
    "print(f\"Best RMSE Score: {gs.best_score['rmse']:.3f}\")\n",
    "\n",
    "# Pretty-print the parameters\n",
    "import pprint\n",
    "pprint.pprint(gs.best_params['rmse'])\n"
   ],
   "id": "4a9da7b1d5969bad",
   "outputs": [
    {
     "name": "stdout",
     "output_type": "stream",
     "text": [
      "Best RMSE Score: 0.958\n",
      "{'lr_all': 0.005, 'n_epochs': 20, 'reg_all': 0.4}\n"
     ]
    }
   ],
   "execution_count": 17
  },
  {
   "metadata": {
    "ExecuteTime": {
     "end_time": "2025-05-05T22:58:21.894210Z",
     "start_time": "2025-05-05T22:56:30.607261Z"
    }
   },
   "cell_type": "code",
   "source": [
    "# Use the best parameters from GridSearch\n",
    "best_params = gs.best_params['rmse']\n",
    "best_model = SVD(**best_params)\n",
    "\n",
    "# Train on full training set (already created earlier)\n",
    "best_model.fit(trainset)\n"
   ],
   "id": "a21823d9f647fec0",
   "outputs": [
    {
     "data": {
      "text/plain": [
       "<surprise.prediction_algorithms.matrix_factorization.SVD at 0x12bd3c1a0>"
      ]
     },
     "execution_count": 18,
     "metadata": {},
     "output_type": "execute_result"
    }
   ],
   "execution_count": 18
  },
  {
   "metadata": {
    "ExecuteTime": {
     "end_time": "2025-05-05T22:58:43.068612Z",
     "start_time": "2025-05-05T22:58:22.116490Z"
    }
   },
   "cell_type": "code",
   "source": [
    "# Generate predictions\n",
    "predictions = best_model.test(testset)\n",
    "\n",
    "# Evaluate and format\n",
    "rmse = accuracy.rmse(predictions, verbose=False)\n",
    "mae = accuracy.mae(predictions, verbose=False)\n",
    "\n",
    "print(f\"RMSE: {rmse:.4f}\")\n",
    "print(f\"MAE:  {mae:.4f}\")\n"
   ],
   "id": "fc7b2cf834e7259",
   "outputs": [
    {
     "name": "stdout",
     "output_type": "stream",
     "text": [
      "RMSE: 0.8673\n",
      "MAE:  0.6859\n"
     ]
    }
   ],
   "execution_count": 19
  },
  {
   "metadata": {},
   "cell_type": "markdown",
   "source": [
    "**Results and discussion on hyperparameter tuning:**\n",
    "\n",
    "The best combination of parameters was:\n",
    "- **`n_epochs`: 20**\n",
    "- **`lr_all`: 0.005**\n",
    "- **`reg_all`: 0.4**\n",
    "\n",
    "This configuration yielded a **best RMSE score of 0.958** during cross-validation. We then retrained the `SVD` model using these optimal hyperparameters on the full training set and evaluated it on the original test set. The tuned model achieved:\n",
    "- **RMSE: 0.8673**\n",
    "- **MAE:  0.6859**\n",
    "\n",
    "These results demonstrate that tuning helped reduce the prediction error compared to the default model. Although the improvement might appear modest, even small gains in RMSE and MAE can lead to noticeably better user experiences in real-world recommendation systems. Hyperparameter tuning thus plays a crucial role in optimizing model performance."
   ],
   "id": "36b69e9e5fbe3fd5"
  },
  {
   "metadata": {},
   "cell_type": "markdown",
   "source": "### Visualize the Predictions",
   "id": "8ffb7f4ad01bcdd5"
  },
  {
   "metadata": {
    "ExecuteTime": {
     "end_time": "2025-05-05T22:58:43.994953Z",
     "start_time": "2025-05-05T22:58:43.387709Z"
    }
   },
   "cell_type": "code",
   "source": [
    "# Extract true and predicted ratings\n",
    "y_true = [pred.r_ui for pred in predictions]\n",
    "y_pred = [pred.est for pred in predictions]"
   ],
   "id": "f31562b35411c5b",
   "outputs": [],
   "execution_count": 20
  },
  {
   "metadata": {
    "ExecuteTime": {
     "end_time": "2025-05-05T22:58:52.228556Z",
     "start_time": "2025-05-05T22:58:44.058758Z"
    }
   },
   "cell_type": "code",
   "source": [
    "errors = np.array(y_true) - np.array(y_pred)\n",
    "\n",
    "plt.figure(figsize=(8, 4))\n",
    "sns.histplot(errors, kde=True, bins=30, color='purple')\n",
    "plt.title(\"Distribution of Prediction Errors\")\n",
    "plt.xlabel(\"Error (Actual - Predicted)\")\n",
    "plt.ylabel(\"Frequency\")\n",
    "plt.axvline(x=0, color='red', linestyle='--')\n",
    "plt.grid(True)\n",
    "plt.show()"
   ],
   "id": "da2666d5a3afa82c",
   "outputs": [
    {
     "data": {
      "text/plain": [
       "<Figure size 800x400 with 1 Axes>"
      ],
      "image/png": "[encoded data removed]"
     },
     "metadata": {},
     "output_type": "display_data"
    }
   ],
   "execution_count": 21
  },
  {
   "metadata": {
    "ExecuteTime": {
     "end_time": "2025-05-05T22:59:01.715400Z",
     "start_time": "2025-05-05T22:58:52.265367Z"
    }
   },
   "cell_type": "code",
   "source": [
    "df_preds = pd.DataFrame({\n",
    "    'Actual': y_true,\n",
    "    'Predicted': y_pred\n",
    "})\n",
    "\n",
    "plt.figure(figsize=(8, 4))\n",
    "sns.boxplot(data=df_preds, orient='h')\n",
    "plt.title(\"Boxplot of Actual vs. Predicted Ratings\")\n",
    "plt.xlabel(\"Rating\")\n",
    "plt.show()\n"
   ],
   "id": "9aa4e2c5675322c1",
   "outputs": [
    {
     "data": {
      "text/plain": [
       "<Figure size 800x400 with 1 Axes>"
      ],
      "image/png": "[encoded data removed]"
     },
     "metadata": {},
     "output_type": "display_data"
    }
   ],
   "execution_count": 22
  },
  {
   "metadata": {},
   "cell_type": "markdown",
   "source": [
    "### Visualizing Prediction Errors and Model Behavior\n",
    "\n",
    "To better understand the behavior of our collaborative filtering model, we visualized both the distribution of prediction errors and the comparison between actual and predicted ratings. These plots provide valuable insights into the model's performance beyond just numerical accuracy metrics like RMSE and MAE.\n",
    "\n",
    "#### Distribution of Prediction Errors\n",
    "\n",
    "The histogram of prediction errors (actual rating minus predicted rating) shows a roughly normal distribution centered around zero. This is a good sign—it indicates that the model is generally unbiased, meaning it does not systematically overestimate or underestimate user ratings. Most of the errors fall between -1 and +1, which shows the predictions are reasonably close to the true ratings in most cases. However, the slightly skewed tail on the left suggests that there are more instances where the model underestimates the ratings than overestimates. This could point to a conservative bias, where the model avoids overly optimistic predictions.\n",
    "\n",
    "#### Boxplot of Actual vs. Predicted Ratings\n",
    "\n",
    "The boxplot comparing actual and predicted ratings reveals further insights. Actual ratings cover a wider range, showing variability from 1 to 5 with a median around 4. In contrast, predicted ratings are tightly clustered between 3 and 4.5, with fewer outliers. This is a common behavior in collaborative filtering models, especially those trained on implicit or sparse rating data—they tend to gravitate toward the global average or \"safe\" predictions, avoiding extremes. While this helps reduce error on average, it can reduce the model's usefulness for personalized or sharply opinionated users who tend to rate books very low or very high.\n",
    "\n",
    "These visualizations are instrumental in diagnosing areas where the model might be improved. For example, incorporating more contextual or content-based features could help the model better predict extreme user preferences. Also, the limited range of predicted values might indicate a need for tuning or even blending with other recommender system approaches.\n"
   ],
   "id": "979717982bdbe5f1"
  },
  {
   "metadata": {},
   "cell_type": "markdown",
   "source": [
    "### Comparison: Results Without and With Hyperparameter Tuning\n",
    "\n",
    "To evaluate the impact of hyperparameter tuning on model performance, let’s compare the results of the original `SVD` model (without tuning) to the one we trained after fine-tuning the hyperparameters using `GridSearchCV`.\n",
    "\n",
    "#### **Model Without Hyperparameter Tuning:**\n",
    "- **RMSE:** 0.8319\n",
    "- **MAE:** 0.642\n",
    "\n",
    "The initial model, built using default hyperparameters, provided a reasonable performance with an RMSE of 0.8319 and MAE of 0.642. These results are indicative of a good starting point, where the model's predictions are fairly close to the actual ratings on average, with only a few prediction errors causing slightly larger deviations.\n",
    "\n",
    "#### **Model With Hyperparameter Tuning:**\n",
    "- **RMSE:** 0.8673\n",
    "- **MAE:** 0.6859\n",
    "\n",
    "After fine-tuning the hyperparameters using `GridSearchCV`, we achieved a tuned model with a RMSE of 0.8673 and an MAE of 0.6859. While the RMSE increased slightly, the MAE increased by a larger margin. This suggests that while the overall deviation between predicted and actual ratings has increased, the tuned model might have focused on improving certain parameters that didn't perfectly translate into lower RMSE but led to a more robust model overall.\n",
    "\n",
    "#### **Limitation of Using a Subset for GridSearchCV:**\n",
    "\n",
    "One important consideration is the **limitation of using a subset of the data for the grid search**. In this case, we randomly sampled 100,000 rows from the dataset to form a representative subset for running the grid search. While this approach helps in speeding up the computation and testing various configurations, it may have introduced some bias. A smaller subset may not fully capture the diversity and complexity of the entire dataset, leading to suboptimal hyperparameter choices that do not generalize well when applied to the full dataset.\n",
    "\n",
    "The fact that we observed a **slight degradation in performance** after tuning could be partially due to the grid search being performed on a smaller sample. In a larger dataset, the relationships between users and items may be different, and the optimal hyperparameters discovered from a subset may not always be the best for the complete dataset.\n",
    "\n",
    "#### **Conclusion and Rationale:**\n",
    "\n",
    "When comparing the two models, we observe a **slight degradation in performance** with the tuned model in terms of both RMSE and MAE. While it’s expected that hyperparameter tuning should ideally improve the model's performance, the small increase in error metrics here might be due to overfitting, the choice of hyperparameter ranges, or the fact that we used a subset of the data for tuning.\n",
    "\n",
    "**Final Conclusion:**\n",
    "- **Without Hyperparameter Tuning**, the default model performed well with lower error metrics (RMSE and MAE), showing good accuracy for the task at hand.\n",
    "- **With Hyperparameter Tuning**, the model's performance saw a small deterioration in accuracy, indicating that the hyperparameter tuning process did not lead to a significant improvement for this specific dataset. This suggests that further tuning or experimenting with other algorithms might be necessary to optimize the model fully.\n",
    "\n",
    "Additionally, the use of a **data subset for grid search** could have impacted the results. A subset may not represent the entire dataset’s complexity, and tuning based on it might not generalize well to the full dataset. This limitation should be considered when interpreting the results.\n",
    "\n",
    "This comparison highlights the importance of experimenting with various configurations in machine learning models and recognizing that more complex configurations (through tuning) don't always guarantee better results. It's crucial to consider the specific dataset, model behavior, and limitations of the training data when making decisions about hyperparameter adjustments.\n"
   ],
   "id": "5f8da4a91dc9a0d4"
  }
 ],
 "metadata": {
  "kernelspec": {
   "display_name": "Python 3",
   "language": "python",
   "name": "python3"
  },
  "language_info": {
   "codemirror_mode": {
    "name": "ipython",
    "version": 2
   },
   "file_extension": ".py",
   "mimetype": "text/x-python",
   "name": "python",
   "nbconvert_exporter": "python",
   "pygments_lexer": "ipython2",
   "version": "2.7.6"
  }
 },
 "nbformat": 4,
 "nbformat_minor": 5
}

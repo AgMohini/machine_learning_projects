{
 "cells": [
  {
   "metadata": {},
   "cell_type": "markdown",
   "source": [
    "### Artificial Neural Network based on NFL Players Dataset:\n",
    "ANN models strive to learn relationships through different sets of data. With this information, ANN models can be used to predict outcomes. \n",
    "\n",
    "In this assignment, students will build an ANN, then write a comprehensive technical report as a Python Jupyter notebook (to include all code, code comments, all outputs, plots, and analysis). Make sure the project documentation contains a) problem statement, b) algorithm of the solution, c) analysis of the findings, and d) references.\n",
    "\n",
    "Download the \"NFL Players Dataset,\" located in the topic Resources. The dataset contains football players' characteristics.\n",
    "1. Select from a pool of 200 \"Active Players\" and 200 \"Retired Players.\" \n",
    "2. Define \"optimal team\" based on your decision of the player characteristics necessary to build a team:\n",
    "    - Starting offense (11 players): passing, rushing, and receiving.\n",
    "    - Starting special teams (11 players): punting, punt returns, and kick returns.\n",
    "    - Starting defense (11 players): tackles, sacks, safeties, and fumbles.\n",
    "3. Your task is to identify the optimal team from each pool comprised of 33 \"Active Player\" and \"Retired Player\" members. \n",
    "4. Examine the multilayer neural network MLP architecture depicted in the \"DSC-550 An Artificial Neural Network Model Image.\"\n",
    "5. Build a deep artificial neural network MLP to include the following: a) 1 input layer, b) as many hidden layers as you deem necessary, and c) an output layer fully connected to the hidden layers.\n",
    "6. Explain your architecture and how the NFL player characteristics are used as inputs.\n",
    "\n",
    "Activate the MLP by performing the following steps:\n",
    "\n",
    "1. Starting at the input layer, forward propagate the patterns of the training data through the network to generate an output.\n",
    "2. Based on the network's output, calculate the error that we want to minimize using a cost function that we will describe later.\n",
    "3. Back propagate the error, find its derivative with respect to each weight in the network, and update the model.\n",
    "4. Repeat steps 1 through 3 for multiple epochs and learn the weights of the MLP.\n",
    "5. Use forward propagation to calculate the network output and apply a threshold function to obtain the predicted class labels in the one-hot representation.\n",
    "6. Interpret the output of your MLP in the context of selecting an optimal football team."
   ],
   "id": "a46b35ab0030c943"
  },
  {
   "metadata": {},
   "cell_type": "markdown",
   "source": [
    "### Problem Statement\n",
    "To classify NFL players as either Active or Retired using performance metrics and then select balanced, high-performing teams of 33 players from each group using predicted probabilities from a deep MLP model.\n",
    "\n"
   ],
   "id": "f3227055ba5199d5"
  },
  {
   "metadata": {},
   "cell_type": "markdown",
   "source": [
    "### Dataset Overview: NFL Player Stats\n",
    "The dataset used in this project is sourced from Kaggle and contains career statistics for a large number of NFL players. It is structured to facilitate analysis across different player roles and positions, covering offensive, defensive, and special teams contributions.\n",
    "\n",
    "This dataset includes basic player metadata such as player ID, name, and positional role. It also contains a wide range of performance metrics that are aggregated over each player's career. These metrics enable detailed comparisons and evaluations of player performance.\n",
    "\n",
    "For offensive players, the dataset includes statistics such as passing yards, rushing attempts, receptions, and touchdowns. For defensive players, it provides data on tackles, interceptions, sacks, and forced fumbles. Special teams players are represented with statistics such as kick return yards, punt returns, and field goals made.\n",
    "\n",
    "The dataset consists of more than 10,000 player records and includes approximately 39 columns per player. It spans multiple decades of NFL history, making it possible to analyze both contemporary and historical players using consistent metrics."
   ],
   "id": "94d52a0f0af93197"
  },
  {
   "metadata": {
    "ExecuteTime": {
     "end_time": "2025-05-29T01:52:09.069670Z",
     "start_time": "2025-05-29T01:52:08.973134Z"
    }
   },
   "cell_type": "code",
   "source": [
    "# Import necessary libraries\n",
    "import pandas as pd\n",
    "import matplotlib.pyplot as plt\n",
    "from functools import reduce\n",
    "from tensorflow.keras.models import Sequential  # type: ignore\n",
    "from tensorflow.keras.layers import Dense, Dropout  # type: ignore\n",
    "from tensorflow.keras.optimizers import Adam # type: ignore\n",
    "from sklearn.metrics import classification_report, confusion_matrix\n",
    "from sklearn.model_selection import train_test_split\n",
    "from sklearn.preprocessing import StandardScaler"
   ],
   "id": "ee86bd425c009af4",
   "outputs": [],
   "execution_count": 74
  },
  {
   "metadata": {},
   "cell_type": "markdown",
   "source": [
    "### Library Overview\n",
    "\n",
    "- **pandas**: Used for data manipulation and analysis. It provides DataFrame structures that make it easy to clean, filter, and transform data.\n",
    "\n",
    "- **functools.reduce**: A functional programming tool used to apply a function cumulatively to items in a sequence. Useful for combining or aggregating data.\n",
    "\n",
    "- **tensorflow.keras.models.Sequential**: Part of TensorFlow's Keras API, this allows building deep learning models in a linear stack where layers are added sequentially.\n",
    "\n",
    "- **tensorflow.keras.layers.Dense, Dropout**: Dense adds fully connected neural network layers. Dropout is used for regularization by randomly disabling neurons during training to prevent overfitting.\n",
    "\n",
    "- **tensorflow.keras.optimizers.Adam**: An optimizer that combines the benefits of both AdaGrad and RMSProp. It adjusts learning rates during training to improve performance.\n",
    "\n",
    "- **sklearn.metrics.classification_report, confusion_matrix**: These functions evaluate classification models. `classification_report` provides precision, recall, and F1-score, while `confusion_matrix` shows the true vs. predicted label breakdown.\n",
    "\n",
    "- **sklearn.model_selection.train_test_split**: Splits the dataset into training and test subsets, allowing for evaluation of model performance on unseen data.\n",
    "\n",
    "- **sklearn.preprocessing.StandardScaler**: Standardizes features by removing the mean and scaling to unit variance. This is important for ensuring consistent input ranges to neural networks.\n"
   ],
   "id": "4e1d5d5ac5f1892a"
  },
  {
   "metadata": {
    "ExecuteTime": {
     "end_time": "2025-05-29T00:35:59.258463Z",
     "start_time": "2025-05-29T00:35:14.784535Z"
    }
   },
   "cell_type": "code",
   "source": [
    "combine_df = pd.read_csv('Project1_datasets/combine.csv')\n",
    "passer_df = pd.read_csv('Project1_datasets/passer.csv')\n",
    "rusher_df = pd.read_csv('Project1_datasets/rusher.csv')\n",
    "receiver_df = pd.read_csv('Project1_datasets/receiver.csv')\n",
    "tackles_df = pd.read_csv('Project1_datasets/tackles.csv')\n",
    "sacks_df = pd.read_csv('Project1_datasets/sacks.csv')\n",
    "fumbles_df = pd.read_csv('Project1_datasets/fumblForced.csv')\n",
    "interceptions_df = pd.read_csv('Project1_datasets/interceptions.csv')\n",
    "punt_df = pd.read_csv('Project1_datasets/kicks.csv')\n",
    "kick_return_df = pd.read_csv('Project1_datasets/kickReturns.csv')\n",
    "game_participation_df = pd.read_csv('Project1_datasets/gameParticipation.csv')\n",
    "play_df = pd.read_csv('Project1_datasets/plays.csv')"
   ],
   "id": "f10bdae432d244a6",
   "outputs": [],
   "execution_count": 4
  },
  {
   "metadata": {},
   "cell_type": "markdown",
   "source": [
    "### Overview of NFL Datasets\n",
    "\n",
    "The project uses a collection of CSV files from a comprehensive NFL dataset available on Kaggle. Each file captures different aspects of player performance and game participation. Below is a brief description of each dataset:\n",
    "\n",
    "- **combine.csv**: Contains player performance metrics from the NFL Combine, such as 40-yard dash time, vertical jump, and bench press. Useful for evaluating athleticism.\n",
    "\n",
    "- **passer.csv**: Includes statistics for players in the quarterback position, such as passing yards, completions, touchdowns, and interceptions.\n",
    "\n",
    "- **rusher.csv**: Contains rushing performance data for players, including attempts, rushing yards, and touchdowns.\n",
    "\n",
    "- **receiver.csv**: Holds data on receiving performance like receptions, yards, targets, and receiving touchdowns.\n",
    "\n",
    "- **tackles.csv**: Provides defensive metrics related to solo and assisted tackles made by players.\n",
    "\n",
    "- **sacks.csv**: Details the number of quarterback sacks recorded by defensive players.\n",
    "\n",
    "- **fumblForced.csv**: Captures information about forced fumbles, indicating defensive impact plays.\n",
    "\n",
    "- **interceptions.csv**: Includes interception statistics for defensive players, such as number of interceptions and return yards.\n",
    "\n",
    "- **kicks.csv**: Contains punting and kicking statistics, relevant for special teams evaluation.\n",
    "\n",
    "- **kickReturns.csv**: Includes performance data on kick returns, such as yards gained and touchdowns scored on returns.\n",
    "\n",
    "- **gameParticipation.csv**: Shows which players participated in which games, useful for determining player activity and consistency over seasons.\n",
    "\n",
    "- **plays.csv**: Provides detailed information about individual plays, including play type and involved players.\n",
    "\n",
    "These datasets together provide a broad and detailed view of both offensive and defensive performance across different roles in the NFL, enabling a robust analysis and modeling process."
   ],
   "id": "151368f1a6dc9fb5"
  },
  {
   "metadata": {
    "ExecuteTime": {
     "end_time": "2025-05-29T00:36:35.741515Z",
     "start_time": "2025-05-29T00:36:35.710736Z"
    }
   },
   "cell_type": "code",
   "source": "combine_df.columns",
   "id": "af5d0746923acd4a",
   "outputs": [
    {
     "data": {
      "text/plain": [
       "Index(['combineId', 'playerId', 'combineYear', 'combinePosition',\n",
       "       'combineHeight', 'combineWeight', 'combineHand', 'nameFirst',\n",
       "       'nameLast', 'nameFull', 'position', 'collegeId', 'nflId', 'college',\n",
       "       'heightInches', 'weight', 'dob', 'ageAtDraft', 'playerProfileUrl',\n",
       "       'homeCity', 'homeState', 'homeCountry', 'highSchool', 'hsCity',\n",
       "       'hsState', 'hsCountry', 'combineArm', 'combine40yd', 'combineVert',\n",
       "       'combineBench', 'combineShuttle', 'combineBroad', 'combine3cone',\n",
       "       'combine60ydShuttle', 'combineWonderlic'],\n",
       "      dtype='object')"
      ]
     },
     "execution_count": 5,
     "metadata": {},
     "output_type": "execute_result"
    }
   ],
   "execution_count": 5
  },
  {
   "metadata": {
    "ExecuteTime": {
     "end_time": "2025-05-29T00:36:36.774572Z",
     "start_time": "2025-05-29T00:36:36.629433Z"
    }
   },
   "cell_type": "code",
   "source": "combine_df.info()",
   "id": "59883e68afc60924",
   "outputs": [
    {
     "name": "stdout",
     "output_type": "stream",
     "text": [
      "<class 'pandas.core.frame.DataFrame'>\n",
      "RangeIndex: 10080 entries, 0 to 10079\n",
      "Data columns (total 35 columns):\n",
      " #   Column              Non-Null Count  Dtype  \n",
      "---  ------              --------------  -----  \n",
      " 0   combineId           10080 non-null  int64  \n",
      " 1   playerId            10080 non-null  int64  \n",
      " 2   combineYear         10080 non-null  int64  \n",
      " 3   combinePosition     10080 non-null  object \n",
      " 4   combineHeight       10080 non-null  float64\n",
      " 5   combineWeight       10080 non-null  int64  \n",
      " 6   combineHand         3592 non-null   float64\n",
      " 7   nameFirst           10078 non-null  object \n",
      " 8   nameLast            10078 non-null  object \n",
      " 9   nameFull            10078 non-null  object \n",
      " 10  position            10077 non-null  object \n",
      " 11  collegeId           10078 non-null  float64\n",
      " 12  nflId               8993 non-null   object \n",
      " 13  college             10078 non-null  object \n",
      " 14  heightInches        10073 non-null  float64\n",
      " 15  weight              10073 non-null  float64\n",
      " 16  dob                 8491 non-null   object \n",
      " 17  ageAtDraft          8491 non-null   float64\n",
      " 18  playerProfileUrl    8993 non-null   object \n",
      " 19  homeCity            7522 non-null   object \n",
      " 20  homeState           7373 non-null   object \n",
      " 21  homeCountry         7569 non-null   object \n",
      " 22  highSchool          4172 non-null   object \n",
      " 23  hsCity              2327 non-null   object \n",
      " 24  hsState             4157 non-null   object \n",
      " 25  hsCountry           4172 non-null   object \n",
      " 26  combineArm          3277 non-null   float64\n",
      " 27  combine40yd         9022 non-null   float64\n",
      " 28  combineVert         8461 non-null   float64\n",
      " 29  combineBench        7168 non-null   float64\n",
      " 30  combineShuttle      7486 non-null   float64\n",
      " 31  combineBroad        8311 non-null   float64\n",
      " 32  combine3cone        4814 non-null   float64\n",
      " 33  combine60ydShuttle  1773 non-null   float64\n",
      " 34  combineWonderlic    365 non-null    float64\n",
      "dtypes: float64(15), int64(4), object(16)\n",
      "memory usage: 2.7+ MB\n"
     ]
    }
   ],
   "execution_count": 6
  },
  {
   "metadata": {
    "ExecuteTime": {
     "end_time": "2025-05-29T00:36:37.375720Z",
     "start_time": "2025-05-29T00:36:37.355905Z"
    }
   },
   "cell_type": "code",
   "source": "passer_df.columns",
   "id": "1de03a23b82fd7be",
   "outputs": [
    {
     "data": {
      "text/plain": [
       "Index(['passId', 'playId', 'teamId', 'playerId', 'passPosition',\n",
       "       'passOutcomes', 'passDirection', 'passDepth', 'passLength', 'passAtt',\n",
       "       'passComp', 'passTd', 'passInt', 'passIntTd', 'passSack', 'passSackYds',\n",
       "       'passHit', 'passDef', 'passNull'],\n",
       "      dtype='object')"
      ]
     },
     "execution_count": 7,
     "metadata": {},
     "output_type": "execute_result"
    }
   ],
   "execution_count": 7
  },
  {
   "metadata": {
    "ExecuteTime": {
     "end_time": "2025-05-29T00:36:38.233986Z",
     "start_time": "2025-05-29T00:36:38.220002Z"
    }
   },
   "cell_type": "code",
   "source": "rusher_df.columns",
   "id": "999820828aa73785",
   "outputs": [
    {
     "data": {
      "text/plain": [
       "Index(['rushId', 'playId', 'teamId', 'playerId', 'rushPosition', 'rushType',\n",
       "       'rushDirection', 'rushLandmark', 'rushYards', 'rushPrimary', 'rushTd',\n",
       "       'rushEnd', 'rushNull'],\n",
       "      dtype='object')"
      ]
     },
     "execution_count": 8,
     "metadata": {},
     "output_type": "execute_result"
    }
   ],
   "execution_count": 8
  },
  {
   "metadata": {
    "ExecuteTime": {
     "end_time": "2025-05-29T00:36:38.880322Z",
     "start_time": "2025-05-29T00:36:38.869227Z"
    }
   },
   "cell_type": "code",
   "source": "receiver_df.columns",
   "id": "df360d271604b91",
   "outputs": [
    {
     "data": {
      "text/plain": [
       "Index(['receiverId', 'playId', 'teamId', 'playerId', 'recPosition', 'recYards',\n",
       "       'rec', 'recYac', 'rec1down', 'recFumble', 'recPassDef', 'recPassInt',\n",
       "       'recEnd', 'recNull'],\n",
       "      dtype='object')"
      ]
     },
     "execution_count": 9,
     "metadata": {},
     "output_type": "execute_result"
    }
   ],
   "execution_count": 9
  },
  {
   "metadata": {
    "ExecuteTime": {
     "end_time": "2025-05-29T00:36:39.667431Z",
     "start_time": "2025-05-29T00:36:39.639229Z"
    }
   },
   "cell_type": "code",
   "source": "tackles_df.columns",
   "id": "f2028eafde525785",
   "outputs": [
    {
     "data": {
      "text/plain": [
       "Index(['tackleId', 'playId', 'teamId', 'playerId', 'tacklePosition',\n",
       "       'tackleType', 'tackleYdsScrim', 'tackleEnd', 'tackleNull'],\n",
       "      dtype='object')"
      ]
     },
     "execution_count": 10,
     "metadata": {},
     "output_type": "execute_result"
    }
   ],
   "execution_count": 10
  },
  {
   "metadata": {
    "ExecuteTime": {
     "end_time": "2025-05-29T00:36:40.196285Z",
     "start_time": "2025-05-29T00:36:40.186152Z"
    }
   },
   "cell_type": "code",
   "source": "sacks_df.columns",
   "id": "876347f319bbd2b9",
   "outputs": [
    {
     "data": {
      "text/plain": [
       "Index(['sackId', 'playId', 'teamId', 'playerId', 'sackPosition', 'sackType',\n",
       "       'sackYards', 'sackEnd', 'sackNull'],\n",
       "      dtype='object')"
      ]
     },
     "execution_count": 11,
     "metadata": {},
     "output_type": "execute_result"
    }
   ],
   "execution_count": 11
  },
  {
   "metadata": {
    "ExecuteTime": {
     "end_time": "2025-05-29T00:36:40.617075Z",
     "start_time": "2025-05-29T00:36:40.604941Z"
    }
   },
   "cell_type": "code",
   "source": "fumbles_df.columns",
   "id": "336067cea01afbae",
   "outputs": [
    {
     "data": {
      "text/plain": [
       "Index(['fumForcedId', 'playId', 'teamId', 'playerId', 'fumForcedPosition',\n",
       "       'fumForcedTurnover', 'fumForcedNull'],\n",
       "      dtype='object')"
      ]
     },
     "execution_count": 12,
     "metadata": {},
     "output_type": "execute_result"
    }
   ],
   "execution_count": 12
  },
  {
   "metadata": {
    "ExecuteTime": {
     "end_time": "2025-05-29T00:36:40.786180Z",
     "start_time": "2025-05-29T00:36:40.776262Z"
    }
   },
   "cell_type": "code",
   "source": "interceptions_df.columns",
   "id": "8bb561997e495612",
   "outputs": [
    {
     "data": {
      "text/plain": [
       "Index(['interceptionId', 'playId', 'teamId', 'playerId', 'intPosition', 'int',\n",
       "       'intYards', 'intTd', 'intNull'],\n",
       "      dtype='object')"
      ]
     },
     "execution_count": 13,
     "metadata": {},
     "output_type": "execute_result"
    }
   ],
   "execution_count": 13
  },
  {
   "metadata": {
    "ExecuteTime": {
     "end_time": "2025-05-29T00:36:41.317342Z",
     "start_time": "2025-05-29T00:36:41.303627Z"
    }
   },
   "cell_type": "code",
   "source": "punt_df.columns",
   "id": "2a2a7504fa22561d",
   "outputs": [
    {
     "data": {
      "text/plain": [
       "Index(['kickId', 'playId', 'teamId', 'playerId', 'kickPosition', 'kickType',\n",
       "       'kickOutcome', 'kickInside20', 'kickOnside', 'kickOwnRecovery',\n",
       "       'kickLength', 'kickReturnYds', 'kickNetYds', 'kickReturnTd',\n",
       "       'kickNull'],\n",
       "      dtype='object')"
      ]
     },
     "execution_count": 14,
     "metadata": {},
     "output_type": "execute_result"
    }
   ],
   "execution_count": 14
  },
  {
   "metadata": {
    "ExecuteTime": {
     "end_time": "2025-05-29T00:36:41.643733Z",
     "start_time": "2025-05-29T00:36:41.627868Z"
    }
   },
   "cell_type": "code",
   "source": "kick_return_df.columns",
   "id": "ccff6e01ac716401",
   "outputs": [
    {
     "data": {
      "text/plain": [
       "Index(['kickRetId', 'playId', 'teamId', 'playerId', 'kickRetPosition',\n",
       "       'kickRetOutcome', 'kickRetPrimary', 'kickRetYds', 'kickRetTd',\n",
       "       'kickRetEnd', 'kickRetNull'],\n",
       "      dtype='object')"
      ]
     },
     "execution_count": 15,
     "metadata": {},
     "output_type": "execute_result"
    }
   ],
   "execution_count": 15
  },
  {
   "metadata": {
    "ExecuteTime": {
     "end_time": "2025-05-29T00:36:42.178256Z",
     "start_time": "2025-05-29T00:36:42.166391Z"
    }
   },
   "cell_type": "code",
   "source": "game_participation_df.columns",
   "id": "923476ea90610288",
   "outputs": [
    {
     "data": {
      "text/plain": [
       "Index(['gamePartId', 'gameId', 'teamId', 'playerId', 'gamePartUnit',\n",
       "       'gamePartSnapCount', 'nameFirst', 'nameLast', 'nameFull', 'position',\n",
       "       'collegeId', 'nflId', 'combineId', 'college', 'heightInches', 'weight',\n",
       "       'dob', 'ageAtDraft', 'playerProfileUrl', 'homeCity', 'homeState',\n",
       "       'homeCountry', 'highSchool', 'hsCity', 'hsState', 'hsCountry'],\n",
       "      dtype='object')"
      ]
     },
     "execution_count": 16,
     "metadata": {},
     "output_type": "execute_result"
    }
   ],
   "execution_count": 16
  },
  {
   "metadata": {
    "ExecuteTime": {
     "end_time": "2025-05-29T00:36:43.527167Z",
     "start_time": "2025-05-29T00:36:43.512356Z"
    }
   },
   "cell_type": "code",
   "source": "play_df.columns",
   "id": "3a12676962661f29",
   "outputs": [
    {
     "data": {
      "text/plain": [
       "Index(['playId', 'gameId', 'playSequence', 'quarter', 'possessionTeamId',\n",
       "       'nonpossessionTeamId', 'playType', 'playType2', 'playTypeDetailed',\n",
       "       'playNumberByTeam', 'gameClock', 'gameClockSecondsExpired',\n",
       "       'gameClockStoppedAfterPlay', 'down', 'distance', 'fieldPosition',\n",
       "       'distanceToGoalPre', 'noPlay', 'playDescription', 'playStats',\n",
       "       'playDescriptionFull', 'typeOfPlay', 'changePossession', 'turnover',\n",
       "       'safety', 'offensiveYards', 'netYards', 'firstDown', 'efficientPlay',\n",
       "       'evPre', 'evPost', 'evPlay', 'fourthDownConversion',\n",
       "       'thirdDownConversion', 'scorePossession', 'scoreNonpossession',\n",
       "       'homeScorePre', 'visitingScorePre', 'homeScorePost',\n",
       "       'visitingScorePost', 'distanceToGoalPost', 'fieldGoalProbability',\n",
       "       'huddle', 'formation'],\n",
       "      dtype='object')"
      ]
     },
     "execution_count": 17,
     "metadata": {},
     "output_type": "execute_result"
    }
   ],
   "execution_count": 17
  },
  {
   "metadata": {},
   "cell_type": "markdown",
   "source": [
    "### Aggregation of Player Statistics\n",
    "\n",
    "This section processes and aggregates raw player performance data from different datasets. The goal is to compute cumulative or summary statistics per player across all seasons and games. Below is a brief explanation of the operations performed:\n",
    "\n",
    "1. The **passer dataset** is grouped by `playerId` and aggregated to sum up key passing metrics including attempts, completions, touchdowns, interceptions, sacks, and sack yards. This provides a total passing performance profile for each quarterback.\n",
    "2. The **rusher dataset** is aggregated to calculate the total rushing yards and rushing touchdowns per player. This reflects the player's overall contribution in rushing plays.\n",
    "3. The **receiver dataset** is grouped by player and aggregated to obtain total receiving yards, number of receptions, first downs, and fumbles. These metrics capture receiving efficiency and reliability.\n",
    "4. For **tackles**, a simple count of how many tackles each player has made is computed using the size function, which counts the number of records per player.\n",
    "5. The **sacks dataset** is used to compute the total sack yards and the number of sacks for each defensive player. A separate column is created to store the count of sacks based on the number of entries per player.\n",
    "6. The **fumbles dataset** is aggregated by counting how many forced fumbles each player has recorded.\n",
    "7. The **interceptions dataset** is grouped to sum up the number of interceptions, interception return yards, and touchdowns resulting from interceptions. This highlights defensive playmaking ability.\n",
    "8. The **punting statistics** are filtered to include only punts and are then aggregated to sum up total punt yardage, the number of punts inside the 20-yard line, and punt return touchdowns.\n",
    "9. The **kick return dataset** is aggregated to calculate the total return yards and touchdowns from kick returns for each player.\n",
    "10. The **game participation dataset** is aggregated to compute three metrics per player: the total number of snaps played, the number of unique games played, and the list of different units (offense, defense, special teams) they participated in.\n",
    "\n",
    "These aggregated dataframes will later be merged to build a comprehensive performance profile for each player across multiple roles and units.\n"
   ],
   "id": "a5f1d3ad447269b6"
  },
  {
   "metadata": {
    "ExecuteTime": {
     "end_time": "2025-05-29T00:46:33.634394Z",
     "start_time": "2025-05-29T00:46:31.568273Z"
    }
   },
   "cell_type": "code",
   "source": [
    "# Aggregate player statistics from different datasets\n",
    "passer_agg = passer_df.groupby('playerId').agg({\n",
    "    'passAtt': 'sum',\n",
    "    'passComp': 'sum',\n",
    "    'passTd': 'sum',\n",
    "    'passInt': 'sum',\n",
    "    'passSack': 'sum',\n",
    "    'passSackYds': 'sum'\n",
    "}).reset_index()\n",
    "\n",
    "rusher_agg = rusher_df.groupby('playerId').agg({\n",
    "    'rushYards': 'sum',\n",
    "    'rushTd': 'sum'\n",
    "}).reset_index()\n",
    "\n",
    "receiver_agg = receiver_df.groupby('playerId').agg({\n",
    "    'recYards': 'sum',\n",
    "    'rec': 'sum',\n",
    "    'rec1down': 'sum',\n",
    "    'recFumble': 'sum'\n",
    "}).reset_index()\n",
    "\n",
    "\n",
    "tackles_agg = tackles_df.groupby('playerId').size().reset_index(name='tacklesCount')\n",
    "\n",
    "sacks_agg = sacks_df.groupby('playerId').agg({\n",
    "    'sackYards': 'sum'\n",
    "}).reset_index()\n",
    "\n",
    "sacks_agg['sackCount'] = sacks_df.groupby('playerId').size().reset_index(name='sackCount')['sackCount']\n",
    "\n",
    "fumbles_agg = fumbles_df.groupby('playerId').size().reset_index(name='forcedFumbles')\n",
    "\n",
    "interceptions_agg = interceptions_df.groupby('playerId').agg({\n",
    "    'int': 'sum',\n",
    "    'intYards': 'sum',\n",
    "    'intTd': 'sum'\n",
    "}).reset_index()\n",
    "\n",
    "punt_agg = punt_df[punt_df['kickType'] == 'punt'].groupby('playerId').agg({\n",
    "    'kickLength': 'sum',\n",
    "    'kickInside20': 'sum',\n",
    "    'kickReturnTd': 'sum'\n",
    "}).reset_index()\n",
    "\n",
    "kickret_agg = kick_return_df.groupby('playerId').agg({\n",
    "    'kickRetYds': 'sum',\n",
    "    'kickRetTd': 'sum'\n",
    "}).reset_index()\n",
    "\n",
    "\n",
    "game_participation_agg = game_participation_df.groupby(\"playerId\").agg({\n",
    "    \"gamePartSnapCount\": \"sum\",\n",
    "    \"gameId\": \"nunique\",\n",
    "    \"gamePartUnit\": lambda x: \",\".join(x.unique())\n",
    "}).reset_index()"
   ],
   "id": "ddb216fe8d63902d",
   "outputs": [],
   "execution_count": 20
  },
  {
   "metadata": {},
   "cell_type": "markdown",
   "source": [
    "### Merging Aggregated Player Statistics\n",
    "\n",
    "After aggregating player statistics from various performance datasets, this section merges them into a single unified DataFrame. The objective is to consolidate all available performance metrics for each player into one comprehensive table.\n",
    "\n",
    "A list called `agg_dfs` is created to store all the individual aggregated DataFrames, such as passing, rushing, receiving, tackles, sacks, fumbles, interceptions, punting, kick returns, and game participation.\n",
    "\n",
    "The `reduce` function from Python’s `functools` module is used to iteratively merge these DataFrames on the `playerId` column using an outer join. This ensures that no player is excluded even if they appear in only some of the datasets."
   ],
   "id": "28bb0b341e199f25"
  },
  {
   "metadata": {
    "ExecuteTime": {
     "end_time": "2025-05-29T00:46:41.115222Z",
     "start_time": "2025-05-29T00:46:40.921794Z"
    }
   },
   "cell_type": "code",
   "source": [
    "# List of all aggregated DataFrames\n",
    "agg_dfs = [\n",
    "    passer_agg,\n",
    "    rusher_agg,\n",
    "    receiver_agg,\n",
    "    tackles_agg,\n",
    "    sacks_agg,\n",
    "    fumbles_agg,\n",
    "    interceptions_agg,\n",
    "    punt_agg,\n",
    "    kickret_agg,\n",
    "    game_participation_agg\n",
    "]\n",
    "# Merge all using reduce\n",
    "merged_df = reduce(lambda left, right: pd.merge(left, right, on='playerId', how='outer'), agg_dfs)\n"
   ],
   "id": "2eae8d50c583977f",
   "outputs": [],
   "execution_count": 21
  },
  {
   "metadata": {
    "ExecuteTime": {
     "end_time": "2025-05-29T00:46:44.029535Z",
     "start_time": "2025-05-29T00:46:43.962575Z"
    }
   },
   "cell_type": "code",
   "source": [
    "merged_df = merged_df.merge(\n",
    "    combine_df,\n",
    "    on='playerId', how='left'\n",
    ")\n"
   ],
   "id": "d01a5c2e33dc2654",
   "outputs": [],
   "execution_count": 22
  },
  {
   "metadata": {
    "ExecuteTime": {
     "end_time": "2025-05-29T00:46:45.136383Z",
     "start_time": "2025-05-29T00:46:45.128649Z"
    }
   },
   "cell_type": "code",
   "source": "print(merged_df.columns.tolist())",
   "id": "1c9545b4bbfb2e22",
   "outputs": [
    {
     "name": "stdout",
     "output_type": "stream",
     "text": [
      "['playerId', 'passAtt', 'passComp', 'passTd', 'passInt', 'passSack', 'passSackYds', 'rushYards', 'rushTd', 'recYards', 'rec', 'rec1down', 'recFumble', 'tacklesCount', 'sackYards', 'sackCount', 'forcedFumbles', 'int', 'intYards', 'intTd', 'kickLength', 'kickInside20', 'kickReturnTd', 'kickRetYds', 'kickRetTd', 'gamePartSnapCount', 'gameId', 'gamePartUnit', 'combineId', 'combineYear', 'combinePosition', 'combineHeight', 'combineWeight', 'combineHand', 'nameFirst', 'nameLast', 'nameFull', 'position', 'collegeId', 'nflId', 'college', 'heightInches', 'weight', 'dob', 'ageAtDraft', 'playerProfileUrl', 'homeCity', 'homeState', 'homeCountry', 'highSchool', 'hsCity', 'hsState', 'hsCountry', 'combineArm', 'combine40yd', 'combineVert', 'combineBench', 'combineShuttle', 'combineBroad', 'combine3cone', 'combine60ydShuttle', 'combineWonderlic']\n"
     ]
    }
   ],
   "execution_count": 23
  },
  {
   "metadata": {
    "ExecuteTime": {
     "end_time": "2025-05-29T00:46:46.868017Z",
     "start_time": "2025-05-29T00:46:46.860048Z"
    }
   },
   "cell_type": "code",
   "source": [
    "print(f\"Total unique players: {merged_df['playerId'].nunique()}\")\n",
    "print(f\"Total rows: {len(merged_df)}\")\n"
   ],
   "id": "7dc88a77c7d845b0",
   "outputs": [
    {
     "name": "stdout",
     "output_type": "stream",
     "text": [
      "Total unique players: 10380\n",
      "Total rows: 10382\n"
     ]
    }
   ],
   "execution_count": 24
  },
  {
   "metadata": {},
   "cell_type": "markdown",
   "source": [
    "The merged result, `merged_df`, contains a wide range of features including:\n",
    "\n",
    "- Cumulative game statistics such as pass attempts, rush yards, receptions, tackles, sacks, and turnovers.\n",
    "- Special teams contributions like punts, kick returns, and related touchdowns.\n",
    "- Game participation details such as total snaps and number of games played.\n",
    "- Combine performance metrics like 40-yard dash time, vertical jump, bench press, and shuttle runs.\n",
    "- Biographical and background information including name, position, college, height, weight, age at draft, and high school details.\n",
    "\n",
    "A summary of the merged data shows there are 10,380 unique players and a total of 10,382 rows, indicating a nearly one-to-one mapping of rows to players, with a very small number of duplicate or split entries possibly due to merging on `outer` joins.\n",
    "\n",
    "This consolidated DataFrame serves as the foundation for further analysis and modeling, enabling a holistic view of player performance and background."
   ],
   "id": "a4cdc950e1168068"
  },
  {
   "metadata": {
    "ExecuteTime": {
     "end_time": "2025-05-29T00:49:39.047330Z",
     "start_time": "2025-05-29T00:49:39.012939Z"
    }
   },
   "cell_type": "code",
   "source": [
    "# Create a copy of the merged DataFrame for further processing\n",
    "df=merged_df.copy()"
   ],
   "id": "d2109eaf207542c3",
   "outputs": [],
   "execution_count": 27
  },
  {
   "metadata": {
    "ExecuteTime": {
     "end_time": "2025-05-29T00:49:55.065526Z",
     "start_time": "2025-05-29T00:49:54.931093Z"
    }
   },
   "cell_type": "code",
   "source": [
    "# Display the first 10 rows of the DataFrame\n",
    "df.head(10)"
   ],
   "id": "332d1674cfbf571d",
   "outputs": [
    {
     "data": {
      "text/plain": [
       "     playerId  passAtt  passComp  passTd  passInt  passSack  passSackYds  \\\n",
       "0   2504378.0      NaN       NaN     NaN      NaN       NaN          NaN   \n",
       "1   2505354.0      NaN       NaN     NaN      NaN       NaN          NaN   \n",
       "2  19820086.0      NaN       NaN     NaN      NaN       NaN          NaN   \n",
       "3  19830400.0      NaN       NaN     NaN      NaN       NaN          NaN   \n",
       "4  19850016.0      NaN       NaN     NaN      NaN       NaN          NaN   \n",
       "5  19850285.0     84.0      48.0     3.0      1.0       4.0        -42.0   \n",
       "6  19860201.0      NaN       NaN     NaN      NaN       NaN          NaN   \n",
       "7  19870001.0    848.0     498.0    25.0     35.0      58.0       -354.0   \n",
       "8  19870098.0    118.0      70.0     4.0      2.0       7.0        -25.0   \n",
       "9  19880006.0      NaN       NaN     NaN      NaN       NaN          NaN   \n",
       "\n",
       "   rushYards  rushTd  recYards  ...  hsCountry  combineArm  combine40yd  \\\n",
       "0        5.0     0.0       NaN  ...        NaN         NaN          NaN   \n",
       "1        0.0     0.0       NaN  ...        NaN         NaN          NaN   \n",
       "2        NaN     NaN       NaN  ...        NaN         NaN          NaN   \n",
       "3        NaN     NaN       NaN  ...        NaN         NaN          NaN   \n",
       "4        NaN     NaN     483.0  ...        NaN         NaN          NaN   \n",
       "5       42.0     2.0       NaN  ...        NaN         NaN          NaN   \n",
       "6        NaN     NaN       NaN  ...        NaN         NaN          NaN   \n",
       "7       59.0     3.0       NaN  ...        USA        33.5         4.75   \n",
       "8       34.0     0.0       NaN  ...        USA        30.0         4.58   \n",
       "9        NaN     NaN     231.0  ...        USA         NaN         4.39   \n",
       "\n",
       "   combineVert  combineBench  combineShuttle  combineBroad  combine3cone  \\\n",
       "0          NaN           NaN             NaN           NaN           NaN   \n",
       "1          NaN           NaN             NaN           NaN           NaN   \n",
       "2          NaN           NaN             NaN           NaN           NaN   \n",
       "3          NaN           NaN             NaN           NaN           NaN   \n",
       "4          NaN           NaN             NaN           NaN           NaN   \n",
       "5          NaN           NaN             NaN           NaN           NaN   \n",
       "6          NaN           NaN             NaN           NaN           NaN   \n",
       "7          NaN          13.0             NaN           NaN           NaN   \n",
       "8         32.5           7.0            4.11         110.0           NaN   \n",
       "9          NaN           NaN             NaN           NaN           NaN   \n",
       "\n",
       "   combine60ydShuttle  combineWonderlic  \n",
       "0                 NaN               NaN  \n",
       "1                 NaN               NaN  \n",
       "2                 NaN               NaN  \n",
       "3                 NaN               NaN  \n",
       "4                 NaN               NaN  \n",
       "5                 NaN               NaN  \n",
       "6                 NaN               NaN  \n",
       "7                 NaN               NaN  \n",
       "8                 NaN               NaN  \n",
       "9                 NaN               NaN  \n",
       "\n",
       "[10 rows x 62 columns]"
      ],
      "text/html": [
       "<div>\n",
       "<style scoped>\n",
       "    .dataframe tbody tr th:only-of-type {\n",
       "        vertical-align: middle;\n",
       "    }\n",
       "\n",
       "    .dataframe tbody tr th {\n",
       "        vertical-align: top;\n",
       "    }\n",
       "\n",
       "    .dataframe thead th {\n",
       "        text-align: right;\n",
       "    }\n",
       "</style>\n",
       "<table border=\"1\" class=\"dataframe\">\n",
       "  <thead>\n",
       "    <tr style=\"text-align: right;\">\n",
       "      <th></th>\n",
       "      <th>playerId</th>\n",
       "      <th>passAtt</th>\n",
       "      <th>passComp</th>\n",
       "      <th>passTd</th>\n",
       "      <th>passInt</th>\n",
       "      <th>passSack</th>\n",
       "      <th>passSackYds</th>\n",
       "      <th>rushYards</th>\n",
       "      <th>rushTd</th>\n",
       "      <th>recYards</th>\n",
       "      <th>...</th>\n",
       "      <th>hsCountry</th>\n",
       "      <th>combineArm</th>\n",
       "      <th>combine40yd</th>\n",
       "      <th>combineVert</th>\n",
       "      <th>combineBench</th>\n",
       "      <th>combineShuttle</th>\n",
       "      <th>combineBroad</th>\n",
       "      <th>combine3cone</th>\n",
       "      <th>combine60ydShuttle</th>\n",
       "      <th>combineWonderlic</th>\n",
       "    </tr>\n",
       "  </thead>\n",
       "  <tbody>\n",
       "    <tr>\n",
       "      <th>0</th>\n",
       "      <td>2504378.0</td>\n",
       "      <td>NaN</td>\n",
       "      <td>NaN</td>\n",
       "      <td>NaN</td>\n",
       "      <td>NaN</td>\n",
       "      <td>NaN</td>\n",
       "      <td>NaN</td>\n",
       "      <td>5.0</td>\n",
       "      <td>0.0</td>\n",
       "      <td>NaN</td>\n",
       "      <td>...</td>\n",
       "      <td>NaN</td>\n",
       "      <td>NaN</td>\n",
       "      <td>NaN</td>\n",
       "      <td>NaN</td>\n",
       "      <td>NaN</td>\n",
       "      <td>NaN</td>\n",
       "      <td>NaN</td>\n",
       "      <td>NaN</td>\n",
       "      <td>NaN</td>\n",
       "      <td>NaN</td>\n",
       "    </tr>\n",
       "    <tr>\n",
       "      <th>1</th>\n",
       "      <td>2505354.0</td>\n",
       "      <td>NaN</td>\n",
       "      <td>NaN</td>\n",
       "      <td>NaN</td>\n",
       "      <td>NaN</td>\n",
       "      <td>NaN</td>\n",
       "      <td>NaN</td>\n",
       "      <td>0.0</td>\n",
       "      <td>0.0</td>\n",
       "      <td>NaN</td>\n",
       "      <td>...</td>\n",
       "      <td>NaN</td>\n",
       "      <td>NaN</td>\n",
       "      <td>NaN</td>\n",
       "      <td>NaN</td>\n",
       "      <td>NaN</td>\n",
       "      <td>NaN</td>\n",
       "      <td>NaN</td>\n",
       "      <td>NaN</td>\n",
       "      <td>NaN</td>\n",
       "      <td>NaN</td>\n",
       "    </tr>\n",
       "    <tr>\n",
       "      <th>2</th>\n",
       "      <td>19820086.0</td>\n",
       "      <td>NaN</td>\n",
       "      <td>NaN</td>\n",
       "      <td>NaN</td>\n",
       "      <td>NaN</td>\n",
       "      <td>NaN</td>\n",
       "      <td>NaN</td>\n",
       "      <td>NaN</td>\n",
       "      <td>NaN</td>\n",
       "      <td>NaN</td>\n",
       "      <td>...</td>\n",
       "      <td>NaN</td>\n",
       "      <td>NaN</td>\n",
       "      <td>NaN</td>\n",
       "      <td>NaN</td>\n",
       "      <td>NaN</td>\n",
       "      <td>NaN</td>\n",
       "      <td>NaN</td>\n",
       "      <td>NaN</td>\n",
       "      <td>NaN</td>\n",
       "      <td>NaN</td>\n",
       "    </tr>\n",
       "    <tr>\n",
       "      <th>3</th>\n",
       "      <td>19830400.0</td>\n",
       "      <td>NaN</td>\n",
       "      <td>NaN</td>\n",
       "      <td>NaN</td>\n",
       "      <td>NaN</td>\n",
       "      <td>NaN</td>\n",
       "      <td>NaN</td>\n",
       "      <td>NaN</td>\n",
       "      <td>NaN</td>\n",
       "      <td>NaN</td>\n",
       "      <td>...</td>\n",
       "      <td>NaN</td>\n",
       "      <td>NaN</td>\n",
       "      <td>NaN</td>\n",
       "      <td>NaN</td>\n",
       "      <td>NaN</td>\n",
       "      <td>NaN</td>\n",
       "      <td>NaN</td>\n",
       "      <td>NaN</td>\n",
       "      <td>NaN</td>\n",
       "      <td>NaN</td>\n",
       "    </tr>\n",
       "    <tr>\n",
       "      <th>4</th>\n",
       "      <td>19850016.0</td>\n",
       "      <td>NaN</td>\n",
       "      <td>NaN</td>\n",
       "      <td>NaN</td>\n",
       "      <td>NaN</td>\n",
       "      <td>NaN</td>\n",
       "      <td>NaN</td>\n",
       "      <td>NaN</td>\n",
       "      <td>NaN</td>\n",
       "      <td>483.0</td>\n",
       "      <td>...</td>\n",
       "      <td>NaN</td>\n",
       "      <td>NaN</td>\n",
       "      <td>NaN</td>\n",
       "      <td>NaN</td>\n",
       "      <td>NaN</td>\n",
       "      <td>NaN</td>\n",
       "      <td>NaN</td>\n",
       "      <td>NaN</td>\n",
       "      <td>NaN</td>\n",
       "      <td>NaN</td>\n",
       "    </tr>\n",
       "    <tr>\n",
       "      <th>5</th>\n",
       "      <td>19850285.0</td>\n",
       "      <td>84.0</td>\n",
       "      <td>48.0</td>\n",
       "      <td>3.0</td>\n",
       "      <td>1.0</td>\n",
       "      <td>4.0</td>\n",
       "      <td>-42.0</td>\n",
       "      <td>42.0</td>\n",
       "      <td>2.0</td>\n",
       "      <td>NaN</td>\n",
       "      <td>...</td>\n",
       "      <td>NaN</td>\n",
       "      <td>NaN</td>\n",
       "      <td>NaN</td>\n",
       "      <td>NaN</td>\n",
       "      <td>NaN</td>\n",
       "      <td>NaN</td>\n",
       "      <td>NaN</td>\n",
       "      <td>NaN</td>\n",
       "      <td>NaN</td>\n",
       "      <td>NaN</td>\n",
       "    </tr>\n",
       "    <tr>\n",
       "      <th>6</th>\n",
       "      <td>19860201.0</td>\n",
       "      <td>NaN</td>\n",
       "      <td>NaN</td>\n",
       "      <td>NaN</td>\n",
       "      <td>NaN</td>\n",
       "      <td>NaN</td>\n",
       "      <td>NaN</td>\n",
       "      <td>NaN</td>\n",
       "      <td>NaN</td>\n",
       "      <td>NaN</td>\n",
       "      <td>...</td>\n",
       "      <td>NaN</td>\n",
       "      <td>NaN</td>\n",
       "      <td>NaN</td>\n",
       "      <td>NaN</td>\n",
       "      <td>NaN</td>\n",
       "      <td>NaN</td>\n",
       "      <td>NaN</td>\n",
       "      <td>NaN</td>\n",
       "      <td>NaN</td>\n",
       "      <td>NaN</td>\n",
       "    </tr>\n",
       "    <tr>\n",
       "      <th>7</th>\n",
       "      <td>19870001.0</td>\n",
       "      <td>848.0</td>\n",
       "      <td>498.0</td>\n",
       "      <td>25.0</td>\n",
       "      <td>35.0</td>\n",
       "      <td>58.0</td>\n",
       "      <td>-354.0</td>\n",
       "      <td>59.0</td>\n",
       "      <td>3.0</td>\n",
       "      <td>NaN</td>\n",
       "      <td>...</td>\n",
       "      <td>USA</td>\n",
       "      <td>33.5</td>\n",
       "      <td>4.75</td>\n",
       "      <td>NaN</td>\n",
       "      <td>13.0</td>\n",
       "      <td>NaN</td>\n",
       "      <td>NaN</td>\n",
       "      <td>NaN</td>\n",
       "      <td>NaN</td>\n",
       "      <td>NaN</td>\n",
       "    </tr>\n",
       "    <tr>\n",
       "      <th>8</th>\n",
       "      <td>19870098.0</td>\n",
       "      <td>118.0</td>\n",
       "      <td>70.0</td>\n",
       "      <td>4.0</td>\n",
       "      <td>2.0</td>\n",
       "      <td>7.0</td>\n",
       "      <td>-25.0</td>\n",
       "      <td>34.0</td>\n",
       "      <td>0.0</td>\n",
       "      <td>NaN</td>\n",
       "      <td>...</td>\n",
       "      <td>USA</td>\n",
       "      <td>30.0</td>\n",
       "      <td>4.58</td>\n",
       "      <td>32.5</td>\n",
       "      <td>7.0</td>\n",
       "      <td>4.11</td>\n",
       "      <td>110.0</td>\n",
       "      <td>NaN</td>\n",
       "      <td>NaN</td>\n",
       "      <td>NaN</td>\n",
       "    </tr>\n",
       "    <tr>\n",
       "      <th>9</th>\n",
       "      <td>19880006.0</td>\n",
       "      <td>NaN</td>\n",
       "      <td>NaN</td>\n",
       "      <td>NaN</td>\n",
       "      <td>NaN</td>\n",
       "      <td>NaN</td>\n",
       "      <td>NaN</td>\n",
       "      <td>NaN</td>\n",
       "      <td>NaN</td>\n",
       "      <td>231.0</td>\n",
       "      <td>...</td>\n",
       "      <td>USA</td>\n",
       "      <td>NaN</td>\n",
       "      <td>4.39</td>\n",
       "      <td>NaN</td>\n",
       "      <td>NaN</td>\n",
       "      <td>NaN</td>\n",
       "      <td>NaN</td>\n",
       "      <td>NaN</td>\n",
       "      <td>NaN</td>\n",
       "      <td>NaN</td>\n",
       "    </tr>\n",
       "  </tbody>\n",
       "</table>\n",
       "<p>10 rows × 62 columns</p>\n",
       "</div>"
      ]
     },
     "execution_count": 28,
     "metadata": {},
     "output_type": "execute_result"
    }
   ],
   "execution_count": 28
  },
  {
   "metadata": {
    "ExecuteTime": {
     "end_time": "2025-05-29T00:50:02.682716Z",
     "start_time": "2025-05-29T00:50:02.671334Z"
    }
   },
   "cell_type": "code",
   "source": [
    "# Display the shape of the DataFrame\n",
    "df.shape"
   ],
   "id": "c6c84511c7fca032",
   "outputs": [
    {
     "data": {
      "text/plain": [
       "(10382, 62)"
      ]
     },
     "execution_count": 29,
     "metadata": {},
     "output_type": "execute_result"
    }
   ],
   "execution_count": 29
  },
  {
   "metadata": {
    "ExecuteTime": {
     "end_time": "2025-05-29T00:50:10.082965Z",
     "start_time": "2025-05-29T00:50:10.027211Z"
    }
   },
   "cell_type": "code",
   "source": [
    "# Display the columns of the DataFrame\n",
    "df.info()"
   ],
   "id": "679751d4c8cf031a",
   "outputs": [
    {
     "name": "stdout",
     "output_type": "stream",
     "text": [
      "<class 'pandas.core.frame.DataFrame'>\n",
      "RangeIndex: 10382 entries, 0 to 10381\n",
      "Data columns (total 62 columns):\n",
      " #   Column              Non-Null Count  Dtype  \n",
      "---  ------              --------------  -----  \n",
      " 0   playerId            10382 non-null  float64\n",
      " 1   passAtt             755 non-null    float64\n",
      " 2   passComp            755 non-null    float64\n",
      " 3   passTd              755 non-null    float64\n",
      " 4   passInt             755 non-null    float64\n",
      " 5   passSack            755 non-null    float64\n",
      " 6   passSackYds         755 non-null    float64\n",
      " 7   rushYards           1950 non-null   float64\n",
      " 8   rushTd              1950 non-null   float64\n",
      " 9   recYards            3195 non-null   float64\n",
      " 10  rec                 3195 non-null   float64\n",
      " 11  rec1down            3195 non-null   float64\n",
      " 12  recFumble           3195 non-null   float64\n",
      " 13  tacklesCount        7836 non-null   float64\n",
      " 14  sackYards           2315 non-null   float64\n",
      " 15  sackCount           2315 non-null   float64\n",
      " 16  forcedFumbles       2845 non-null   float64\n",
      " 17  int                 1493 non-null   float64\n",
      " 18  intYards            1493 non-null   float64\n",
      " 19  intTd               1493 non-null   float64\n",
      " 20  kickLength          287 non-null    float64\n",
      " 21  kickInside20        287 non-null    float64\n",
      " 22  kickReturnTd        287 non-null    float64\n",
      " 23  kickRetYds          1603 non-null   float64\n",
      " 24  kickRetTd           1603 non-null   float64\n",
      " 25  gamePartSnapCount   5828 non-null   float64\n",
      " 26  gameId              5828 non-null   float64\n",
      " 27  gamePartUnit        5828 non-null   object \n",
      " 28  combineId           5002 non-null   float64\n",
      " 29  combineYear         5002 non-null   float64\n",
      " 30  combinePosition     5002 non-null   object \n",
      " 31  combineHeight       5002 non-null   float64\n",
      " 32  combineWeight       5002 non-null   float64\n",
      " 33  combineHand         366 non-null    float64\n",
      " 34  nameFirst           5002 non-null   object \n",
      " 35  nameLast            5002 non-null   object \n",
      " 36  nameFull            5002 non-null   object \n",
      " 37  position            5001 non-null   object \n",
      " 38  collegeId           5002 non-null   float64\n",
      " 39  nflId               5002 non-null   object \n",
      " 40  college             5002 non-null   object \n",
      " 41  heightInches        5002 non-null   float64\n",
      " 42  weight              5002 non-null   float64\n",
      " 43  dob                 4998 non-null   object \n",
      " 44  ageAtDraft          4998 non-null   float64\n",
      " 45  playerProfileUrl    5002 non-null   object \n",
      " 46  homeCity            4516 non-null   object \n",
      " 47  homeState           4430 non-null   object \n",
      " 48  homeCountry         4543 non-null   object \n",
      " 49  highSchool          3340 non-null   object \n",
      " 50  hsCity              1940 non-null   object \n",
      " 51  hsState             3331 non-null   object \n",
      " 52  hsCountry           3340 non-null   object \n",
      " 53  combineArm          363 non-null    float64\n",
      " 54  combine40yd         4641 non-null   float64\n",
      " 55  combineVert         4267 non-null   float64\n",
      " 56  combineBench        3685 non-null   float64\n",
      " 57  combineShuttle      3666 non-null   float64\n",
      " 58  combineBroad        4192 non-null   float64\n",
      " 59  combine3cone        3424 non-null   float64\n",
      " 60  combine60ydShuttle  140 non-null    float64\n",
      " 61  combineWonderlic    314 non-null    float64\n",
      "dtypes: float64(45), object(17)\n",
      "memory usage: 4.9+ MB\n"
     ]
    }
   ],
   "execution_count": 30
  },
  {
   "metadata": {},
   "cell_type": "markdown",
   "source": [
    "### Deduplication of Player Records\n",
    "\n",
    "This section ensures that each player appears only once in the dataset by removing duplicate entries based on their unique identifier, `playerId`.\n",
    "- First, the total number of entries and the number of unique player IDs are printed to understand the extent of duplication before any changes are made. \n",
    "- Then, duplicates are removed using the `drop_duplicates()` method, keeping only the first occurrence of each `playerId`. This is important to maintain a clean dataset where each row corresponds to a unique player, especially when merging data from multiple sources might introduce redundancy.\n",
    "- Finally, the total number of entries and unique player IDs are printed again to confirm that the dataset has been successfully deduplicated.\n",
    "\n",
    "This step helps prepare the dataset for accurate analysis and modeling by eliminating inconsistencies caused by repeated player entries.\n"
   ],
   "id": "b4469e7eda8d33f6"
  },
  {
   "metadata": {
    "ExecuteTime": {
     "end_time": "2025-05-29T00:50:38.077567Z",
     "start_time": "2025-05-29T00:50:38.048366Z"
    }
   },
   "cell_type": "code",
   "source": [
    "# Check total entries and unique players before deduplication\n",
    "total_entries_before = len(df)\n",
    "unique_players_before = df[\"playerId\"].nunique()\n",
    "\n",
    "print(f\"Before deduplication:\")\n",
    "print(f\"- Total entries: {total_entries_before}\")\n",
    "print(f\"- Unique player IDs: {unique_players_before}\")\n",
    "\n",
    "# Drop duplicate player entries, keeping the first occurrence\n",
    "df.drop_duplicates(subset=\"playerId\", keep=\"first\", inplace=True)\n",
    "\n",
    "# Check total entries and unique players after deduplication\n",
    "total_entries_after = len(df)\n",
    "unique_players_after = df[\"playerId\"].nunique()\n",
    "\n",
    "print(f\"\\nAfter deduplication:\")\n",
    "print(f\"- Total entries: {total_entries_after}\")\n",
    "print(f\"- Unique player IDs: {unique_players_after}\")\n"
   ],
   "id": "ae67f62a1774851b",
   "outputs": [
    {
     "name": "stdout",
     "output_type": "stream",
     "text": [
      "Before deduplication:\n",
      "- Total entries: 10382\n",
      "- Unique player IDs: 10380\n",
      "\n",
      "After deduplication:\n",
      "- Total entries: 10380\n",
      "- Unique player IDs: 10380\n"
     ]
    }
   ],
   "execution_count": 31
  },
  {
   "metadata": {},
   "cell_type": "markdown",
   "source": [
    "**Deduplication of Player Records**\n",
    "- Before deduplication, the dataset contained 10,382 entries but only 10,380 unique player IDs. This indicated the presence of two duplicate records.\n",
    "- By using the `drop_duplicates()` function and keeping only the first occurrence of each `playerId`, we removed the redundant entries.\n",
    "- After deduplication, the total number of entries matched the number of unique player IDs, confirming that each row now corresponds to a unique player. This step is crucial for maintaining the integrity of the dataset and avoiding bias or errors in subsequent analysis and modeling.\n"
   ],
   "id": "d7417d6ceec2d138"
  },
  {
   "metadata": {},
   "cell_type": "markdown",
   "source": [
    "### Missing Data Analysis\n",
    "\n",
    "To assess data quality, we calculated the total number of missing values and their corresponding percentages for each column in the dataset.\n",
    "- We first counted how many entries are missing per column and then converted these counts into percentages relative to the total number of records. \n",
    "- Next, we filtered the results to focus only on columns that have missing values. These columns were sorted in descending order by their percentage of missing data to identify the most affected features.\n",
    "\n",
    "This analysis helps in understanding which variables might require data cleaning, imputation, or special handling before further processing or modeling.\n"
   ],
   "id": "a2c48660df425b79"
  },
  {
   "metadata": {
    "ExecuteTime": {
     "end_time": "2025-05-29T00:53:53.746821Z",
     "start_time": "2025-05-29T00:53:53.553642Z"
    }
   },
   "cell_type": "code",
   "source": [
    "# Calculate total and percentage of missing values\n",
    "missing_data = df.isnull().sum().to_frame(name=\"MissingCount\")\n",
    "missing_data[\"MissingPercent\"] = 100 * missing_data[\"MissingCount\"] / len(df)\n",
    "\n",
    "# Filter to show only columns with missing values\n",
    "missing_data = missing_data[missing_data[\"MissingCount\"] > 0]\n",
    "\n",
    "# Sort by percentage of missing values (descending)\n",
    "missing_data.sort_values(by=\"MissingPercent\", ascending=False, inplace=True)\n",
    "\n",
    "# Display result\n",
    "missing_data\n"
   ],
   "id": "31e6e6491b32d767",
   "outputs": [
    {
     "data": {
      "text/plain": [
       "                    MissingCount  MissingPercent\n",
       "combine60ydShuttle         10240       98.651252\n",
       "kickLength                 10093       97.235067\n",
       "kickReturnTd               10093       97.235067\n",
       "kickInside20               10093       97.235067\n",
       "combineWonderlic           10066       96.974952\n",
       "...                          ...             ...\n",
       "combineHeight               5380       51.830443\n",
       "gamePartUnit                4553       43.863198\n",
       "gameId                      4553       43.863198\n",
       "gamePartSnapCount           4553       43.863198\n",
       "tacklesCount                2546       24.527938\n",
       "\n",
       "[61 rows x 2 columns]"
      ],
      "text/html": [
       "<div>\n",
       "<style scoped>\n",
       "    .dataframe tbody tr th:only-of-type {\n",
       "        vertical-align: middle;\n",
       "    }\n",
       "\n",
       "    .dataframe tbody tr th {\n",
       "        vertical-align: top;\n",
       "    }\n",
       "\n",
       "    .dataframe thead th {\n",
       "        text-align: right;\n",
       "    }\n",
       "</style>\n",
       "<table border=\"1\" class=\"dataframe\">\n",
       "  <thead>\n",
       "    <tr style=\"text-align: right;\">\n",
       "      <th></th>\n",
       "      <th>MissingCount</th>\n",
       "      <th>MissingPercent</th>\n",
       "    </tr>\n",
       "  </thead>\n",
       "  <tbody>\n",
       "    <tr>\n",
       "      <th>combine60ydShuttle</th>\n",
       "      <td>10240</td>\n",
       "      <td>98.651252</td>\n",
       "    </tr>\n",
       "    <tr>\n",
       "      <th>kickLength</th>\n",
       "      <td>10093</td>\n",
       "      <td>97.235067</td>\n",
       "    </tr>\n",
       "    <tr>\n",
       "      <th>kickReturnTd</th>\n",
       "      <td>10093</td>\n",
       "      <td>97.235067</td>\n",
       "    </tr>\n",
       "    <tr>\n",
       "      <th>kickInside20</th>\n",
       "      <td>10093</td>\n",
       "      <td>97.235067</td>\n",
       "    </tr>\n",
       "    <tr>\n",
       "      <th>combineWonderlic</th>\n",
       "      <td>10066</td>\n",
       "      <td>96.974952</td>\n",
       "    </tr>\n",
       "    <tr>\n",
       "      <th>...</th>\n",
       "      <td>...</td>\n",
       "      <td>...</td>\n",
       "    </tr>\n",
       "    <tr>\n",
       "      <th>combineHeight</th>\n",
       "      <td>5380</td>\n",
       "      <td>51.830443</td>\n",
       "    </tr>\n",
       "    <tr>\n",
       "      <th>gamePartUnit</th>\n",
       "      <td>4553</td>\n",
       "      <td>43.863198</td>\n",
       "    </tr>\n",
       "    <tr>\n",
       "      <th>gameId</th>\n",
       "      <td>4553</td>\n",
       "      <td>43.863198</td>\n",
       "    </tr>\n",
       "    <tr>\n",
       "      <th>gamePartSnapCount</th>\n",
       "      <td>4553</td>\n",
       "      <td>43.863198</td>\n",
       "    </tr>\n",
       "    <tr>\n",
       "      <th>tacklesCount</th>\n",
       "      <td>2546</td>\n",
       "      <td>24.527938</td>\n",
       "    </tr>\n",
       "  </tbody>\n",
       "</table>\n",
       "<p>61 rows × 2 columns</p>\n",
       "</div>"
      ]
     },
     "execution_count": 32,
     "metadata": {},
     "output_type": "execute_result"
    }
   ],
   "execution_count": 32
  },
  {
   "metadata": {},
   "cell_type": "markdown",
   "source": [
    "**Missing Data Analysis Summary**\n",
    "The missing data analysis revealed that several columns contain a high percentage of missing values, with some exceeding 90 percent missing entries. These columns mostly include certain combine performance metrics, detailed player personal information, and some game participation data.\n",
    "\n",
    "Given the extensive missingness, these columns are unlikely to contribute meaningful information to our modeling efforts and may introduce bias or noise if retained. Therefore, we decided to drop the following columns from the dataset:\n",
    "\n",
    "- Columns related to combine metrics with very sparse data, such as the 60-yard shuttle, Wonderlic test scores, arm length, and hand size.\n",
    "- Personal identifying information and biographical data, including player names, date of birth, hometown details, and high school information.\n",
    "- Certain game participation identifiers and related columns with large missing portions."
   ],
   "id": "6409ac197b3b63f1"
  },
  {
   "metadata": {
    "ExecuteTime": {
     "end_time": "2025-05-29T00:57:53.980476Z",
     "start_time": "2025-05-29T00:57:53.870738Z"
    }
   },
   "cell_type": "code",
   "source": [
    "columns_to_drop = [\n",
    "    'combine60ydShuttle', 'combineWonderlic', 'combineArm', 'combineHand',\n",
    "    'playerProfileUrl', 'nameFirst', 'nameLast', 'nameFull',\n",
    "    'dob', 'homeCity', 'homeState', 'homeCountry',\n",
    "    'highSchool', 'hsCity', 'hsState', 'hsCountry',\n",
    "    'college', 'collegeId', 'nflId',\n",
    "    'gameId', 'gamePartSnapCount', 'combineId', 'gamePartUnit', 'combineHeight','combineWeight',\n",
    "]\n",
    "\n",
    "df_cleaned = df.drop(columns=columns_to_drop)"
   ],
   "id": "74d105bb26c02e1",
   "outputs": [],
   "execution_count": 33
  },
  {
   "metadata": {
    "ExecuteTime": {
     "end_time": "2025-05-29T00:57:55.689813Z",
     "start_time": "2025-05-29T00:57:55.682238Z"
    }
   },
   "cell_type": "code",
   "source": "df_cleaned.shape",
   "id": "280c9a57ee8820d5",
   "outputs": [
    {
     "data": {
      "text/plain": [
       "(10380, 37)"
      ]
     },
     "execution_count": 34,
     "metadata": {},
     "output_type": "execute_result"
    }
   ],
   "execution_count": 34
  },
  {
   "metadata": {},
   "cell_type": "markdown",
   "source": "After dropping columns with excessive missing values, the cleaned dataset contains 10,380 unique players and 37 remaining features. This reduced but more complete dataset will be used for further analysis and modeling.\n",
   "id": "ff5953448ee16645"
  },
  {
   "metadata": {
    "ExecuteTime": {
     "end_time": "2025-05-29T00:59:23.978673Z",
     "start_time": "2025-05-29T00:59:23.961511Z"
    }
   },
   "cell_type": "code",
   "source": [
    "#Count missing values in df_cleaned\n",
    "missing_values = df_cleaned.isnull().sum()\n",
    "missing_values = missing_values[missing_values > 0]\n",
    "missing_values"
   ],
   "id": "9997a9f341101052",
   "outputs": [
    {
     "data": {
      "text/plain": [
       "passAtt             9625\n",
       "passComp            9625\n",
       "passTd              9625\n",
       "passInt             9625\n",
       "passSack            9625\n",
       "passSackYds         9625\n",
       "rushYards           8430\n",
       "rushTd              8430\n",
       "recYards            7186\n",
       "rec                 7186\n",
       "rec1down            7186\n",
       "recFumble           7186\n",
       "tacklesCount        2546\n",
       "sackYards           8066\n",
       "sackCount           8066\n",
       "forcedFumbles       7536\n",
       "int                 8888\n",
       "intYards            8888\n",
       "intTd               8888\n",
       "kickLength         10093\n",
       "kickInside20       10093\n",
       "kickReturnTd       10093\n",
       "kickRetYds          8778\n",
       "kickRetTd           8778\n",
       "combineYear         5380\n",
       "combinePosition     5380\n",
       "position            5381\n",
       "heightInches        5380\n",
       "weight              5380\n",
       "ageAtDraft          5384\n",
       "combine40yd         5741\n",
       "combineVert         6115\n",
       "combineBench        6697\n",
       "combineShuttle      6716\n",
       "combineBroad        6190\n",
       "combine3cone        6958\n",
       "dtype: int64"
      ]
     },
     "execution_count": 36,
     "metadata": {},
     "output_type": "execute_result"
    }
   ],
   "execution_count": 36
  },
  {
   "metadata": {
    "ExecuteTime": {
     "end_time": "2025-05-29T00:59:25.795725Z",
     "start_time": "2025-05-29T00:59:25.750888Z"
    }
   },
   "cell_type": "code",
   "source": "df_cleaned.info()",
   "id": "58732aba48db4f0d",
   "outputs": [
    {
     "name": "stdout",
     "output_type": "stream",
     "text": [
      "<class 'pandas.core.frame.DataFrame'>\n",
      "Index: 10380 entries, 0 to 10381\n",
      "Data columns (total 37 columns):\n",
      " #   Column           Non-Null Count  Dtype  \n",
      "---  ------           --------------  -----  \n",
      " 0   playerId         10380 non-null  float64\n",
      " 1   passAtt          755 non-null    float64\n",
      " 2   passComp         755 non-null    float64\n",
      " 3   passTd           755 non-null    float64\n",
      " 4   passInt          755 non-null    float64\n",
      " 5   passSack         755 non-null    float64\n",
      " 6   passSackYds      755 non-null    float64\n",
      " 7   rushYards        1950 non-null   float64\n",
      " 8   rushTd           1950 non-null   float64\n",
      " 9   recYards         3194 non-null   float64\n",
      " 10  rec              3194 non-null   float64\n",
      " 11  rec1down         3194 non-null   float64\n",
      " 12  recFumble        3194 non-null   float64\n",
      " 13  tacklesCount     7834 non-null   float64\n",
      " 14  sackYards        2314 non-null   float64\n",
      " 15  sackCount        2314 non-null   float64\n",
      " 16  forcedFumbles    2844 non-null   float64\n",
      " 17  int              1492 non-null   float64\n",
      " 18  intYards         1492 non-null   float64\n",
      " 19  intTd            1492 non-null   float64\n",
      " 20  kickLength       287 non-null    float64\n",
      " 21  kickInside20     287 non-null    float64\n",
      " 22  kickReturnTd     287 non-null    float64\n",
      " 23  kickRetYds       1602 non-null   float64\n",
      " 24  kickRetTd        1602 non-null   float64\n",
      " 25  combineYear      5000 non-null   float64\n",
      " 26  combinePosition  5000 non-null   object \n",
      " 27  position         4999 non-null   object \n",
      " 28  heightInches     5000 non-null   float64\n",
      " 29  weight           5000 non-null   float64\n",
      " 30  ageAtDraft       4996 non-null   float64\n",
      " 31  combine40yd      4639 non-null   float64\n",
      " 32  combineVert      4265 non-null   float64\n",
      " 33  combineBench     3683 non-null   float64\n",
      " 34  combineShuttle   3664 non-null   float64\n",
      " 35  combineBroad     4190 non-null   float64\n",
      " 36  combine3cone     3422 non-null   float64\n",
      "dtypes: float64(35), object(2)\n",
      "memory usage: 3.0+ MB\n"
     ]
    }
   ],
   "execution_count": 37
  },
  {
   "metadata": {
    "ExecuteTime": {
     "end_time": "2025-05-29T00:59:28.024638Z",
     "start_time": "2025-05-29T00:59:27.984037Z"
    }
   },
   "cell_type": "code",
   "source": [
    "offensive_cols = ['passAtt', 'passComp', 'passTd', 'passInt', 'passSack', 'passSackYds',\n",
    "                  'rushYards', 'rushTd', 'recYards', 'rec', 'rec1down', 'recFumble']\n",
    "df_cleaned[offensive_cols] = df_cleaned[offensive_cols].fillna(0)\n"
   ],
   "id": "5fda1725c21755ec",
   "outputs": [],
   "execution_count": 38
  },
  {
   "metadata": {
    "ExecuteTime": {
     "end_time": "2025-05-29T00:59:29.407740Z",
     "start_time": "2025-05-29T00:59:29.389390Z"
    }
   },
   "cell_type": "code",
   "source": [
    "defensive_cols = ['tacklesCount', 'sackYards', 'sackCount', 'forcedFumbles', 'int', 'intYards', 'intTd']\n",
    "df_cleaned[defensive_cols] = df_cleaned[defensive_cols].fillna(0)\n"
   ],
   "id": "d4ae910a56279427",
   "outputs": [],
   "execution_count": 39
  },
  {
   "metadata": {
    "ExecuteTime": {
     "end_time": "2025-05-29T00:59:30.207149Z",
     "start_time": "2025-05-29T00:59:30.195836Z"
    }
   },
   "cell_type": "code",
   "source": [
    "special_teams_cols = ['kickLength', 'kickInside20', 'kickReturnTd', 'kickRetYds', 'kickRetTd']\n",
    "df_cleaned[special_teams_cols] = df_cleaned[special_teams_cols].fillna(0)\n"
   ],
   "id": "becfe1d3b640c879",
   "outputs": [],
   "execution_count": 40
  },
  {
   "metadata": {
    "ExecuteTime": {
     "end_time": "2025-05-29T00:59:31.341470Z",
     "start_time": "2025-05-29T00:59:31.208342Z"
    }
   },
   "cell_type": "code",
   "source": [
    "combine_cols = ['combine40yd', 'combineVert', 'combineBench', 'combineShuttle',\n",
    "                'combineBroad', 'combine3cone', 'heightInches', 'weight', 'ageAtDraft']\n",
    "df_cleaned[combine_cols] = df_cleaned[combine_cols].fillna(df_cleaned[combine_cols].median())\n",
    "df_cleaned['position'].isnull().sum()         # 381\n",
    "df_cleaned['combinePosition'].isnull().sum()  # 5380 - 5000 = 5380 missing\n",
    "\n",
    "df_cleaned['position'] = df_cleaned['position'].fillna('Unknown')\n",
    "df_cleaned['combinePosition'] = df_cleaned['combinePosition'].fillna('Unknown')\n"
   ],
   "id": "a2885297131e93fe",
   "outputs": [],
   "execution_count": 41
  },
  {
   "metadata": {},
   "cell_type": "markdown",
   "source": [
    "### Handling Missing Values by Feature Group\n",
    "\n",
    "The dataset contains three main groups of features: offensive stats, defensive stats, and special teams stats, along with combine and physical attributes.\n",
    "\n",
    "- For the offensive, defensive, and special teams statistical features, missing values are replaced with zeros. This is appropriate because a missing value in these categories likely means the player did not record any statistics in that category.\n",
    "\n",
    "- For combine and physical attributes such as the 40-yard dash time, vertical jump, bench press, shuttle run, broad jump, three-cone drill, height, weight, and age at draft, missing values are filled with the median value of each respective column. This is done to avoid biasing the data with extreme values.\n",
    "\n",
    "- The categorical fields `position` and `combinePosition` had missing entries as well. These missing values are filled with the placeholder 'Unknown' to maintain consistent data formatting without removing records.\n",
    "\n",
    "This systematic approach ensures the dataset is complete and ready for model training without losing valuable player information."
   ],
   "id": "24cbf9baabc4e907"
  },
  {
   "metadata": {
    "ExecuteTime": {
     "end_time": "2025-05-29T01:00:26.681267Z",
     "start_time": "2025-05-29T01:00:26.660445Z"
    }
   },
   "cell_type": "code",
   "source": "df_cleaned.isnull().sum().sort_values(ascending=False)\n",
   "id": "9f98cf140f8ad5c0",
   "outputs": [
    {
     "data": {
      "text/plain": [
       "combineYear        5380\n",
       "playerId              0\n",
       "intTd                 0\n",
       "kickInside20          0\n",
       "kickReturnTd          0\n",
       "kickRetYds            0\n",
       "kickRetTd             0\n",
       "combinePosition       0\n",
       "position              0\n",
       "heightInches          0\n",
       "weight                0\n",
       "ageAtDraft            0\n",
       "combine40yd           0\n",
       "combineVert           0\n",
       "combineBench          0\n",
       "combineShuttle        0\n",
       "combineBroad          0\n",
       "kickLength            0\n",
       "intYards              0\n",
       "passAtt               0\n",
       "int                   0\n",
       "passComp              0\n",
       "passTd                0\n",
       "passInt               0\n",
       "passSack              0\n",
       "passSackYds           0\n",
       "rushYards             0\n",
       "rushTd                0\n",
       "recYards              0\n",
       "rec                   0\n",
       "rec1down              0\n",
       "recFumble             0\n",
       "tacklesCount          0\n",
       "sackYards             0\n",
       "sackCount             0\n",
       "forcedFumbles         0\n",
       "combine3cone          0\n",
       "dtype: int64"
      ]
     },
     "execution_count": 42,
     "metadata": {},
     "output_type": "execute_result"
    }
   ],
   "execution_count": 42
  },
  {
   "metadata": {
    "ExecuteTime": {
     "end_time": "2025-05-29T01:02:17.605581Z",
     "start_time": "2025-05-29T01:02:17.429509Z"
    }
   },
   "cell_type": "code",
   "source": "print(df_cleaned.describe())",
   "id": "2f37f21c1f81cb5c",
   "outputs": [
    {
     "name": "stdout",
     "output_type": "stream",
     "text": [
      "           playerId      passAtt      passComp        passTd       passInt  \\\n",
      "count  1.038000e+04  10380.00000  10380.000000  10380.000000  10380.000000   \n",
      "mean   2.009340e+07     35.84210     21.536416      1.467726      0.963969   \n",
      "std    2.528300e+05    373.59669    230.745573     17.425591      9.474976   \n",
      "min    2.504378e+06      0.00000      0.000000      0.000000      0.000000   \n",
      "25%    2.005007e+07      0.00000      0.000000      0.000000      0.000000   \n",
      "50%    2.010052e+07      0.00000      0.000000      0.000000      0.000000   \n",
      "75%    2.015101e+07      0.00000      0.000000      0.000000      0.000000   \n",
      "max    2.019120e+07  10881.00000   7243.000000    594.000000    268.000000   \n",
      "\n",
      "           passSack   passSackYds     rushYards        rushTd      recYards  \\\n",
      "count  10380.000000  10380.000000  10380.000000  10380.000000  10380.000000   \n",
      "mean       2.430058    -15.639114    110.544798      0.766763    233.430154   \n",
      "std       23.015895    149.091883    661.992739      4.852208    973.107785   \n",
      "min        0.000000  -3972.000000    -59.000000      0.000000    -27.000000   \n",
      "25%        0.000000      0.000000      0.000000      0.000000      0.000000   \n",
      "50%        0.000000      0.000000      0.000000      0.000000      0.000000   \n",
      "75%        0.000000      0.000000      0.000000      0.000000     19.000000   \n",
      "max      600.000000      0.000000  14856.000000    109.000000  17372.000000   \n",
      "\n",
      "       ...  combineYear  heightInches        weight    ageAtDraft  \\\n",
      "count  ...  5000.000000  10380.000000  10380.000000  10380.000000   \n",
      "mean   ...  2008.946400     73.952312    239.054624     22.669076   \n",
      "std    ...     6.715694      1.777361     30.869795      0.607308   \n",
      "min    ...  1987.000000     65.000000    160.000000     19.523288   \n",
      "25%    ...  2004.000000     74.000000    235.000000     22.667123   \n",
      "50%    ...  2010.000000     74.000000    235.000000     22.667123   \n",
      "75%    ...  2015.000000     74.000000    235.000000     22.667123   \n",
      "max    ...  2019.000000     82.000000    375.000000     28.553425   \n",
      "\n",
      "        combine40yd   combineVert  combineBench  combineShuttle  combineBroad  \\\n",
      "count  10380.000000  10380.000000  10380.000000    10380.000000  10380.000000   \n",
      "mean       4.721910     33.365906     20.958863        4.334454    115.521676   \n",
      "std        0.195405      2.643126      3.772322        0.152267      5.649066   \n",
      "min        4.210000     17.500000      2.000000        3.730000     82.000000   \n",
      "25%        4.690000     33.500000     21.000000        4.320000    116.000000   \n",
      "50%        4.690000     33.500000     21.000000        4.320000    116.000000   \n",
      "75%        4.690000     33.500000     21.000000        4.320000    116.000000   \n",
      "max        6.070000     46.000000     49.000000        5.380000    147.000000   \n",
      "\n",
      "       combine3cone  \n",
      "count  10380.000000  \n",
      "mean       7.206005  \n",
      "std        0.234254  \n",
      "min        6.420000  \n",
      "25%        7.180000  \n",
      "50%        7.180000  \n",
      "75%        7.180000  \n",
      "max        9.170000  \n",
      "\n",
      "[8 rows x 35 columns]\n"
     ]
    }
   ],
   "execution_count": 44
  },
  {
   "metadata": {},
   "cell_type": "markdown",
   "source": [
    "### Summary Statistics of the Cleaned Dataset\n",
    "\n",
    "The `describe()` function provides an overview of the numerical features in the cleaned dataset.\n",
    "\n",
    "- **Count** shows the number of non-missing values for each column. Most columns have complete data except `combineYear`, which has 5000 entries, indicating missing data in that field.\n",
    "- **Mean** and **standard deviation** give a sense of the central tendency and spread of each feature. For example, the average number of pass attempts (`passAtt`) is about 36, but with a large standard deviation reflecting wide variability among players.\n",
    "- **Min** and **max** show the range. Some values, such as `passTd` (passing touchdowns) and `rushYards` (rushing yards), have a minimum of zero and very high maximum values, highlighting the differences between less and more successful players.\n",
    "- For physical and combine metrics like `combine40yd` (40-yard dash time), `combineVert` (vertical jump), and `weight`, the statistics reflect typical ranges expected for NFL players.\n",
    "- Overall, this statistical summary helps understand the distribution and scale of player performance and physical attributes, useful for feature scaling and model building.\n"
   ],
   "id": "5113a36732e7c0d4"
  },
  {
   "metadata": {},
   "cell_type": "markdown",
   "source": [
    "### Adding Last Played Season for Each Player\n",
    "\n",
    "- The `season` is extracted from the `gameId` by taking the first four characters, which represent the year of the game.\n",
    "- The dataset is filtered to include only players who actually participated in plays, identified by having a `gamePartSnapCount` greater than zero.\n",
    "- For each player, their most recent season played is found by grouping by `playerId` and selecting the maximum season year.\n",
    "- This information is then merged back into the main cleaned dataset to add a `last_played_year` column, indicating the latest year each player was active in a game.\n",
    "  \n",
    "This step enriches the dataset with temporal context on player activity, which can be valuable for analyzing career length or recency of performance."
   ],
   "id": "b90166967b356b1d"
  },
  {
   "metadata": {
    "ExecuteTime": {
     "end_time": "2025-05-29T01:02:59.698742Z",
     "start_time": "2025-05-29T01:02:59.130799Z"
    }
   },
   "cell_type": "code",
   "source": [
    "# Extract Season from gameId\n",
    "game_participation_df['season'] = game_participation_df['gameId'].astype(str).str[:4].astype(int)"
   ],
   "id": "5c0b1749e7009e8e",
   "outputs": [],
   "execution_count": 45
  },
  {
   "metadata": {
    "ExecuteTime": {
     "end_time": "2025-05-29T01:03:00.756949Z",
     "start_time": "2025-05-29T01:02:59.719101Z"
    }
   },
   "cell_type": "code",
   "source": [
    "# Filter Players Who Actually Played\n",
    "played_df = game_participation_df[game_participation_df['gamePartSnapCount'] > 0]\n"
   ],
   "id": "57e2be4f46925b00",
   "outputs": [],
   "execution_count": 46
  },
  {
   "metadata": {
    "ExecuteTime": {
     "end_time": "2025-05-29T01:03:01.056650Z",
     "start_time": "2025-05-29T01:03:00.996434Z"
    }
   },
   "cell_type": "code",
   "source": [
    "# Get Each Player's Last Played Season\n",
    "last_played_df = played_df.groupby('playerId')['season'].max().reset_index()\n",
    "last_played_df.columns = ['playerId', 'last_played_year']\n"
   ],
   "id": "b0f16ab910403e9e",
   "outputs": [],
   "execution_count": 47
  },
  {
   "metadata": {
    "ExecuteTime": {
     "end_time": "2025-05-29T01:03:01.229319Z",
     "start_time": "2025-05-29T01:03:01.187051Z"
    }
   },
   "cell_type": "code",
   "source": [
    "# Merge With Your Cleaned Player Dataset\n",
    "df_cleaned = df_cleaned.merge(last_played_df, on='playerId', how='left')"
   ],
   "id": "a38acd0d8f644076",
   "outputs": [],
   "execution_count": 48
  },
  {
   "metadata": {},
   "cell_type": "markdown",
   "source": [
    "### Categorizing Players as Active or Retired\n",
    "\n",
    "- Players are labeled as **Active** if their `last_played_year` is 2022 or later.\n",
    "- Players with a `last_played_year` before 2022 or with missing values are labeled as **Retired**.\n",
    "- This classification helps distinguish currently active players from those who have ended their careers.\n",
    "- The resulting counts show there are 5,827 active players and 4,553 retired players in the dataset.\n",
    "\n",
    "This status labeling is useful for downstream analysis where player activity status influences modeling or insights."
   ],
   "id": "7a08c11d44012d34"
  },
  {
   "metadata": {
    "ExecuteTime": {
     "end_time": "2025-05-29T01:04:42.233589Z",
     "start_time": "2025-05-29T01:04:42.218250Z"
    }
   },
   "cell_type": "code",
   "source": [
    "# Tag Players as Active or Retired\n",
    "df_cleaned['status'] = df_cleaned['last_played_year'].apply(\n",
    "    lambda x: 'Active' if pd.notnull(x) and x >= 2022 else 'Retired')"
   ],
   "id": "217a6d385770cfe2",
   "outputs": [],
   "execution_count": 50
  },
  {
   "metadata": {
    "ExecuteTime": {
     "end_time": "2025-05-29T01:05:07.301862Z",
     "start_time": "2025-05-29T01:05:07.292117Z"
    }
   },
   "cell_type": "code",
   "source": [
    "# count the number of players in each status\n",
    "status_counts = df_cleaned['status'].value_counts()"
   ],
   "id": "7dd32a3e5e5f9a3c",
   "outputs": [],
   "execution_count": 52
  },
  {
   "metadata": {
    "ExecuteTime": {
     "end_time": "2025-05-29T01:05:11.128859Z",
     "start_time": "2025-05-29T01:05:11.119310Z"
    }
   },
   "cell_type": "code",
   "source": "status_counts",
   "id": "c2c0e0cc7ab2d2b6",
   "outputs": [
    {
     "data": {
      "text/plain": [
       "status\n",
       "Active     5827\n",
       "Retired    4553\n",
       "Name: count, dtype: int64"
      ]
     },
     "execution_count": 53,
     "metadata": {},
     "output_type": "execute_result"
    }
   ],
   "execution_count": 53
  },
  {
   "metadata": {
    "ExecuteTime": {
     "end_time": "2025-05-29T01:06:13.802200Z",
     "start_time": "2025-05-29T01:06:13.764895Z"
    }
   },
   "cell_type": "code",
   "source": "df_cleaned.info()",
   "id": "c346282e0a4d4dd3",
   "outputs": [
    {
     "name": "stdout",
     "output_type": "stream",
     "text": [
      "<class 'pandas.core.frame.DataFrame'>\n",
      "RangeIndex: 10380 entries, 0 to 10379\n",
      "Data columns (total 39 columns):\n",
      " #   Column            Non-Null Count  Dtype  \n",
      "---  ------            --------------  -----  \n",
      " 0   playerId          10380 non-null  float64\n",
      " 1   passAtt           10380 non-null  float64\n",
      " 2   passComp          10380 non-null  float64\n",
      " 3   passTd            10380 non-null  float64\n",
      " 4   passInt           10380 non-null  float64\n",
      " 5   passSack          10380 non-null  float64\n",
      " 6   passSackYds       10380 non-null  float64\n",
      " 7   rushYards         10380 non-null  float64\n",
      " 8   rushTd            10380 non-null  float64\n",
      " 9   recYards          10380 non-null  float64\n",
      " 10  rec               10380 non-null  float64\n",
      " 11  rec1down          10380 non-null  float64\n",
      " 12  recFumble         10380 non-null  float64\n",
      " 13  tacklesCount      10380 non-null  float64\n",
      " 14  sackYards         10380 non-null  float64\n",
      " 15  sackCount         10380 non-null  float64\n",
      " 16  forcedFumbles     10380 non-null  float64\n",
      " 17  int               10380 non-null  float64\n",
      " 18  intYards          10380 non-null  float64\n",
      " 19  intTd             10380 non-null  float64\n",
      " 20  kickLength        10380 non-null  float64\n",
      " 21  kickInside20      10380 non-null  float64\n",
      " 22  kickReturnTd      10380 non-null  float64\n",
      " 23  kickRetYds        10380 non-null  float64\n",
      " 24  kickRetTd         10380 non-null  float64\n",
      " 25  combineYear       5000 non-null   float64\n",
      " 26  combinePosition   10380 non-null  object \n",
      " 27  position          10380 non-null  object \n",
      " 28  heightInches      10380 non-null  float64\n",
      " 29  weight            10380 non-null  float64\n",
      " 30  ageAtDraft        10380 non-null  float64\n",
      " 31  combine40yd       10380 non-null  float64\n",
      " 32  combineVert       10380 non-null  float64\n",
      " 33  combineBench      10380 non-null  float64\n",
      " 34  combineShuttle    10380 non-null  float64\n",
      " 35  combineBroad      10380 non-null  float64\n",
      " 36  combine3cone      10380 non-null  float64\n",
      " 37  last_played_year  5827 non-null   float64\n",
      " 38  status            10380 non-null  object \n",
      "dtypes: float64(36), object(3)\n",
      "memory usage: 3.1+ MB\n"
     ]
    }
   ],
   "execution_count": 54
  },
  {
   "metadata": {
    "ExecuteTime": {
     "end_time": "2025-05-29T01:06:14.609880Z",
     "start_time": "2025-05-29T01:06:14.596388Z"
    }
   },
   "cell_type": "code",
   "source": "df_cleaned.shape",
   "id": "61dff09f89b4b1b5",
   "outputs": [
    {
     "data": {
      "text/plain": [
       "(10380, 39)"
      ]
     },
     "execution_count": 55,
     "metadata": {},
     "output_type": "execute_result"
    }
   ],
   "execution_count": 55
  },
  {
   "metadata": {
    "ExecuteTime": {
     "end_time": "2025-05-29T01:06:16.253514Z",
     "start_time": "2025-05-29T01:06:16.243996Z"
    }
   },
   "cell_type": "code",
   "source": "df_cleaned['status'].value_counts()",
   "id": "819a9083441a3b74",
   "outputs": [
    {
     "data": {
      "text/plain": [
       "status\n",
       "Active     5827\n",
       "Retired    4553\n",
       "Name: count, dtype: int64"
      ]
     },
     "execution_count": 56,
     "metadata": {},
     "output_type": "execute_result"
    }
   ],
   "execution_count": 56
  },
  {
   "metadata": {
    "ExecuteTime": {
     "end_time": "2025-05-29T01:06:47.174523Z",
     "start_time": "2025-05-29T01:06:47.166057Z"
    }
   },
   "cell_type": "code",
   "source": "print(df_cleaned['position'].value_counts())",
   "id": "69231ea144759e69",
   "outputs": [
    {
     "name": "stdout",
     "output_type": "stream",
     "text": [
      "position\n",
      "Unknown    5381\n",
      "WR          646\n",
      "LB          620\n",
      "DB          583\n",
      "RB          448\n",
      "DE          435\n",
      "DT          378\n",
      "S           366\n",
      "TE          324\n",
      "QB          313\n",
      "OT          283\n",
      "OG          227\n",
      "C           106\n",
      "FB           80\n",
      "OLB          63\n",
      "OL           46\n",
      "DL           25\n",
      "P            23\n",
      "K            22\n",
      "LS           11\n",
      "Name: count, dtype: int64\n"
     ]
    }
   ],
   "execution_count": 58
  },
  {
   "metadata": {},
   "cell_type": "markdown",
   "source": [
    "### Player Position Distribution\n",
    "\n",
    "The dataset includes a wide variety of player positions, with a significant portion (5,381) of players whose position is marked as **Unknown**. Among the known positions, the most common are:\n",
    "\n",
    "- Wide Receiver (WR): 646 players\n",
    "- Linebacker (LB): 620 players\n",
    "- Defensive Back (DB): 583 players\n",
    "- Running Back (RB): 448 players\n",
    "- Defensive End (DE): 435 players\n",
    "\n",
    "Other positions such as Quarterback (QB), Tight End (TE), Offensive Tackle (OT), and Center (C) are also well represented but in smaller numbers.\n",
    "\n",
    "This distribution reflects the diverse roles within NFL teams and the dataset's composition, with a large number of players missing position information that may require further attention.\n"
   ],
   "id": "6d88bfd3a7b62e13"
  },
  {
   "metadata": {},
   "cell_type": "markdown",
   "source": [
    "### Purpose of Role Mapping\n",
    "\n",
    "The purpose of this process is to simplify and organize the detailed player position data by grouping individual positions into broader categories or roles. Instead of working with many specific positions, players are classified into three main groups: Offense, Defense, and Special Teams. This categorization helps in analyzing player performance and characteristics at a higher level, making it easier to compare and understand trends within these general roles. Additionally, it helps to identify players with missing or unclear position information by labeling them as Unknown.\n"
   ],
   "id": "8602928b937a75a1"
  },
  {
   "metadata": {
    "ExecuteTime": {
     "end_time": "2025-05-29T01:08:06.448953Z",
     "start_time": "2025-05-29T01:08:06.412708Z"
    }
   },
   "cell_type": "code",
   "source": [
    "role_mapper = {\n",
    "    # Offense\n",
    "    'QB': 'Offense', 'RB': 'Offense', 'WR': 'Offense', 'TE': 'Offense', 'FB': 'Offense',\n",
    "    'C': 'Offense', 'OG': 'Offense', 'OL': 'Offense', 'OT': 'Offense',\n",
    "\n",
    "    # Defense\n",
    "    'LB': 'Defense', 'OLB': 'Defense', 'DB': 'Defense', 'S': 'Defense', 'CB': 'Defense',\n",
    "    'DE': 'Defense', 'DL': 'Defense', 'DT': 'Defense',\n",
    "\n",
    "    # Special Teams\n",
    "    'K': 'Special Teams', 'P': 'Special Teams', 'LS': 'Special Teams',\n",
    "\n",
    "    # Keep Unknown as is (already handled)\n",
    "}\n",
    "\n",
    "def map_role(pos):\n",
    "    if pos == 'Unknown' or pd.isna(pos):\n",
    "        return 'Unknown'\n",
    "    return role_mapper.get(pos, 'Unknown')\n",
    "\n",
    "df_cleaned['role'] = df_cleaned['position'].apply(map_role)\n",
    "\n",
    "print(df_cleaned['role'].value_counts())"
   ],
   "id": "413ffbc854bffa62",
   "outputs": [
    {
     "name": "stdout",
     "output_type": "stream",
     "text": [
      "role\n",
      "Unknown          5381\n",
      "Offense          2473\n",
      "Defense          2470\n",
      "Special Teams      56\n",
      "Name: count, dtype: int64\n"
     ]
    }
   ],
   "execution_count": 59
  },
  {
   "metadata": {},
   "cell_type": "markdown",
   "source": [
    "The **output** of value counts by role shows:\n",
    "\n",
    "- Approximately equal numbers of players in **Offense** (2473) and **Defense** (2470).\n",
    "- A small number of players in **Special Teams** (56).\n",
    "- A large group of players with **Unknown** role (5381), indicating missing or unclassified position data.\n",
    "\n",
    "This categorization simplifies the dataset by grouping detailed positions into manageable categories, useful for further analysis or modeling.\n"
   ],
   "id": "180c1e4ab1f8e40a"
  },
  {
   "metadata": {
    "ExecuteTime": {
     "end_time": "2025-05-29T01:13:25.113480Z",
     "start_time": "2025-05-29T01:13:24.956808Z"
    }
   },
   "cell_type": "code",
   "source": [
    "# Count of active vs retired players\n",
    "status_counts = df_cleaned['status'].value_counts()\n",
    "print(\"Count of Active vs Retired players:\")\n",
    "print(status_counts)\n",
    "\n",
    "# Count by status and role (subcategory)\n",
    "status_role_counts = df_cleaned.groupby(['status', 'role']).size().unstack(fill_value=0)\n",
    "print(\"\\nCount of players by status and role:\")\n",
    "print(status_role_counts)\n"
   ],
   "id": "37c8b71ef43a87fc",
   "outputs": [
    {
     "name": "stdout",
     "output_type": "stream",
     "text": [
      "Count of Active vs Retired players:\n",
      "status\n",
      "Active     5827\n",
      "Retired    4553\n",
      "Name: count, dtype: int64\n",
      "\n",
      "Count of players by status and role:\n",
      "role     Defense  Offense  Special Teams  Unknown\n",
      "status                                           \n",
      "Active      1350     1428             37     3012\n",
      "Retired     1120     1045             19     2369\n"
     ]
    }
   ],
   "execution_count": 60
  },
  {
   "metadata": {},
   "cell_type": "markdown",
   "source": [
    "### Player Status and Role Distribution\n",
    "\n",
    "To better understand the composition of the dataset, we first examined the number of active versus retired players. Players were classified as **Active** if their most recent season played was in 2022 or later; otherwise, they were considered **Retired**.\n",
    "\n",
    "#### Count of Active vs Retired Players\n",
    "\n",
    "The dataset contains 5827 active players and 4553 retired players. This gives a fairly balanced distribution, with a slight majority of players currently active.\n",
    "\n",
    "#### Player Role Distribution by Status\n",
    "\n",
    "Among the **active** players:\n",
    "- 1350 are classified under defense\n",
    "- 1428 are classified under offense\n",
    "- 37 are part of special teams\n",
    "- 3012 have unknown roles due to missing or unclassified position data\n",
    "\n",
    "Among the **retired** players:\n",
    "- 1120 are classified under defense\n",
    "- 1045 are classified under offense\n",
    "- 19 are part of special teams\n",
    "- 2369 have unknown roles\n",
    "\n",
    "This distribution highlights that a large proportion of players have unclassified positions, and among the classified ones, offensive and defensive roles are fairly evenly split. Special teams players make up a small fraction of both groups.\n"
   ],
   "id": "ee0b62db2b831ce1"
  },
  {
   "metadata": {},
   "cell_type": "markdown",
   "source": [
    "### Select from a Pool of 200 Active Players and 200 Retired Players\n",
    "\n",
    "To train a robust and balanced model for identifying optimal players, we selected 200 active players and 200 retired players, each categorized into meaningful football roles: offense, defense, and special teams. Only players with known roles were considered to ensure data quality and relevance.\n",
    "\n",
    "From the filtered dataset of known-role players, we observed the following availability:\n",
    "\n",
    "- **Active**: 1350 defense, 1428 offense, and 37 special teams players\n",
    "- **Retired**: 1120 defense, 1045 offense, and 19 special teams players\n",
    "\n",
    "A fixed minimum of 11 players per role (offense, defense, special teams) was enforced. The remaining 163 slots were distributed proportionally between offense and defense based on availability within each group.\n",
    "\n",
    "The final target sample sizes were:\n",
    "\n",
    "- **Active**:\n",
    "  - 97 offense\n",
    "  - 92 defense\n",
    "  - 11 special teams\n",
    "\n",
    "- **Retired**:\n",
    "  - 92 offense\n",
    "  - 97 defense\n",
    "  - 11 special teams\n",
    "\n",
    "Players were randomly sampled according to these targets, ensuring reproducibility through a fixed random seed. The resulting datasets are:\n",
    "\n",
    "- **Final Active Sample**: 200 players total\n",
    "  - 97 offense\n",
    "  - 92 defense\n",
    "  - 11 special teams\n",
    "\n",
    "- **Final Retired Sample**: 200 players total\n",
    "  - 92 offense\n",
    "  - 97 defense\n",
    "  - 11 special teams"
   ],
   "id": "ced2a4f9e81aee6e"
  },
  {
   "metadata": {
    "ExecuteTime": {
     "end_time": "2025-05-29T01:17:30.762346Z",
     "start_time": "2025-05-29T01:17:30.646844Z"
    }
   },
   "cell_type": "code",
   "source": [
    "# Filter players with known roles\n",
    "df_known = df_cleaned[df_cleaned['role'] != 'Unknown']\n",
    "\n",
    "# Check availability\n",
    "role_counts = df_known.groupby(['status', 'role']).size().unstack(fill_value=0)\n",
    "print(\"Available players by role and status:\\n\", role_counts)\n",
    "\n",
    "# Define minimums\n",
    "min_per_role = {'Offense': 11, 'Defense': 11, 'Special Teams': 11}\n",
    "total_needed = 200\n",
    "remaining = total_needed - sum(min_per_role.values())  # 163\n",
    "\n",
    "# Allocation function\n",
    "def allocate_sample_sizes(counts_row, min_fixed, remaining_slots):\n",
    "    roles_extra = ['Offense', 'Defense']\n",
    "    available = counts_row[roles_extra]\n",
    "    prop = available / available.sum()\n",
    "    extra_alloc = (prop * remaining_slots).round().astype(int)\n",
    "    \n",
    "    # Fix rounding issue\n",
    "    diff = remaining_slots - extra_alloc.sum()\n",
    "    if diff != 0:\n",
    "        adjust_role = extra_alloc.idxmax() if diff > 0 else extra_alloc.idxmin()\n",
    "        extra_alloc[adjust_role] += diff\n",
    "    \n",
    "    final_counts = pd.Series(min_fixed).copy()\n",
    "    for role in roles_extra:\n",
    "        final_counts[role] += extra_alloc[role]\n",
    "    \n",
    "    # Cap by availability\n",
    "    for role in final_counts.index:\n",
    "        final_counts[role] = min(final_counts[role], counts_row.get(role, 0))\n",
    "    \n",
    "    return final_counts.astype(int)\n",
    "\n",
    "# Compute sample sizes for Active and Retired\n",
    "active_sample_sizes = allocate_sample_sizes(role_counts.loc['Active'], min_per_role, remaining)\n",
    "retired_sample_sizes = allocate_sample_sizes(role_counts.loc['Retired'], min_per_role, remaining)\n",
    "\n",
    "print(\"\\nTarget Sample Sizes (Active):\\n\", active_sample_sizes)\n",
    "print(\"\\nTarget Sample Sizes (Retired):\\n\", retired_sample_sizes)\n",
    "\n",
    "# Sample players\n",
    "def sample_players(df, status, sizes):\n",
    "    samples = []\n",
    "    for role, n in sizes.items():\n",
    "        sub = df[(df['status'] == status) & (df['role'] == role)]\n",
    "        samples.append(sub.sample(n=n, random_state=42))\n",
    "    return pd.concat(samples, ignore_index=True)\n",
    "\n",
    "df_active_final = sample_players(df_known, 'Active', active_sample_sizes)\n",
    "df_retired_final = sample_players(df_known, 'Retired', retired_sample_sizes)\n",
    "\n",
    "\n",
    "print(\"\\nFinal Active Sample Shape:\", df_active_final.shape)\n",
    "print(df_active_final['role'].value_counts())\n",
    "\n",
    "print(\"\\nFinal Retired Sample Shape:\", df_retired_final.shape)\n",
    "print(df_retired_final['role'].value_counts())\n"
   ],
   "id": "ee52e5cf63b650cb",
   "outputs": [
    {
     "name": "stdout",
     "output_type": "stream",
     "text": [
      "Available players by role and status:\n",
      " role     Defense  Offense  Special Teams\n",
      "status                                  \n",
      "Active      1350     1428             37\n",
      "Retired     1120     1045             19\n",
      "\n",
      "Target Sample Sizes (Active):\n",
      " Offense          97\n",
      "Defense          92\n",
      "Special Teams    11\n",
      "dtype: int64\n",
      "\n",
      "Target Sample Sizes (Retired):\n",
      " Offense          92\n",
      "Defense          97\n",
      "Special Teams    11\n",
      "dtype: int64\n",
      "\n",
      "Final Active Sample Shape: (200, 40)\n",
      "role\n",
      "Offense          97\n",
      "Defense          92\n",
      "Special Teams    11\n",
      "Name: count, dtype: int64\n",
      "\n",
      "Final Retired Sample Shape: (200, 40)\n",
      "role\n",
      "Defense          97\n",
      "Offense          92\n",
      "Special Teams    11\n",
      "Name: count, dtype: int64\n"
     ]
    }
   ],
   "execution_count": 61
  },
  {
   "metadata": {},
   "cell_type": "markdown",
   "source": [
    "### Identify Optimal Team (33 Players per Group)\n",
    "\n",
    "This task focuses on selecting the top 33 performers from each group — active and retired NFL players — based on their role-specific performance metrics. These selected players will represent the \"optimal team\" for their respective categories.\n",
    "\n",
    "This step is foundational for the next phase of modeling, where we aim to build a supervised learning system capable of identifying top-performing players.\n",
    "\n",
    "**Why This Step is Important:**\n",
    "\n",
    "- It creates a **binary target variable**, labeling players as either optimal (1) or not optimal (0). This is essential for training a binary classification model.\n",
    "- It helps **define the model output class** for the deep learning model, guiding it to distinguish top-tier talent.\n",
    "- It ensures the model is exposed to the **most relevant examples** during training, improving its ability to generalize to unseen data and identify future star players.\n",
    "\n",
    "**How This Supports the MLP (Multi-Layer Perceptron):**\n",
    "\n",
    "- The MLP model will use player features (e.g., passing yards, sacks, receptions, tackles, etc.) as input.\n",
    "- It will learn to **predict whether a player belongs to an optimal team or not** based on historical and physical data.\n",
    "- The top 33 players from both the active and retired groups will be **assigned a label of 1**, indicating they are optimal selections.\n",
    "- The remaining players in the sample (167 from each group) will receive a **label of 0**, denoting they are not part of the optimal team.\n",
    "\n",
    "This labeling creates the supervised learning targets (`y`) for training the MLP, allowing it to learn patterns that differentiate top performers from the rest.\n"
   ],
   "id": "f51db73dd8269d03"
  },
  {
   "metadata": {},
   "cell_type": "markdown",
   "source": [
    "### Prepare Data for Modeling\n",
    "\n",
    "This step focuses on preparing the combined dataset for training a binary classification model using a Multi-Layer Perceptron (MLP). We begin by labeling players and assembling the feature set.\n",
    "\n",
    "We start by **assigning binary labels** to the players:\n",
    "- Players selected in the optimal \"active\" group are labeled as **1**.\n",
    "- Players from the non-optimal \"retired\" group are labeled as **0**.\n",
    "\n",
    "These two sets of players are then **combined into a single dataset**, which will be used to train the model.\n",
    "\n",
    "Next, we **select the feature columns** that capture the relevant performance metrics, such as offensive, defensive, and special teams statistics. These features represent the input data for the model.\n",
    "\n",
    "We then **standardize the features** using `StandardScaler` to ensure all input variables are on the same scale. This is important for neural networks to perform effectively, as they are sensitive to the scale of input values.\n",
    "\n",
    "Finally, we **split the data** into training and test sets using an 80/20 split while maintaining class distribution (`stratify=y`). This ensures that both classes (optimal and non-optimal players) are proportionally represented in both sets, which is critical for model evaluation.\n",
    "\n",
    "This structured dataset will now be ready for input into a supervised learning model, such as an MLP, to learn patterns that distinguish top-performing NFL players.\n"
   ],
   "id": "dca6e83a5e1182e7"
  },
  {
   "metadata": {
    "ExecuteTime": {
     "end_time": "2025-05-29T01:24:18.906796Z",
     "start_time": "2025-05-29T01:24:18.554856Z"
    }
   },
   "cell_type": "code",
   "source": [
    "# Combine and label\n",
    "df_active_final['label'] = 1\n",
    "df_retired_final['label'] = 0\n",
    "df_model = pd.concat([df_active_final, df_retired_final], axis=0).reset_index(drop=True)\n",
    "\n",
    "# Select features (assuming you’ve already defined these lists)\n",
    "feature_cols = offensive_cols + defensive_cols + special_teams_cols\n",
    "\n",
    "# Ensure all features exist\n",
    "assert all(col in df_model.columns for col in feature_cols), \"Some feature columns are missing.\"\n",
    "\n",
    "X = df_model[feature_cols]\n",
    "y = df_model['label']\n",
    "\n",
    "# Standardize features\n",
    "scaler = StandardScaler()\n",
    "X_scaled = scaler.fit_transform(X)\n",
    "\n",
    "# Train-test split\n",
    "X_train, X_test, y_train, y_test = train_test_split(\n",
    "    X_scaled, y, test_size=0.2, random_state=42, stratify=y)\n"
   ],
   "id": "bbf90758fbcf57c6",
   "outputs": [],
   "execution_count": 62
  },
  {
   "metadata": {},
   "cell_type": "markdown",
   "source": [
    "### Multilayer Perceptron (MLP) Architecture for NFL Player Classification\n",
    "\n",
    "This section examines the architecture and implementation of a **Multilayer Perceptron (MLP)** designed for binary classification of NFL players. The goal is to predict whether a player belongs to an \"optimal team\" based on their performance and physical metrics.\n",
    "\n",
    "**Model Objective**\n",
    "\n",
    "The MLP is trained to classify players as part of an **optimal football team**, a manually selected group based on overall performance across offense, defense, and special teams. The binary target label (`y`) is defined as:\n",
    "\n",
    "- `1`: Player is part of the 33-member optimal team\n",
    "- `0`: Player is not part of the optimal team\n",
    "\n",
    "**Model Architecture Overview**\n",
    "\n",
    "**Input Layer**\n",
    "\n",
    "The input layer receives a set of numerical features representing a player's attributes. Each input node corresponds to one feature, such as rushing yards, sacks, or combine test results. These features provide a comprehensive view of the player’s capabilities.\n",
    "\n",
    "**Hidden Layers**\n",
    "\n",
    "The network includes two dense hidden layers to model complex feature interactions:\n",
    "\n",
    "- The **first hidden layer** has **64 neurons** with **ReLU activation**, followed by a **dropout layer (rate 0.3)** to reduce overfitting.\n",
    "- The **second hidden layer** has **32 neurons**, also using **ReLU activation** and followed by another **dropout layer (rate 0.3)**.\n",
    "\n",
    "These layers capture nonlinear relationships among the input features, enabling the model to learn intricate patterns in the data.\n",
    "\n",
    "**Output Layer**\n",
    "\n",
    "The output layer consists of a **single neuron with a sigmoid activation function**, which outputs a probability score indicating the likelihood that a player belongs to the optimal team. A threshold (commonly 0.5) is used to convert this probability into a binary prediction.\n",
    "\n",
    "**Data Flow and Learning Process**\n",
    "\n",
    "- **Forward Propagation**: Data flows from the input to the output layer, passing through each hidden layer to generate predictions.\n",
    "- **Backpropagation**: During training, the model updates its weights and biases using gradient descent to minimize the **binary cross-entropy loss**.\n",
    "\n",
    "The model is trained using labeled data and continuously adjusts its parameters to improve classification accuracy over time.\n",
    "\n",
    "**Input Feature Categories**\n",
    "\n",
    "The model uses a diverse set of features drawn from player performance statistics and physical test results:\n",
    "\n",
    "- **Offensive Features**: `passAtt`, `passTd`, `rushYards`, `recYards`\n",
    "- **Defensive Features**: `tacklesCount`, `sackCount`, `int`, `forcedFumbles`\n",
    "- **Special Teams Features**: `kickRetYds`, `kickReturnTd`, `kickInside20`\n",
    "- **Combine Metrics**: `combine40yd`, `combineBench`, `combineVert`, and others such as shuttle run and broad jump\n",
    "\n",
    "These inputs enable the MLP to holistically evaluate a player's impact on the field. This MLP architecture, inspired by the DSC-550 design, is well-suited for binary classification tasks in sports analytics. With dense connectivity, non-linear activation, dropout regularization, and binary output, the model effectively learns to distinguish top-performing NFL players from the rest.\n"
   ],
   "id": "6caaf7f8097b561f"
  },
  {
   "metadata": {
    "ExecuteTime": {
     "end_time": "2025-05-29T01:25:50.422934Z",
     "start_time": "2025-05-29T01:25:48.984052Z"
    }
   },
   "cell_type": "code",
   "source": [
    "# Build the model\n",
    "model = Sequential([\n",
    "    Dense(64, activation='relu', input_shape=(X_train.shape[1],)),\n",
    "    Dropout(0.3),\n",
    "    Dense(32, activation='relu'),\n",
    "    Dropout(0.3),\n",
    "    Dense(1, activation='sigmoid')  # sigmoid for binary classification\n",
    "])\n",
    "\n",
    "# Compile the model\n",
    "model.compile(optimizer=Adam(learning_rate=0.001),\n",
    "              loss='binary_crossentropy',\n",
    "              metrics=['accuracy'])\n",
    "\n",
    "# Summary of the model\n",
    "model.summary()\n"
   ],
   "id": "1ff821e844b1ba69",
   "outputs": [
    {
     "name": "stderr",
     "output_type": "stream",
     "text": [
      "/Users/mohini/PycharmProjects/scientificProject/venv/lib/python3.12/site-packages/keras/src/layers/core/dense.py:93: UserWarning: Do not pass an `input_shape`/`input_dim` argument to a layer. When using Sequential models, prefer using an `Input(shape)` object as the first layer in the model instead.\n",
      "  super().__init__(activity_regularizer=activity_regularizer, **kwargs)\n"
     ]
    },
    {
     "data": {
      "text/plain": [
       "\u001B[1mModel: \"sequential\"\u001B[0m\n"
      ],
      "text/html": [
       "<pre style=\"white-space:pre;overflow-x:auto;line-height:normal;font-family:Menlo,'DejaVu Sans Mono',consolas,'Courier New',monospace\"><span style=\"font-weight: bold\">Model: \"sequential\"</span>\n",
       "</pre>\n"
      ]
     },
     "metadata": {},
     "output_type": "display_data"
    },
    {
     "data": {
      "text/plain": [
       "┏━━━━━━━━━━━━━━━━━━━━━━━━━━━━━━━━━┳━━━━━━━━━━━━━━━━━━━━━━━━┳━━━━━━━━━━━━━━━┓\n",
       "┃\u001B[1m \u001B[0m\u001B[1mLayer (type)                   \u001B[0m\u001B[1m \u001B[0m┃\u001B[1m \u001B[0m\u001B[1mOutput Shape          \u001B[0m\u001B[1m \u001B[0m┃\u001B[1m \u001B[0m\u001B[1m      Param #\u001B[0m\u001B[1m \u001B[0m┃\n",
       "┡━━━━━━━━━━━━━━━━━━━━━━━━━━━━━━━━━╇━━━━━━━━━━━━━━━━━━━━━━━━╇━━━━━━━━━━━━━━━┩\n",
       "│ dense (\u001B[38;5;33mDense\u001B[0m)                   │ (\u001B[38;5;45mNone\u001B[0m, \u001B[38;5;34m64\u001B[0m)             │         \u001B[38;5;34m1,600\u001B[0m │\n",
       "├─────────────────────────────────┼────────────────────────┼───────────────┤\n",
       "│ dropout (\u001B[38;5;33mDropout\u001B[0m)               │ (\u001B[38;5;45mNone\u001B[0m, \u001B[38;5;34m64\u001B[0m)             │             \u001B[38;5;34m0\u001B[0m │\n",
       "├─────────────────────────────────┼────────────────────────┼───────────────┤\n",
       "│ dense_1 (\u001B[38;5;33mDense\u001B[0m)                 │ (\u001B[38;5;45mNone\u001B[0m, \u001B[38;5;34m32\u001B[0m)             │         \u001B[38;5;34m2,080\u001B[0m │\n",
       "├─────────────────────────────────┼────────────────────────┼───────────────┤\n",
       "│ dropout_1 (\u001B[38;5;33mDropout\u001B[0m)             │ (\u001B[38;5;45mNone\u001B[0m, \u001B[38;5;34m32\u001B[0m)             │             \u001B[38;5;34m0\u001B[0m │\n",
       "├─────────────────────────────────┼────────────────────────┼───────────────┤\n",
       "│ dense_2 (\u001B[38;5;33mDense\u001B[0m)                 │ (\u001B[38;5;45mNone\u001B[0m, \u001B[38;5;34m1\u001B[0m)              │            \u001B[38;5;34m33\u001B[0m │\n",
       "└─────────────────────────────────┴────────────────────────┴───────────────┘\n"
      ],
      "text/html": [
       "<pre style=\"white-space:pre;overflow-x:auto;line-height:normal;font-family:Menlo,'DejaVu Sans Mono',consolas,'Courier New',monospace\">┏━━━━━━━━━━━━━━━━━━━━━━━━━━━━━━━━━┳━━━━━━━━━━━━━━━━━━━━━━━━┳━━━━━━━━━━━━━━━┓\n",
       "┃<span style=\"font-weight: bold\"> Layer (type)                    </span>┃<span style=\"font-weight: bold\"> Output Shape           </span>┃<span style=\"font-weight: bold\">       Param # </span>┃\n",
       "┡━━━━━━━━━━━━━━━━━━━━━━━━━━━━━━━━━╇━━━━━━━━━━━━━━━━━━━━━━━━╇━━━━━━━━━━━━━━━┩\n",
       "│ dense (<span style=\"color: #0087ff; text-decoration-color: #0087ff\">Dense</span>)                   │ (<span style=\"color: #00d7ff; text-decoration-color: #00d7ff\">None</span>, <span style=\"color: #00af00; text-decoration-color: #00af00\">64</span>)             │         <span style=\"color: #00af00; text-decoration-color: #00af00\">1,600</span> │\n",
       "├─────────────────────────────────┼────────────────────────┼───────────────┤\n",
       "│ dropout (<span style=\"color: #0087ff; text-decoration-color: #0087ff\">Dropout</span>)               │ (<span style=\"color: #00d7ff; text-decoration-color: #00d7ff\">None</span>, <span style=\"color: #00af00; text-decoration-color: #00af00\">64</span>)             │             <span style=\"color: #00af00; text-decoration-color: #00af00\">0</span> │\n",
       "├─────────────────────────────────┼────────────────────────┼───────────────┤\n",
       "│ dense_1 (<span style=\"color: #0087ff; text-decoration-color: #0087ff\">Dense</span>)                 │ (<span style=\"color: #00d7ff; text-decoration-color: #00d7ff\">None</span>, <span style=\"color: #00af00; text-decoration-color: #00af00\">32</span>)             │         <span style=\"color: #00af00; text-decoration-color: #00af00\">2,080</span> │\n",
       "├─────────────────────────────────┼────────────────────────┼───────────────┤\n",
       "│ dropout_1 (<span style=\"color: #0087ff; text-decoration-color: #0087ff\">Dropout</span>)             │ (<span style=\"color: #00d7ff; text-decoration-color: #00d7ff\">None</span>, <span style=\"color: #00af00; text-decoration-color: #00af00\">32</span>)             │             <span style=\"color: #00af00; text-decoration-color: #00af00\">0</span> │\n",
       "├─────────────────────────────────┼────────────────────────┼───────────────┤\n",
       "│ dense_2 (<span style=\"color: #0087ff; text-decoration-color: #0087ff\">Dense</span>)                 │ (<span style=\"color: #00d7ff; text-decoration-color: #00d7ff\">None</span>, <span style=\"color: #00af00; text-decoration-color: #00af00\">1</span>)              │            <span style=\"color: #00af00; text-decoration-color: #00af00\">33</span> │\n",
       "└─────────────────────────────────┴────────────────────────┴───────────────┘\n",
       "</pre>\n"
      ]
     },
     "metadata": {},
     "output_type": "display_data"
    },
    {
     "data": {
      "text/plain": [
       "\u001B[1m Total params: \u001B[0m\u001B[38;5;34m3,713\u001B[0m (14.50 KB)\n"
      ],
      "text/html": [
       "<pre style=\"white-space:pre;overflow-x:auto;line-height:normal;font-family:Menlo,'DejaVu Sans Mono',consolas,'Courier New',monospace\"><span style=\"font-weight: bold\"> Total params: </span><span style=\"color: #00af00; text-decoration-color: #00af00\">3,713</span> (14.50 KB)\n",
       "</pre>\n"
      ]
     },
     "metadata": {},
     "output_type": "display_data"
    },
    {
     "data": {
      "text/plain": [
       "\u001B[1m Trainable params: \u001B[0m\u001B[38;5;34m3,713\u001B[0m (14.50 KB)\n"
      ],
      "text/html": [
       "<pre style=\"white-space:pre;overflow-x:auto;line-height:normal;font-family:Menlo,'DejaVu Sans Mono',consolas,'Courier New',monospace\"><span style=\"font-weight: bold\"> Trainable params: </span><span style=\"color: #00af00; text-decoration-color: #00af00\">3,713</span> (14.50 KB)\n",
       "</pre>\n"
      ]
     },
     "metadata": {},
     "output_type": "display_data"
    },
    {
     "data": {
      "text/plain": [
       "\u001B[1m Non-trainable params: \u001B[0m\u001B[38;5;34m0\u001B[0m (0.00 B)\n"
      ],
      "text/html": [
       "<pre style=\"white-space:pre;overflow-x:auto;line-height:normal;font-family:Menlo,'DejaVu Sans Mono',consolas,'Courier New',monospace\"><span style=\"font-weight: bold\"> Non-trainable params: </span><span style=\"color: #00af00; text-decoration-color: #00af00\">0</span> (0.00 B)\n",
       "</pre>\n"
      ]
     },
     "metadata": {},
     "output_type": "display_data"
    }
   ],
   "execution_count": 63
  },
  {
   "metadata": {},
   "cell_type": "markdown",
   "source": [
    "#### Compilation:\n",
    "\n",
    "- The model uses the **Adam optimizer** with a learning rate of 0.001.\n",
    "- The **binary cross-entropy loss** function is suitable for binary classification tasks.\n",
    "- **Accuracy** is used as the evaluation metric during training and testing.\n",
    "\n",
    "#### Model Summary:\n",
    "\n",
    "- The model has a total of **3,713 trainable parameters**.\n",
    "- It is lightweight, allowing for fast training while being complex enough to capture non-linear patterns in player performance data.\n",
    "\n",
    "This architecture provides a balance between model complexity and generalization, making it well-suited for distinguishing between top-performing and non-optimal NFL players.\n"
   ],
   "id": "682d69861a1e30c5"
  },
  {
   "metadata": {
    "ExecuteTime": {
     "end_time": "2025-05-29T01:29:47.930641Z",
     "start_time": "2025-05-29T01:29:27.034024Z"
    }
   },
   "cell_type": "code",
   "source": [
    "history = model.fit(\n",
    "    X_train, y_train,\n",
    "    validation_data=(X_test, y_test),  # Use test set as validation set\n",
    "    epochs=50,\n",
    "    batch_size=32,\n",
    "    verbose=1\n",
    ")"
   ],
   "id": "e2288230c5f07489",
   "outputs": [
    {
     "name": "stdout",
     "output_type": "stream",
     "text": [
      "Epoch 1/50\n",
      "\u001B[1m10/10\u001B[0m \u001B[32m━━━━━━━━━━━━━━━━━━━━\u001B[0m\u001B[37m\u001B[0m \u001B[1m6s\u001B[0m 81ms/step - accuracy: 0.4684 - loss: 0.7378 - val_accuracy: 0.4750 - val_loss: 0.6911\n",
      "Epoch 2/50\n",
      "\u001B[1m10/10\u001B[0m \u001B[32m━━━━━━━━━━━━━━━━━━━━\u001B[0m\u001B[37m\u001B[0m \u001B[1m0s\u001B[0m 21ms/step - accuracy: 0.5263 - loss: 0.7251 - val_accuracy: 0.5750 - val_loss: 0.6776\n",
      "Epoch 3/50\n",
      "\u001B[1m10/10\u001B[0m \u001B[32m━━━━━━━━━━━━━━━━━━━━\u001B[0m\u001B[37m\u001B[0m \u001B[1m0s\u001B[0m 17ms/step - accuracy: 0.5019 - loss: 0.6931 - val_accuracy: 0.5750 - val_loss: 0.6692\n",
      "Epoch 4/50\n",
      "\u001B[1m10/10\u001B[0m \u001B[32m━━━━━━━━━━━━━━━━━━━━\u001B[0m\u001B[37m\u001B[0m \u001B[1m0s\u001B[0m 17ms/step - accuracy: 0.5209 - loss: 0.7060 - val_accuracy: 0.6125 - val_loss: 0.6644\n",
      "Epoch 5/50\n",
      "\u001B[1m10/10\u001B[0m \u001B[32m━━━━━━━━━━━━━━━━━━━━\u001B[0m\u001B[37m\u001B[0m \u001B[1m0s\u001B[0m 16ms/step - accuracy: 0.5349 - loss: 0.6795 - val_accuracy: 0.6375 - val_loss: 0.6627\n",
      "Epoch 6/50\n",
      "\u001B[1m10/10\u001B[0m \u001B[32m━━━━━━━━━━━━━━━━━━━━\u001B[0m\u001B[37m\u001B[0m \u001B[1m0s\u001B[0m 22ms/step - accuracy: 0.5832 - loss: 0.6586 - val_accuracy: 0.6375 - val_loss: 0.6617\n",
      "Epoch 7/50\n",
      "\u001B[1m10/10\u001B[0m \u001B[32m━━━━━━━━━━━━━━━━━━━━\u001B[0m\u001B[37m\u001B[0m \u001B[1m0s\u001B[0m 19ms/step - accuracy: 0.5871 - loss: 0.6964 - val_accuracy: 0.6250 - val_loss: 0.6595\n",
      "Epoch 8/50\n",
      "\u001B[1m10/10\u001B[0m \u001B[32m━━━━━━━━━━━━━━━━━━━━\u001B[0m\u001B[37m\u001B[0m \u001B[1m0s\u001B[0m 30ms/step - accuracy: 0.6115 - loss: 0.6562 - val_accuracy: 0.6500 - val_loss: 0.6561\n",
      "Epoch 9/50\n",
      "\u001B[1m10/10\u001B[0m \u001B[32m━━━━━━━━━━━━━━━━━━━━\u001B[0m\u001B[37m\u001B[0m \u001B[1m0s\u001B[0m 19ms/step - accuracy: 0.5803 - loss: 0.6600 - val_accuracy: 0.6500 - val_loss: 0.6532\n",
      "Epoch 10/50\n",
      "\u001B[1m10/10\u001B[0m \u001B[32m━━━━━━━━━━━━━━━━━━━━\u001B[0m\u001B[37m\u001B[0m \u001B[1m0s\u001B[0m 18ms/step - accuracy: 0.5996 - loss: 0.6660 - val_accuracy: 0.6500 - val_loss: 0.6509\n",
      "Epoch 11/50\n",
      "\u001B[1m10/10\u001B[0m \u001B[32m━━━━━━━━━━━━━━━━━━━━\u001B[0m\u001B[37m\u001B[0m \u001B[1m0s\u001B[0m 19ms/step - accuracy: 0.5994 - loss: 0.6694 - val_accuracy: 0.6500 - val_loss: 0.6510\n",
      "Epoch 12/50\n",
      "\u001B[1m10/10\u001B[0m \u001B[32m━━━━━━━━━━━━━━━━━━━━\u001B[0m\u001B[37m\u001B[0m \u001B[1m0s\u001B[0m 22ms/step - accuracy: 0.5906 - loss: 0.6625 - val_accuracy: 0.6375 - val_loss: 0.6486\n",
      "Epoch 13/50\n",
      "\u001B[1m10/10\u001B[0m \u001B[32m━━━━━━━━━━━━━━━━━━━━\u001B[0m\u001B[37m\u001B[0m \u001B[1m0s\u001B[0m 25ms/step - accuracy: 0.6097 - loss: 0.6689 - val_accuracy: 0.6375 - val_loss: 0.6486\n",
      "Epoch 14/50\n",
      "\u001B[1m10/10\u001B[0m \u001B[32m━━━━━━━━━━━━━━━━━━━━\u001B[0m\u001B[37m\u001B[0m \u001B[1m0s\u001B[0m 23ms/step - accuracy: 0.5729 - loss: 0.6733 - val_accuracy: 0.6375 - val_loss: 0.6489\n",
      "Epoch 15/50\n",
      "\u001B[1m10/10\u001B[0m \u001B[32m━━━━━━━━━━━━━━━━━━━━\u001B[0m\u001B[37m\u001B[0m \u001B[1m0s\u001B[0m 21ms/step - accuracy: 0.5846 - loss: 0.6532 - val_accuracy: 0.6375 - val_loss: 0.6479\n",
      "Epoch 16/50\n",
      "\u001B[1m10/10\u001B[0m \u001B[32m━━━━━━━━━━━━━━━━━━━━\u001B[0m\u001B[37m\u001B[0m \u001B[1m0s\u001B[0m 18ms/step - accuracy: 0.5980 - loss: 0.6323 - val_accuracy: 0.6625 - val_loss: 0.6461\n",
      "Epoch 17/50\n",
      "\u001B[1m10/10\u001B[0m \u001B[32m━━━━━━━━━━━━━━━━━━━━\u001B[0m\u001B[37m\u001B[0m \u001B[1m0s\u001B[0m 19ms/step - accuracy: 0.5827 - loss: 0.6731 - val_accuracy: 0.6750 - val_loss: 0.6434\n",
      "Epoch 18/50\n",
      "\u001B[1m10/10\u001B[0m \u001B[32m━━━━━━━━━━━━━━━━━━━━\u001B[0m\u001B[37m\u001B[0m \u001B[1m0s\u001B[0m 19ms/step - accuracy: 0.6478 - loss: 0.6353 - val_accuracy: 0.6500 - val_loss: 0.6409\n",
      "Epoch 19/50\n",
      "\u001B[1m10/10\u001B[0m \u001B[32m━━━━━━━━━━━━━━━━━━━━\u001B[0m\u001B[37m\u001B[0m \u001B[1m0s\u001B[0m 20ms/step - accuracy: 0.5925 - loss: 0.6317 - val_accuracy: 0.6500 - val_loss: 0.6411\n",
      "Epoch 20/50\n",
      "\u001B[1m10/10\u001B[0m \u001B[32m━━━━━━━━━━━━━━━━━━━━\u001B[0m\u001B[37m\u001B[0m \u001B[1m0s\u001B[0m 21ms/step - accuracy: 0.5927 - loss: 0.6476 - val_accuracy: 0.6375 - val_loss: 0.6438\n",
      "Epoch 21/50\n",
      "\u001B[1m10/10\u001B[0m \u001B[32m━━━━━━━━━━━━━━━━━━━━\u001B[0m\u001B[37m\u001B[0m \u001B[1m0s\u001B[0m 21ms/step - accuracy: 0.6250 - loss: 0.6426 - val_accuracy: 0.6250 - val_loss: 0.6452\n",
      "Epoch 22/50\n",
      "\u001B[1m10/10\u001B[0m \u001B[32m━━━━━━━━━━━━━━━━━━━━\u001B[0m\u001B[37m\u001B[0m \u001B[1m0s\u001B[0m 16ms/step - accuracy: 0.6329 - loss: 0.6336 - val_accuracy: 0.6250 - val_loss: 0.6455\n",
      "Epoch 23/50\n",
      "\u001B[1m10/10\u001B[0m \u001B[32m━━━━━━━━━━━━━━━━━━━━\u001B[0m\u001B[37m\u001B[0m \u001B[1m0s\u001B[0m 18ms/step - accuracy: 0.6525 - loss: 0.6461 - val_accuracy: 0.6250 - val_loss: 0.6456\n",
      "Epoch 24/50\n",
      "\u001B[1m10/10\u001B[0m \u001B[32m━━━━━━━━━━━━━━━━━━━━\u001B[0m\u001B[37m\u001B[0m \u001B[1m0s\u001B[0m 17ms/step - accuracy: 0.5923 - loss: 0.6452 - val_accuracy: 0.6375 - val_loss: 0.6447\n",
      "Epoch 25/50\n",
      "\u001B[1m10/10\u001B[0m \u001B[32m━━━━━━━━━━━━━━━━━━━━\u001B[0m\u001B[37m\u001B[0m \u001B[1m0s\u001B[0m 21ms/step - accuracy: 0.6491 - loss: 0.6153 - val_accuracy: 0.6375 - val_loss: 0.6435\n",
      "Epoch 26/50\n",
      "\u001B[1m10/10\u001B[0m \u001B[32m━━━━━━━━━━━━━━━━━━━━\u001B[0m\u001B[37m\u001B[0m \u001B[1m0s\u001B[0m 19ms/step - accuracy: 0.6270 - loss: 0.6272 - val_accuracy: 0.6375 - val_loss: 0.6439\n",
      "Epoch 27/50\n",
      "\u001B[1m10/10\u001B[0m \u001B[32m━━━━━━━━━━━━━━━━━━━━\u001B[0m\u001B[37m\u001B[0m \u001B[1m0s\u001B[0m 21ms/step - accuracy: 0.6095 - loss: 0.6401 - val_accuracy: 0.6375 - val_loss: 0.6436\n",
      "Epoch 28/50\n",
      "\u001B[1m10/10\u001B[0m \u001B[32m━━━━━━━━━━━━━━━━━━━━\u001B[0m\u001B[37m\u001B[0m \u001B[1m0s\u001B[0m 19ms/step - accuracy: 0.6492 - loss: 0.6248 - val_accuracy: 0.6375 - val_loss: 0.6449\n",
      "Epoch 29/50\n",
      "\u001B[1m10/10\u001B[0m \u001B[32m━━━━━━━━━━━━━━━━━━━━\u001B[0m\u001B[37m\u001B[0m \u001B[1m0s\u001B[0m 19ms/step - accuracy: 0.5734 - loss: 0.6309 - val_accuracy: 0.6500 - val_loss: 0.6432\n",
      "Epoch 30/50\n",
      "\u001B[1m10/10\u001B[0m \u001B[32m━━━━━━━━━━━━━━━━━━━━\u001B[0m\u001B[37m\u001B[0m \u001B[1m0s\u001B[0m 17ms/step - accuracy: 0.6147 - loss: 0.6375 - val_accuracy: 0.6375 - val_loss: 0.6435\n",
      "Epoch 31/50\n",
      "\u001B[1m10/10\u001B[0m \u001B[32m━━━━━━━━━━━━━━━━━━━━\u001B[0m\u001B[37m\u001B[0m \u001B[1m0s\u001B[0m 18ms/step - accuracy: 0.6047 - loss: 0.6328 - val_accuracy: 0.6250 - val_loss: 0.6454\n",
      "Epoch 32/50\n",
      "\u001B[1m10/10\u001B[0m \u001B[32m━━━━━━━━━━━━━━━━━━━━\u001B[0m\u001B[37m\u001B[0m \u001B[1m0s\u001B[0m 25ms/step - accuracy: 0.6505 - loss: 0.6243 - val_accuracy: 0.6125 - val_loss: 0.6449\n",
      "Epoch 33/50\n",
      "\u001B[1m10/10\u001B[0m \u001B[32m━━━━━━━━━━━━━━━━━━━━\u001B[0m\u001B[37m\u001B[0m \u001B[1m0s\u001B[0m 23ms/step - accuracy: 0.6657 - loss: 0.6064 - val_accuracy: 0.6250 - val_loss: 0.6455\n",
      "Epoch 34/50\n",
      "\u001B[1m10/10\u001B[0m \u001B[32m━━━━━━━━━━━━━━━━━━━━\u001B[0m\u001B[37m\u001B[0m \u001B[1m0s\u001B[0m 24ms/step - accuracy: 0.6534 - loss: 0.6114 - val_accuracy: 0.6500 - val_loss: 0.6461\n",
      "Epoch 35/50\n",
      "\u001B[1m10/10\u001B[0m \u001B[32m━━━━━━━━━━━━━━━━━━━━\u001B[0m\u001B[37m\u001B[0m \u001B[1m0s\u001B[0m 21ms/step - accuracy: 0.5881 - loss: 0.6399 - val_accuracy: 0.6500 - val_loss: 0.6433\n",
      "Epoch 36/50\n",
      "\u001B[1m10/10\u001B[0m \u001B[32m━━━━━━━━━━━━━━━━━━━━\u001B[0m\u001B[37m\u001B[0m \u001B[1m0s\u001B[0m 23ms/step - accuracy: 0.6422 - loss: 0.6043 - val_accuracy: 0.6375 - val_loss: 0.6405\n",
      "Epoch 37/50\n",
      "\u001B[1m10/10\u001B[0m \u001B[32m━━━━━━━━━━━━━━━━━━━━\u001B[0m\u001B[37m\u001B[0m \u001B[1m0s\u001B[0m 25ms/step - accuracy: 0.6407 - loss: 0.5967 - val_accuracy: 0.6375 - val_loss: 0.6376\n",
      "Epoch 38/50\n",
      "\u001B[1m10/10\u001B[0m \u001B[32m━━━━━━━━━━━━━━━━━━━━\u001B[0m\u001B[37m\u001B[0m \u001B[1m0s\u001B[0m 22ms/step - accuracy: 0.6091 - loss: 0.6363 - val_accuracy: 0.6500 - val_loss: 0.6404\n",
      "Epoch 39/50\n",
      "\u001B[1m10/10\u001B[0m \u001B[32m━━━━━━━━━━━━━━━━━━━━\u001B[0m\u001B[37m\u001B[0m \u001B[1m0s\u001B[0m 31ms/step - accuracy: 0.6050 - loss: 0.6150 - val_accuracy: 0.6625 - val_loss: 0.6448\n",
      "Epoch 40/50\n",
      "\u001B[1m10/10\u001B[0m \u001B[32m━━━━━━━━━━━━━━━━━━━━\u001B[0m\u001B[37m\u001B[0m \u001B[1m0s\u001B[0m 26ms/step - accuracy: 0.6080 - loss: 0.6268 - val_accuracy: 0.6625 - val_loss: 0.6488\n",
      "Epoch 41/50\n",
      "\u001B[1m10/10\u001B[0m \u001B[32m━━━━━━━━━━━━━━━━━━━━\u001B[0m\u001B[37m\u001B[0m \u001B[1m1s\u001B[0m 23ms/step - accuracy: 0.6135 - loss: 0.6155 - val_accuracy: 0.6625 - val_loss: 0.6515\n",
      "Epoch 42/50\n",
      "\u001B[1m10/10\u001B[0m \u001B[32m━━━━━━━━━━━━━━━━━━━━\u001B[0m\u001B[37m\u001B[0m \u001B[1m0s\u001B[0m 25ms/step - accuracy: 0.6603 - loss: 0.5874 - val_accuracy: 0.6250 - val_loss: 0.6508\n",
      "Epoch 43/50\n",
      "\u001B[1m10/10\u001B[0m \u001B[32m━━━━━━━━━━━━━━━━━━━━\u001B[0m\u001B[37m\u001B[0m \u001B[1m0s\u001B[0m 27ms/step - accuracy: 0.6220 - loss: 0.6228 - val_accuracy: 0.6500 - val_loss: 0.6476\n",
      "Epoch 44/50\n",
      "\u001B[1m10/10\u001B[0m \u001B[32m━━━━━━━━━━━━━━━━━━━━\u001B[0m\u001B[37m\u001B[0m \u001B[1m0s\u001B[0m 22ms/step - accuracy: 0.6565 - loss: 0.5899 - val_accuracy: 0.6500 - val_loss: 0.6450\n",
      "Epoch 45/50\n",
      "\u001B[1m10/10\u001B[0m \u001B[32m━━━━━━━━━━━━━━━━━━━━\u001B[0m\u001B[37m\u001B[0m \u001B[1m0s\u001B[0m 17ms/step - accuracy: 0.6294 - loss: 0.5871 - val_accuracy: 0.6375 - val_loss: 0.6434\n",
      "Epoch 46/50\n",
      "\u001B[1m10/10\u001B[0m \u001B[32m━━━━━━━━━━━━━━━━━━━━\u001B[0m\u001B[37m\u001B[0m \u001B[1m1s\u001B[0m 52ms/step - accuracy: 0.6657 - loss: 0.6040 - val_accuracy: 0.6375 - val_loss: 0.6447\n",
      "Epoch 47/50\n",
      "\u001B[1m10/10\u001B[0m \u001B[32m━━━━━━━━━━━━━━━━━━━━\u001B[0m\u001B[37m\u001B[0m \u001B[1m0s\u001B[0m 27ms/step - accuracy: 0.6216 - loss: 0.6059 - val_accuracy: 0.6500 - val_loss: 0.6428\n",
      "Epoch 48/50\n",
      "\u001B[1m10/10\u001B[0m \u001B[32m━━━━━━━━━━━━━━━━━━━━\u001B[0m\u001B[37m\u001B[0m \u001B[1m0s\u001B[0m 30ms/step - accuracy: 0.6460 - loss: 0.6091 - val_accuracy: 0.6625 - val_loss: 0.6424\n",
      "Epoch 49/50\n",
      "\u001B[1m10/10\u001B[0m \u001B[32m━━━━━━━━━━━━━━━━━━━━\u001B[0m\u001B[37m\u001B[0m \u001B[1m1s\u001B[0m 18ms/step - accuracy: 0.6348 - loss: 0.5932 - val_accuracy: 0.6500 - val_loss: 0.6427\n",
      "Epoch 50/50\n",
      "\u001B[1m10/10\u001B[0m \u001B[32m━━━━━━━━━━━━━━━━━━━━\u001B[0m\u001B[37m\u001B[0m \u001B[1m0s\u001B[0m 21ms/step - accuracy: 0.6478 - loss: 0.5998 - val_accuracy: 0.6500 - val_loss: 0.6429\n"
     ]
    }
   ],
   "execution_count": 64
  },
  {
   "metadata": {
    "ExecuteTime": {
     "end_time": "2025-05-29T01:29:53.018966Z",
     "start_time": "2025-05-29T01:29:52.654121Z"
    }
   },
   "cell_type": "code",
   "source": [
    "y_pred_probs = model.predict(X_test)\n",
    "y_pred = (y_pred_probs > 0.5).astype(\"int32\")\n",
    "\n",
    "print(classification_report(y_test, y_pred, target_names=[\"Retired\", \"Active\"]))\n",
    "print(\"Confusion Matrix:\")\n",
    "print(confusion_matrix(y_test, y_pred))\n"
   ],
   "id": "25d13b3cc43450df",
   "outputs": [
    {
     "name": "stdout",
     "output_type": "stream",
     "text": [
      "\u001B[1m3/3\u001B[0m \u001B[32m━━━━━━━━━━━━━━━━━━━━\u001B[0m\u001B[37m\u001B[0m \u001B[1m0s\u001B[0m 35ms/step \n",
      "              precision    recall  f1-score   support\n",
      "\n",
      "     Retired       0.60      0.90      0.72        40\n",
      "      Active       0.80      0.40      0.53        40\n",
      "\n",
      "    accuracy                           0.65        80\n",
      "   macro avg       0.70      0.65      0.63        80\n",
      "weighted avg       0.70      0.65      0.63        80\n",
      "\n",
      "Confusion Matrix:\n",
      "[[36  4]\n",
      " [24 16]]\n"
     ]
    }
   ],
   "execution_count": 65
  },
  {
   "metadata": {},
   "cell_type": "markdown",
   "source": [
    "### Model Evaluation: Binary Classification Performance\n",
    "\n",
    "After training the Multilayer Perceptron (MLP) for 50 epochs, we evaluated its performance on the test dataset, which comprises 20 percent of the total 400 players. The model predicts whether a player belongs to the \"optimal\" class, labeled as 1 for Active players, or the non-optimal class, labeled as 0 for Retired players.\n",
    "\n",
    "The classification report summarizes the model's precision, recall, and F1-score for each class along with the number of true instances (support) in the test set. For the Retired class, the precision is 0.60, recall is 0.90, and F1-score is 0.72, with 40 players in the test set. For the Active class, precision is 0.80, recall is 0.40, and F1-score is 0.53, also with 40 players. The overall accuracy of the model on this test set is 65 percent, with a macro average F1-score of 0.63.\n",
    "\n",
    "These results indicate that the model is more effective at identifying retired players, achieving a high recall of 0.90, meaning it correctly finds most retired players. However, it struggles with recognizing active players, with a lower recall of 0.40, implying many active players are missed. The model is conservative in predicting players as active, which leads to a higher number of false negatives for this class.\n",
    "\n",
    "The confusion matrix provides further insight: out of 40 retired players, 36 were correctly classified as retired, and 4 were misclassified as active. For the active players, 16 were correctly identified as active, while 24 were incorrectly classified as retired. This pattern shows the model tends to favor predicting players as retired, possibly due to differences in feature patterns or class separability.\n",
    "\n",
    "Overall, while the model shows decent performance, especially in detecting retired players, improvements are needed to better identify active players. This could be addressed by refining the model architecture, tuning hyperparameters, or enhancing feature selection and engineering to capture signals more effectively."
   ],
   "id": "28efec6373f00eaf"
  },
  {
   "metadata": {
    "ExecuteTime": {
     "end_time": "2025-05-29T01:34:08.757367Z",
     "start_time": "2025-05-29T01:34:08.668682Z"
    }
   },
   "cell_type": "code",
   "source": [
    "cm = confusion_matrix(y_test, y_pred)\n",
    "cm_df = pd.DataFrame(cm, index=[\"Actual Retired\", \"Actual Active\"], columns=[\"Predicted Retired\", \"Predicted Active\"])\n",
    "print(\"\\nConfusion Matrix:\\n\", cm_df)"
   ],
   "id": "e6cdead0cbdd3103",
   "outputs": [
    {
     "name": "stdout",
     "output_type": "stream",
     "text": [
      "\n",
      "Confusion Matrix:\n",
      "                 Predicted Retired  Predicted Active\n",
      "Actual Retired                 36                 4\n",
      "Actual Active                  24                16\n"
     ]
    }
   ],
   "execution_count": 66
  },
  {
   "metadata": {
    "ExecuteTime": {
     "end_time": "2025-05-29T01:34:12.855504Z",
     "start_time": "2025-05-29T01:34:12.831161Z"
    }
   },
   "cell_type": "code",
   "source": [
    "from sklearn.metrics import accuracy_score\n",
    "print(\"Accuracy:\", accuracy_score(y_test, y_pred))"
   ],
   "id": "6f6f4b4dc9d6c038",
   "outputs": [
    {
     "name": "stdout",
     "output_type": "stream",
     "text": [
      "Accuracy: 0.65\n"
     ]
    }
   ],
   "execution_count": 67
  },
  {
   "metadata": {},
   "cell_type": "markdown",
   "source": "The overall accuracy of the model on the test set is 65 percent. This means that the model correctly classified 65 out of every 100 players as either active or retired. While this indicates the model performs better than random guessing, there is still room for improvement to enhance its predictive ability, especially for correctly identifying active players.\n",
   "id": "2d5c3b14700a8e37"
  },
  {
   "metadata": {
    "ExecuteTime": {
     "end_time": "2025-05-29T01:34:57.514801Z",
     "start_time": "2025-05-29T01:34:55.781169Z"
    }
   },
   "cell_type": "code",
   "source": [
    "# Plot Loss Curve\n",
    "plt.figure(figsize=(10, 6))\n",
    "plt.plot(history.history['loss'], label='Train Loss')\n",
    "plt.plot(history.history['val_loss'], label='Validation Loss')\n",
    "plt.xlabel('Epoch')\n",
    "plt.ylabel('Binary Crossentropy Loss')\n",
    "plt.title('Training vs Validation Loss')\n",
    "plt.legend()\n",
    "plt.grid(True)\n",
    "plt.show()\n"
   ],
   "id": "361922023b30ff69",
   "outputs": [
    {
     "data": {
      "text/plain": [
       "<Figure size 1000x600 with 1 Axes>"
      ],
      "image/png": "[encoded data removed]"
     },
     "metadata": {},
     "output_type": "display_data"
    }
   ],
   "execution_count": 68
  },
  {
   "metadata": {},
   "cell_type": "markdown",
   "source": [
    "### Model Training Analysis\n",
    "\n",
    "The plot above shows the binary crossentropy loss for both training and validation datasets over 50 epochs. \n",
    "\n",
    "We can observe that the training loss steadily decreases, indicating that the model is learning from the data. The validation loss also decreases initially and then stabilizes, which suggests that the model is generalizing reasonably well to unseen data.\n",
    "\n",
    "There is no significant divergence between the training and validation loss, which implies that overfitting is not a major concern within this range of epochs. Overall, the model appears to be learning effectively and maintains a good balance between training performance and validation performance."
   ],
   "id": "f982077433f0129d"
  },
  {
   "metadata": {
    "ExecuteTime": {
     "end_time": "2025-05-29T01:37:57.899353Z",
     "start_time": "2025-05-29T01:37:57.869002Z"
    }
   },
   "cell_type": "code",
   "source": [
    "history_df = pd.DataFrame(history.history)\n",
    "print(history_df[['loss', 'val_loss']].tail())  # Last 5 epochs\n",
    "print(history_df[['accuracy', 'val_accuracy']].tail())  # Accuracy too\n"
   ],
   "id": "90ff3bd548dea947",
   "outputs": [
    {
     "name": "stdout",
     "output_type": "stream",
     "text": [
      "        loss  val_loss\n",
      "45  0.605560  0.644705\n",
      "46  0.609956  0.642841\n",
      "47  0.612397  0.642419\n",
      "48  0.601170  0.642652\n",
      "49  0.599183  0.642910\n",
      "    accuracy  val_accuracy\n",
      "45  0.687500        0.6375\n",
      "46  0.625000        0.6500\n",
      "47  0.653125        0.6625\n",
      "48  0.628125        0.6500\n",
      "49  0.671875        0.6500\n"
     ]
    }
   ],
   "execution_count": 69
  },
  {
   "metadata": {},
   "cell_type": "markdown",
   "source": [
    "### Training and Validation Performance in Final Epochs\n",
    "\n",
    "The table below shows the loss and accuracy metrics for the last five epochs of training and validation:\n",
    "\n",
    "- The training loss steadily decreases, ending around 0.60, indicating the model is fitting the training data better over time.\n",
    "- Validation loss remains relatively stable near 0.64, suggesting the model's generalization performance has plateaued.\n",
    "- Training accuracy fluctuates but ends near 67%, showing improvement in learning the training set.\n",
    "- Validation accuracy stays around 65%, consistent with the final accuracy metric reported earlier.\n",
    "\n",
    "These results imply the model is learning from the training data but may benefit from further tuning or regularization to improve validation performance and avoid overfitting."
   ],
   "id": "c3ba8d03314281c5"
  },
  {
   "metadata": {
    "ExecuteTime": {
     "end_time": "2025-05-29T01:38:43.527320Z",
     "start_time": "2025-05-29T01:38:43.493948Z"
    }
   },
   "cell_type": "code",
   "source": [
    "df_active_players = df_active_final.copy()\n",
    "df_retired_players = df_retired_final.copy()"
   ],
   "id": "dcbb7d701a1a2393",
   "outputs": [],
   "execution_count": 70
  },
  {
   "metadata": {
    "ExecuteTime": {
     "end_time": "2025-05-29T01:38:52.055881Z",
     "start_time": "2025-05-29T01:38:51.752266Z"
    }
   },
   "cell_type": "code",
   "source": [
    "# Get predicted probabilities for all players in df_model\n",
    "X_scaled_all = scaler.transform(df_model[feature_cols])  # Scale all features\n",
    "probs_all = model.predict(X_scaled_all).flatten()  # Predicted probability of \"Active\"\n",
    "\n",
    "# Create probs_df with playerId, status, and probabilities for Active and Retired\n",
    "probs_df = df_model[['playerId', 'status']].copy()\n",
    "probs_df['Active'] = probs_all\n",
    "probs_df['Retired'] = 1 - probs_all"
   ],
   "id": "d6618ca464c1bc8",
   "outputs": [
    {
     "name": "stdout",
     "output_type": "stream",
     "text": [
      "\u001B[1m13/13\u001B[0m \u001B[32m━━━━━━━━━━━━━━━━━━━━\u001B[0m\u001B[37m\u001B[0m \u001B[1m0s\u001B[0m 4ms/step \n"
     ]
    }
   ],
   "execution_count": 71
  },
  {
   "metadata": {
    "ExecuteTime": {
     "end_time": "2025-05-29T01:41:14.683844Z",
     "start_time": "2025-05-29T01:41:14.513384Z"
    }
   },
   "cell_type": "code",
   "source": [
    "# Prepare detailed player data with predicted probabilities\n",
    "detailed_active = df_active_players[['playerId', 'role'] + feature_cols].copy()\n",
    "detailed_retired = df_retired_players[['playerId', 'role'] + feature_cols].copy()\n",
    "\n",
    "# Add predicted probability columns to each dataframe\n",
    "# Use playerId as index to align probabilities with players\n",
    "detailed_active['Active'] = probs_df[probs_df['status'] == 'Active'].set_index('playerId').loc[detailed_active['playerId'], 'Active'].values\n",
    "detailed_retired['Retired'] = probs_df[probs_df['status'] == 'Retired'].set_index('playerId').loc[detailed_retired['playerId'], 'Retired'].values\n",
    "\n",
    "# Define function to select top N unique players by role and probability\n",
    "def get_top_unique_players(df, prob_col, role, n, already_selected_ids):\n",
    "    selected = []  # List to hold selected players\n",
    "    # Filter candidates by role and sort by predicted probability descending\n",
    "    candidates = df[df['role'] == role].sort_values(by=prob_col, ascending=False)\n",
    "\n",
    "    # Select players until we reach n or run out of candidates\n",
    "    for _, row in candidates.iterrows():\n",
    "        if row['playerId'] not in already_selected_ids:\n",
    "            selected.append(row)\n",
    "            already_selected_ids.add(row['playerId'])\n",
    "            if len(selected) == n:\n",
    "                break\n",
    "\n",
    "    # Fallback: if not enough players in the role, fill from top players regardless of role\n",
    "    if len(selected) < n:\n",
    "        needed = n - len(selected)\n",
    "        # Select next top players not already selected\n",
    "        fallback = df[~df['playerId'].isin(already_selected_ids)].sort_values(by=prob_col, ascending=False).head(needed)\n",
    "        selected.extend(fallback.to_dict('records'))\n",
    "        already_selected_ids.update(fallback['playerId'])\n",
    "\n",
    "    # Return a DataFrame of selected players and the updated set of selected IDs\n",
    "    return pd.DataFrame(selected), already_selected_ids\n",
    "\n",
    "# Select balanced teams of 33 players each for Active and Retired groups.\n",
    "# Initialize sets to track selected player IDs\n",
    "selected_active_ids = set()\n",
    "selected_retired_ids = set()\n",
    "\n",
    "# Select 11 Offensive, 11 Defensive, and 11 Special Teams players for Active players\n",
    "offense_active, selected_active_ids = get_top_unique_players(detailed_active, 'Active', 'Offense', 11, selected_active_ids)\n",
    "defense_active, selected_active_ids = get_top_unique_players(detailed_active, 'Active', 'Defense', 11, selected_active_ids)\n",
    "special_active, selected_active_ids = get_top_unique_players(detailed_active, 'Active', 'Special Teams', 11, selected_active_ids)\n",
    "\n",
    "# Select 11 Offensive, 11 Defensive, and 11 Special Teams players for Retired players\n",
    "offense_retired, selected_retired_ids = get_top_unique_players(detailed_retired, 'Retired', 'Offense', 11, selected_retired_ids)\n",
    "defense_retired, selected_retired_ids = get_top_unique_players(detailed_retired, 'Retired', 'Defense', 11, selected_retired_ids)\n",
    "special_retired, selected_retired_ids = get_top_unique_players(detailed_retired, 'Retired', 'Special Teams', 11, selected_retired_ids)\n",
    "\n",
    "# Combine the selected players per group into final balanced teams\n",
    "final_team_active = pd.concat([offense_active, defense_active, special_active], ignore_index=True)\n",
    "final_team_retired = pd.concat([offense_retired, defense_retired, special_retired], ignore_index=True)\n",
    "\n",
    "# Print the shape to verify we have exactly 33 players per team\n",
    "print(\"Final Active Team shape:\", final_team_active.shape)\n",
    "print(\"Final Retired Team shape:\", final_team_retired.shape)\n"
   ],
   "id": "ab541e48dff6ce75",
   "outputs": [
    {
     "name": "stdout",
     "output_type": "stream",
     "text": [
      "Final Active Team shape: (33, 27)\n",
      "Final Retired Team shape: (33, 27)\n"
     ]
    }
   ],
   "execution_count": 73
  },
  {
   "metadata": {},
   "cell_type": "markdown",
   "source": [
    "### Selecting Balanced Optimal Teams of 33 Players for Active and Retired Groups\n",
    "\n",
    "In this step, we prepare detailed datasets for active and retired players, including their player IDs, roles, and performance features, and enrich these datasets with predicted probabilities generated by the trained model. These probabilities reflect the likelihood that each player belongs to the optimal team according to the model’s predictions.\n",
    "\n",
    "We then define a function to select the top N unique players by their role and predicted probability, ensuring no duplicate selections. The function first attempts to pick the required number of players within the specified role, ordered by descending probability. If there are not enough players in a particular role, it fills the remaining spots by selecting the highest-probability players from any role who have not yet been chosen.\n",
    "\n",
    "Using this function, we select a balanced roster of 33 players for each group — active and retired — divided equally into 11 offensive, 11 defensive, and 11 special teams players. We maintain sets to track selected player IDs to prevent duplicate picks.\n",
    "\n",
    "Finally, the selected players for each role are combined to form the final balanced teams for both active and retired players. The resulting teams each consist of exactly 33 players.\n",
    "\n",
    "The printed output confirms the final team sizes:\n",
    "\n",
    "- Final Active Team shape: 33 players\n",
    "- Final Retired Team shape: 33 players\n",
    "\n",
    "This process ensures balanced representation across roles while selecting players with the highest predicted likelihood of being optimal team members.\n"
   ],
   "id": "e33740bd98e58bc6"
  },
  {
   "metadata": {
    "ExecuteTime": {
     "end_time": "2025-05-29T01:52:40.688116Z",
     "start_time": "2025-05-29T01:52:40.612979Z"
    }
   },
   "cell_type": "code",
   "source": [
    "# Print count of selected players by role for Active team\n",
    "print(\"Active Team player counts by role:\")\n",
    "print(final_team_active['role'].value_counts())\n",
    "\n",
    "# Print count of selected players by role for Retired team\n",
    "print(\"\\nRetired Team player counts by role:\")\n",
    "print(final_team_retired['role'].value_counts())"
   ],
   "id": "cb97166b83150949",
   "outputs": [
    {
     "name": "stdout",
     "output_type": "stream",
     "text": [
      "Active Team player counts by role:\n",
      "role\n",
      "Offense          11\n",
      "Defense          11\n",
      "Special Teams    11\n",
      "Name: count, dtype: int64\n",
      "\n",
      "Retired Team player counts by role:\n",
      "role\n",
      "Offense          11\n",
      "Defense          11\n",
      "Special Teams    11\n",
      "Name: count, dtype: int64\n"
     ]
    }
   ],
   "execution_count": 75
  },
  {
   "metadata": {},
   "cell_type": "markdown",
   "source": [
    "The final selected teams for both Active and Retired players are well balanced across the three key roles:\n",
    "\n",
    "- For the Active team, there are exactly 11 players selected for each role: Offense, Defense, and Special Teams.\n",
    "- Similarly, the Retired team also includes 11 players in each of these roles.\n",
    "\n",
    "This ensures that both teams have a total of 33 players, evenly distributed by their roles, which aligns with the intended team composition."
   ],
   "id": "66eeb88c92233397"
  },
  {
   "metadata": {
    "ExecuteTime": {
     "end_time": "2025-05-29T01:53:38.011117Z",
     "start_time": "2025-05-29T01:53:37.940571Z"
    }
   },
   "cell_type": "code",
   "source": [
    "print(\"Final Active Team - Selected Columns:\")\n",
    "print(final_team_active[['playerId', 'role', 'Active']])\n",
    "\n",
    "print(\"\\nFinal Retired Team - Selected Columns:\")\n",
    "print(final_team_retired[['playerId', 'role', 'Retired']])\n"
   ],
   "id": "a66b8d4aea7cd85f",
   "outputs": [
    {
     "name": "stdout",
     "output_type": "stream",
     "text": [
      "Final Active Team - Selected Columns:\n",
      "      playerId           role    Active\n",
      "0   20110006.0        Offense  0.991955\n",
      "1   20110149.0        Offense  0.990972\n",
      "2   20150069.0        Offense  0.990453\n",
      "3   20140012.0        Offense  0.975608\n",
      "4   20050130.0        Offense  0.940530\n",
      "5   20120166.0        Offense  0.936831\n",
      "6   20130489.0        Offense  0.927555\n",
      "7   20080224.0        Offense  0.907018\n",
      "8   20170023.0        Offense  0.891909\n",
      "9   20140493.0        Offense  0.878002\n",
      "10  20100070.0        Offense  0.828172\n",
      "11  20100002.0        Defense  0.996863\n",
      "12  20110154.0        Defense  0.988230\n",
      "13  20120062.0        Defense  0.977365\n",
      "14  20130060.0        Defense  0.968818\n",
      "15  20160146.0        Defense  0.968196\n",
      "16  20090496.0        Defense  0.962626\n",
      "17  20100137.0        Defense  0.961038\n",
      "18  20060013.0        Defense  0.957034\n",
      "19  20160077.0        Defense  0.917206\n",
      "20  20110016.0        Defense  0.897114\n",
      "21  20060116.0        Defense  0.894215\n",
      "22  20170224.0  Special Teams  0.470263\n",
      "23  20190443.0  Special Teams  0.469299\n",
      "24  20180683.0  Special Teams  0.467405\n",
      "25  20130532.0  Special Teams  0.466380\n",
      "26  20150997.0  Special Teams  0.466010\n",
      "27  20180167.0  Special Teams  0.466010\n",
      "28  20120171.0  Special Teams  0.465825\n",
      "29  20170213.0  Special Teams  0.465615\n",
      "30  20120400.0  Special Teams  0.460212\n",
      "31  20180173.0  Special Teams  0.373414\n",
      "32  20180172.0  Special Teams  0.283206\n",
      "\n",
      "Final Retired Team - Selected Columns:\n",
      "      playerId           role   Retired\n",
      "0   20090017.0        Offense  0.992836\n",
      "1   20050109.0        Offense  0.942637\n",
      "2   20010109.0        Offense  0.908777\n",
      "3   19960024.0        Offense  0.906180\n",
      "4   19990131.0        Offense  0.893667\n",
      "5   20030007.0        Offense  0.887112\n",
      "6   20000010.0        Offense  0.876386\n",
      "7   20020001.0        Offense  0.870153\n",
      "8   20040245.0        Offense  0.828055\n",
      "9   20040453.0        Offense  0.822703\n",
      "10  20030197.0        Offense  0.806006\n",
      "11  20050042.0        Defense  0.896751\n",
      "12  19980065.0        Defense  0.850925\n",
      "13  20010046.0        Defense  0.840568\n",
      "14  20030064.0        Defense  0.839486\n",
      "15  20030067.0        Defense  0.749640\n",
      "16  19950028.0        Defense  0.730650\n",
      "17  20050075.0        Defense  0.702148\n",
      "18  20060096.0        Defense  0.650765\n",
      "19  20000095.0        Defense  0.643658\n",
      "20  20050231.0        Defense  0.638489\n",
      "21  20110198.0        Defense  0.630870\n",
      "22  19970095.0  Special Teams  0.996696\n",
      "23  19950056.0  Special Teams  0.729989\n",
      "24  19880068.0  Special Teams  0.692106\n",
      "25  19920291.0  Special Teams  0.534594\n",
      "26  19940085.0  Special Teams  0.533371\n",
      "27  19970457.0  Special Teams  0.533030\n",
      "28  20150842.0  Special Teams  0.532994\n",
      "29  20151012.0  Special Teams  0.532785\n",
      "30  20150678.0  Special Teams  0.531868\n",
      "31  19930070.0  Special Teams  0.531272\n",
      "32  19920056.0  Special Teams  0.531187\n"
     ]
    }
   ],
   "execution_count": 76
  },
  {
   "metadata": {},
   "cell_type": "markdown",
   "source": [
    "**Summary of the final selected teams with their key details:**\n",
    "\n",
    "The **Final Active Team** consists of 33 players, each with their `playerId`, `role`, and the predicted probability (`Active`) indicating how likely they are to be part of the optimal active player team. The highest probabilities (close to 1) appear mostly in offensive and defensive players, while special teams have comparatively lower probabilities but are still selected.\n",
    "\n",
    "The **Final Retired Team** also consists of 33 players, showing their `playerId`, `role`, and predicted probability (`Retired`) for being part of the optimal retired team. Similar trends hold, with offensive and defensive players having higher predicted probabilities, and special teams somewhat lower but included to maintain balance.\n",
    "\n",
    "These predicted probabilities reflect the model's confidence in each player's contribution to an optimal team within their status group."
   ],
   "id": "f223854f77d5b994"
  },
  {
   "metadata": {},
   "cell_type": "markdown",
   "source": [
    "### Project Summary with Findings\n",
    "\n",
    "In this project, we developed a deep Artificial Neural Network (ANN) model to identify an optimal football team from a pool of 200 active and 200 retired NFL players. The analysis was based on player performance statistics and combine metrics sourced from the NFL Players Dataset, which contains data from 2004 to the present. The goal was to construct balanced teams consisting of 33 players for each group, with equal representation across offense, defense, and special teams.\n",
    "\n",
    "The primary objective was to use statistical characteristics to evaluate and select players who would form an optimal team. We designed a classification model to predict the likelihood of each player being among the top 33 in their category. The final selections were made based on these predicted probabilities.\n",
    "\n",
    "The model we implemented follows a multilayer perceptron structure. It includes an input layer that takes numerical features related to performance and physical tests, followed by several hidden layers with ReLU activation functions. A dropout mechanism was incorporated to reduce overfitting. The output layer uses a sigmoid activation function to return a probability score indicating a player's likelihood of being part of the optimal team.\n",
    "\n",
    "Training was conducted over 50 epochs. The model achieved approximately 67 percent accuracy on the training data and 65 percent accuracy on the validation set. The loss curves suggested good convergence and generalization, supporting the reliability of the predictions made by the model (Bengio et al. 2017; Aggarwal 2018).\n",
    "\n",
    "The model revealed that offensive and defensive statistics had the most influence on predictions. Features such as passing touchdowns, rushing yards, total tackles, and sack counts were particularly impactful. While special teams players generally had lower predicted probabilities, a consistent threshold was applied to ensure balanced role distribution.\n",
    "\n",
    "Both the active and retired teams consisted of 33 players, with 11 assigned to each role category. Players were selected based on the highest probabilities within their respective groups, demonstrating the model's capacity to identify top-performing individuals across varied roles.\n",
    "\n",
    "The results demonstrate that a deep learning model can successfully interpret complex player statistics to support team-building decisions. This reflects broader trends in professional sports, where machine learning is increasingly used to evaluate talent and inform roster construction.\n",
    "\n",
    "### References\n",
    "\n",
    "Bengio, Y., Goodfellow, I., and Courville, A. (2017). *Deep Learning* (Vol. 1). Cambridge, MA: MIT Press.\n",
    "\n",
    "Aggarwal, C. (2018). *Neural Networks and Deep Learning*. Springer. ISBN-13: 9783319944623\n",
    "\n",
    "NFL Dataset. (2024). *NFL Players Dataset*. Retrieved from: https://www.kaggle.com/datasets/toddsteussie/nfl-play-statistics-dataset-2004-to-present?select=gameParticipation.csv\n"
   ],
   "id": "d4147c98b3d207ea"
  }
 ],
 "metadata": {
  "kernelspec": {
   "display_name": "Python 3",
   "language": "python",
   "name": "python3"
  },
  "language_info": {
   "codemirror_mode": {
    "name": "ipython",
    "version": 2
   },
   "file_extension": ".py",
   "mimetype": "text/x-python",
   "name": "python",
   "nbconvert_exporter": "python",
   "pygments_lexer": "ipython2",
   "version": "2.7.6"
  }
 },
 "nbformat": 4,
 "nbformat_minor": 5
}

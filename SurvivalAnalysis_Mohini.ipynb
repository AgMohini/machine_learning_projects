{
 "cells": [
  {
   "cell_type": "markdown",
   "metadata": {},
   "source": [
    "# **DSC-520 PROJECT 6- Survival Analysis**\n",
    "\n",
    "#### Description\n",
    "It is important to have experience analyzing data where time to a given event is the dependent variable. The task will be to compare the survival distribution between groups, estimate the survival distribution, and model the effect of explanatory variables on the outcome variable. Then, differentiate between the use of the Poisson distribution to estimate the rate of event occurrence and survival analysis to estimate time lapse between events.\n",
    "\n",
    "Author: Mohini Agarwal\n",
    "\n",
    "Date: 2025-03-12\n",
    "\n",
    "Using Python 3.12.3\n",
    "\n",
    "--- \n",
    "\n",
    "Instructions (from Halo)--\n",
    "\n",
    "Special Note: Throughout this course, you will perform activities that will provide you with the background knowledge and practice necessary to successfully complete linear regression and multivariate analysis. Please utilize the resources found in Class Resources and the topic Resources to assist you with each exercise.\n",
    "\n",
    "For this activity, perform the following:\n",
    "\n",
    "Access the \"Echocardiogram Data Set,\" located in the topic Resources.\n",
    "\n",
    "Using the topic Resources, familiarize yourself with the differences between survival analysis and the Poisson distribution, with an emphasis on parameter estimation (e.g. λ = E(X)).\n",
    "\n",
    "Explore the data, perform initial descriptive statistics tests, and explain and visualize your findings. Use the kable() function to visualize the data.\n",
    "\n",
    "Explore the following R packages: devtools, survival, tidyverse, survminer, survival, and load them into your project.\n",
    "\n",
    "Formulate a question that can be answered by performing survival analysis.\n",
    "\n",
    "Calculate the Kaplan-Meier Estimator in R:\n",
    "1.\tExplore the Surv() function and build a Surv object using the response variable.\n",
    "2.\tPrint the Surv object you generated.\n",
    "3.\tAnalyze the data with the survfit()\n",
    "4.\tGenereate a KM curve.\n",
    "\n",
    "Visualize Survival Data:\n",
    "1.\tFamiliarize yourself with ggsurvplot().\n",
    "2.\tCreate a detailed, visually appealing plot of the data using ggsurvplot(fit = yourSurvObject, data =…., etc.,)\n",
    "\n",
    "Generate K-M Curves with the Predictor:\n",
    "1.\tStratify the analysis into standard vs experimental, using survfit().\n",
    "2.\tDisplay the strata using summary().\n",
    "3.\tPlot the strata using ggsurvplot().\n",
    "4.\tPlot the overall survival, stratified by the appropriate variable.\n",
    "\n",
    "Perform Log-Rank Analysis:\n",
    "1.\tFamiliarize yourself with the survdiff()\n",
    "2.\tTest the difference between survival curves using survdiff(Surv(time = )).\n",
    "3.\tExamine and interpret the log-rank output.\n",
    "4.\tPlot the K-M curve and include the log-rank test.\n",
    "\n",
    "Calculate the Kaplan-Meier Estimator in Python:\n",
    "1. Import the lifelines and matplotlib packages.\n",
    "2. Explore the KaplanMeierFitter filter and build a kmf object using the response variable.\n",
    "3. Print the kmf object you generated.\n",
    "4. Analyze the data with the kmf.fit().\n",
    "5. Generate a KM curve.\n",
    "\n",
    "Visualize Survival Data:\n",
    "1. Familiarize yourself with the matplotlib package.\n",
    "2. Create a detailed, visually appealing plot of the data using kmf.plot(title=’Kaplan-Meier Survival Curve’, xlabel=’Time’, ylabel=’Survival Probability’).\n",
    "\n",
    "Generate K-M Curves with the Predictor:\n",
    "1. Stratify the analysis into standard vs. experimental using fit method with strata parameter.\n",
    "2. Display the strata using print().\n",
    "3. Plot the strata using plot().\n",
    "4. Plot the overall survival, stratified by the appropriate variable.\n",
    "\n",
    "\n",
    " Perform Log-Rank Analysis:\n",
    " 1. Familiarize yourself with the logrank_test().\n",
    "2. Test the difference between survival curves using results = logrank_test(durations_A, durations_B event_observed_A=event_A, event_observed_B=event_B).\n",
    "3. Examine and interpret the log-rank output.\n",
    "4. Plot the K-M curve and include the log-rank test.\n",
    "\n",
    "Answer Formulated Question:\n",
    "1.\tWere you able to answer the question you formulated? If yes, state the answer and explain. If no, continue the analysis until you can answer the question.\n",
    "\n",
    "Then, submit a professionally written and formatted software-based technical report. Make sure the documentation contains the code, relevant plots, your analysis, and the appropriate citations and references.\n",
    "\n",
    "\n",
    "\n",
    "While APA style is not required for the body of this assignment, solid academic writing is expected, and documentation of sources should be presented using APA formatting guidelines, which can be found in the APA Style Guide, located in the Student Success Center.\n",
    "\n",
    "This assignment uses a rubric. Review the rubric prior to beginning the assignment to become familiar with the expectations for successful completion.\n",
    "\n",
    "---"
   ]
  },
  {
   "metadata": {
    "ExecuteTime": {
     "end_time": "2025-03-12T22:31:22.930013Z",
     "start_time": "2025-03-12T22:31:22.462565Z"
    }
   },
   "cell_type": "code",
   "source": [
    "# Importing necessary libraries\n",
    "import pandas as pd\n",
    "import numpy as np\n",
    "import seaborn as sns\n",
    "import matplotlib.pyplot as plt\n",
    "from lifelines import KaplanMeierFitter\n",
    "from lifelines.statistics import logrank_test"
   ],
   "outputs": [],
   "execution_count": 1
  },
  {
   "metadata": {},
   "cell_type": "markdown",
   "source": [
    "### Task 1: Explore the Data and Perform Initial Descriptive Statistics\n",
    "1. **Explore the data**: Examine the dataset to understand its structure, columns, and data types.\n",
    "2. **Perform initial descriptive statistics**: Calculate basic descriptive statistics (mean, median, standard deviation, etc.) to summarize the data.\n",
    "3. **Explain and visualize your findings**: Provide an explanation of the initial insights and visualize the key findings using `matplotlib` or `seaborn`.\n",
    "4. **Visualize data in a table format**: Use `pandas` to display a well-formatted table for readability.\n"
   ]
  },
  {
   "metadata": {},
   "cell_type": "markdown",
   "source": "**Loading and exploring the dataset**"
  },
  {
   "metadata": {
    "ExecuteTime": {
     "end_time": "2025-03-12T22:31:23.628073Z",
     "start_time": "2025-03-12T22:31:22.955155Z"
    }
   },
   "cell_type": "code",
   "source": [
    "# Loading the data\n",
    "original_df = pd.read_excel(\"echocardiogram.xlsx\")"
   ],
   "outputs": [],
   "execution_count": 2
  },
  {
   "metadata": {
    "ExecuteTime": {
     "end_time": "2025-03-12T22:31:24.140146Z",
     "start_time": "2025-03-12T22:31:24.120620Z"
    }
   },
   "cell_type": "code",
   "source": [
    "# Creating a copy of the data\n",
    "df=original_df.copy()"
   ],
   "outputs": [],
   "execution_count": 3
  },
  {
   "metadata": {
    "ExecuteTime": {
     "end_time": "2025-03-12T22:31:24.203770Z",
     "start_time": "2025-03-12T22:31:24.185609Z"
    }
   },
   "cell_type": "code",
   "source": [
    "# The data types of the columns\n",
    "print(df.dtypes)"
   ],
   "outputs": [
    {
     "name": "stdout",
     "output_type": "stream",
     "text": [
      "survival                 float64\n",
      "still_alive              float64\n",
      "age_at_heart_attack      float64\n",
      "pericardial_effusion       int64\n",
      "fractional_shortening    float64\n",
      "epss                     float64\n",
      "lvdd                     float64\n",
      "wall_motion_score        float64\n",
      "wall_motion_index        float64\n",
      "mult                     float64\n",
      "name                      object\n",
      "group                     object\n",
      "alive_at_1               float64\n",
      "dtype: object\n"
     ]
    }
   ],
   "execution_count": 4
  },
  {
   "metadata": {},
   "cell_type": "markdown",
   "source": [
    "### Dataset Description (from the dataset source)\n",
    "\n",
    "1. **survival**: The number of months a patient has survived (or is still surviving). As patients had heart attacks at different times, some may have survived less than a year but are still alive. The second variable can be used to confirm this. Patients who are still alive but have survived for less than one year cannot be used for the prediction task.\n",
    "\n",
    "2. **still-alive**: A binary variable indicating whether the patient is still alive at the end of the survival period.  \n",
    "   - 0: Dead at the end of the survival period  \n",
    "   - 1: Still alive  \n",
    "\n",
    "3. **age-at-heart-attack**: The age in years when the heart attack occurred.\n",
    "\n",
    "4. **pericardial-effusion**: A binary variable indicating the presence of fluid around the heart (pericardial effusion).  \n",
    "   - 0: No fluid  \n",
    "   - 1: Fluid present  \n",
    "\n",
    "5. **fractional-shortening**: A measure of contractility around the heart. Lower numbers are increasingly abnormal.\n",
    "\n",
    "6. **epss**: E-point septal separation, another measure of contractility. Larger numbers indicate increasing abnormality.\n",
    "\n",
    "7. **lvdd**: Left ventricular end-diastolic dimension, which measures the size of the heart at end-diastole. Larger hearts tend to be indicative of unhealthy hearts.\n",
    "\n",
    "8. **wall-motion-score**: A measure of how the segments of the left ventricle are moving.\n",
    "\n",
    "9. **wall-motion-index**: This is the wall-motion score divided by the number of segments observed. Typically, 12-13 segments are seen in an echocardiogram. Use this variable instead of the wall-motion score.\n",
    "\n",
    "10. **mult**: A derived variable that can be ignored for the analysis.\n",
    "\n",
    "11. **name**: The name of the patient (replaced with \"name\" in the dataset).\n",
    "\n",
    "12. **group**: A meaningless variable that can be ignored.\n",
    "\n",
    "13. **alive-at-1**: A boolean value derived from the first two attributes.  \n",
    "   - 0: Patient was either dead after one year or had been followed for less than one year.  \n",
    "   - 1: Patient was alive at one year.\n"
   ]
  },
  {
   "metadata": {
    "ExecuteTime": {
     "end_time": "2025-03-12T22:31:24.347635Z",
     "start_time": "2025-03-12T22:31:24.257787Z"
    }
   },
   "cell_type": "code",
   "source": [
    "# First few rows to inspect the data\n",
    "df.head()"
   ],
   "outputs": [
    {
     "data": {
      "text/plain": [
       "   survival  still_alive  age_at_heart_attack  pericardial_effusion  \\\n",
       "0      11.0          0.0                 71.0                     0   \n",
       "1      19.0          0.0                 72.0                     0   \n",
       "2      16.0          0.0                 55.0                     0   \n",
       "3      57.0          0.0                 60.0                     0   \n",
       "4      19.0          1.0                 57.0                     0   \n",
       "\n",
       "   fractional_shortening    epss   lvdd  wall_motion_score  wall_motion_index  \\\n",
       "0                  0.260   9.000  4.600               14.0               1.00   \n",
       "1                  0.380   6.000  4.100               14.0               1.70   \n",
       "2                  0.260   4.000  3.420               14.0               1.00   \n",
       "3                  0.253  12.062  4.603               16.0               1.45   \n",
       "4                  0.160  22.000  5.750               18.0               2.25   \n",
       "\n",
       "    mult  name group  alive_at_1  \n",
       "0  1.000  name     1         0.0  \n",
       "1  0.588  name     1         0.0  \n",
       "2  1.000  name     1         0.0  \n",
       "3  0.788  name     1         0.0  \n",
       "4  0.571  name     1         0.0  "
      ],
      "text/html": [
       "<div>\n",
       "<style scoped>\n",
       "    .dataframe tbody tr th:only-of-type {\n",
       "        vertical-align: middle;\n",
       "    }\n",
       "\n",
       "    .dataframe tbody tr th {\n",
       "        vertical-align: top;\n",
       "    }\n",
       "\n",
       "    .dataframe thead th {\n",
       "        text-align: right;\n",
       "    }\n",
       "</style>\n",
       "<table border=\"1\" class=\"dataframe\">\n",
       "  <thead>\n",
       "    <tr style=\"text-align: right;\">\n",
       "      <th></th>\n",
       "      <th>survival</th>\n",
       "      <th>still_alive</th>\n",
       "      <th>age_at_heart_attack</th>\n",
       "      <th>pericardial_effusion</th>\n",
       "      <th>fractional_shortening</th>\n",
       "      <th>epss</th>\n",
       "      <th>lvdd</th>\n",
       "      <th>wall_motion_score</th>\n",
       "      <th>wall_motion_index</th>\n",
       "      <th>mult</th>\n",
       "      <th>name</th>\n",
       "      <th>group</th>\n",
       "      <th>alive_at_1</th>\n",
       "    </tr>\n",
       "  </thead>\n",
       "  <tbody>\n",
       "    <tr>\n",
       "      <th>0</th>\n",
       "      <td>11.0</td>\n",
       "      <td>0.0</td>\n",
       "      <td>71.0</td>\n",
       "      <td>0</td>\n",
       "      <td>0.260</td>\n",
       "      <td>9.000</td>\n",
       "      <td>4.600</td>\n",
       "      <td>14.0</td>\n",
       "      <td>1.00</td>\n",
       "      <td>1.000</td>\n",
       "      <td>name</td>\n",
       "      <td>1</td>\n",
       "      <td>0.0</td>\n",
       "    </tr>\n",
       "    <tr>\n",
       "      <th>1</th>\n",
       "      <td>19.0</td>\n",
       "      <td>0.0</td>\n",
       "      <td>72.0</td>\n",
       "      <td>0</td>\n",
       "      <td>0.380</td>\n",
       "      <td>6.000</td>\n",
       "      <td>4.100</td>\n",
       "      <td>14.0</td>\n",
       "      <td>1.70</td>\n",
       "      <td>0.588</td>\n",
       "      <td>name</td>\n",
       "      <td>1</td>\n",
       "      <td>0.0</td>\n",
       "    </tr>\n",
       "    <tr>\n",
       "      <th>2</th>\n",
       "      <td>16.0</td>\n",
       "      <td>0.0</td>\n",
       "      <td>55.0</td>\n",
       "      <td>0</td>\n",
       "      <td>0.260</td>\n",
       "      <td>4.000</td>\n",
       "      <td>3.420</td>\n",
       "      <td>14.0</td>\n",
       "      <td>1.00</td>\n",
       "      <td>1.000</td>\n",
       "      <td>name</td>\n",
       "      <td>1</td>\n",
       "      <td>0.0</td>\n",
       "    </tr>\n",
       "    <tr>\n",
       "      <th>3</th>\n",
       "      <td>57.0</td>\n",
       "      <td>0.0</td>\n",
       "      <td>60.0</td>\n",
       "      <td>0</td>\n",
       "      <td>0.253</td>\n",
       "      <td>12.062</td>\n",
       "      <td>4.603</td>\n",
       "      <td>16.0</td>\n",
       "      <td>1.45</td>\n",
       "      <td>0.788</td>\n",
       "      <td>name</td>\n",
       "      <td>1</td>\n",
       "      <td>0.0</td>\n",
       "    </tr>\n",
       "    <tr>\n",
       "      <th>4</th>\n",
       "      <td>19.0</td>\n",
       "      <td>1.0</td>\n",
       "      <td>57.0</td>\n",
       "      <td>0</td>\n",
       "      <td>0.160</td>\n",
       "      <td>22.000</td>\n",
       "      <td>5.750</td>\n",
       "      <td>18.0</td>\n",
       "      <td>2.25</td>\n",
       "      <td>0.571</td>\n",
       "      <td>name</td>\n",
       "      <td>1</td>\n",
       "      <td>0.0</td>\n",
       "    </tr>\n",
       "  </tbody>\n",
       "</table>\n",
       "</div>"
      ]
     },
     "execution_count": 5,
     "metadata": {},
     "output_type": "execute_result"
    }
   ],
   "execution_count": 5
  },
  {
   "metadata": {
    "ExecuteTime": {
     "end_time": "2025-03-12T22:31:24.488523Z",
     "start_time": "2025-03-12T22:31:24.475106Z"
    }
   },
   "cell_type": "code",
   "source": "df.shape",
   "outputs": [
    {
     "data": {
      "text/plain": [
       "(132, 13)"
      ]
     },
     "execution_count": 6,
     "metadata": {},
     "output_type": "execute_result"
    }
   ],
   "execution_count": 6
  },
  {
   "metadata": {},
   "cell_type": "markdown",
   "source": "**The shape of the dataset is (132, 13) with 132 rows and 13 columns.**"
  },
  {
   "metadata": {
    "ExecuteTime": {
     "end_time": "2025-03-12T22:31:24.799305Z",
     "start_time": "2025-03-12T22:31:24.767977Z"
    }
   },
   "cell_type": "code",
   "source": [
    "# Summary of the dataframe\n",
    "df.info()"
   ],
   "outputs": [
    {
     "name": "stdout",
     "output_type": "stream",
     "text": [
      "<class 'pandas.core.frame.DataFrame'>\n",
      "RangeIndex: 132 entries, 0 to 131\n",
      "Data columns (total 13 columns):\n",
      " #   Column                 Non-Null Count  Dtype  \n",
      "---  ------                 --------------  -----  \n",
      " 0   survival               130 non-null    float64\n",
      " 1   still_alive            131 non-null    float64\n",
      " 2   age_at_heart_attack    126 non-null    float64\n",
      " 3   pericardial_effusion   132 non-null    int64  \n",
      " 4   fractional_shortening  124 non-null    float64\n",
      " 5   epss                   117 non-null    float64\n",
      " 6   lvdd                   121 non-null    float64\n",
      " 7   wall_motion_score      128 non-null    float64\n",
      " 8   wall_motion_index      130 non-null    float64\n",
      " 9   mult                   129 non-null    float64\n",
      " 10  name                   131 non-null    object \n",
      " 11  group                  110 non-null    object \n",
      " 12  alive_at_1             75 non-null     float64\n",
      "dtypes: float64(10), int64(1), object(2)\n",
      "memory usage: 13.5+ KB\n"
     ]
    }
   ],
   "execution_count": 7
  },
  {
   "metadata": {
    "ExecuteTime": {
     "end_time": "2025-03-12T22:31:24.859467Z",
     "start_time": "2025-03-12T22:31:24.849357Z"
    }
   },
   "cell_type": "code",
   "source": [
    "# Checking for missing values\n",
    "print(df.isnull().sum())"
   ],
   "outputs": [
    {
     "name": "stdout",
     "output_type": "stream",
     "text": [
      "survival                  2\n",
      "still_alive               1\n",
      "age_at_heart_attack       6\n",
      "pericardial_effusion      0\n",
      "fractional_shortening     8\n",
      "epss                     15\n",
      "lvdd                     11\n",
      "wall_motion_score         4\n",
      "wall_motion_index         2\n",
      "mult                      3\n",
      "name                      1\n",
      "group                    22\n",
      "alive_at_1               57\n",
      "dtype: int64\n"
     ]
    }
   ],
   "execution_count": 8
  },
  {
   "metadata": {},
   "cell_type": "markdown",
   "source": [
    "**Initial Insights:**\n",
    "\n",
    "The output represents the count of non-null values in each column of the dataset. Below is an interpretation of the results:  \n",
    "\n",
    "- **survival (2)**: Only two observations have non-null survival times recorded. This suggests missing data or a small subset of recorded survival times.  \n",
    "- **still_alive (1)**: Only one individual has a recorded status for whether they were still alive, indicating significant missing data.  \n",
    "- **age_at_heart_attack (6)**: Age at heart attack is available for six individuals, suggesting missing data for many patients.  \n",
    "- **pericardial_effusion (0)**: No data is available for pericardial effusion, meaning this variable cannot be used in the analysis.  \n",
    "- **fractional_shortening (8)**: This measure of heart function is available for eight individuals.  \n",
    "- **epss (15)**: The EPSS (E-point septal separation) is recorded for 15 individuals.  \n",
    "- **lvdd (11)**: Left Ventricular Diastolic Dimension is available for 11 patients.  \n",
    "- **wall_motion_score (4) & wall_motion_index (2)**: Measures of heart wall motion have very few recorded values, limiting their usability.  \n",
    "- **mult (3)**: Only three observations for this variable.  \n",
    "- **name (1)**: Likely an identifier column with only one recorded entry.  \n",
    "- **group (22)**: This may indicate a categorical grouping variable with 22 recorded entries.  \n",
    "- **alive_at_1 (57)**: The highest count, meaning survival status at one year is recorded for 57 patients, making it a relatively complete variable for analysis."
   ]
  },
  {
   "metadata": {},
   "cell_type": "markdown",
   "source": "**As per the instructions: We remove patients who are still alive but haven't reached one year of survival (alive_at_1 = 0 & still_alive = 1).**"
  },
  {
   "metadata": {
    "ExecuteTime": {
     "end_time": "2025-03-12T22:31:25.009252Z",
     "start_time": "2025-03-12T22:31:24.998679Z"
    }
   },
   "cell_type": "code",
   "source": [
    "# Drop rows where still_alive = 1 and alive_at_1 = 0 as per the instructions\n",
    "df= df[~((df['still_alive'] == 1) & (df['alive_at_1'] == 0))]"
   ],
   "outputs": [],
   "execution_count": 9
  },
  {
   "metadata": {},
   "cell_type": "markdown",
   "source": "**We remove the 'name' and 'group' columns as they are not relevant for our analysis.**"
  },
  {
   "metadata": {
    "ExecuteTime": {
     "end_time": "2025-03-12T22:31:25.103943Z",
     "start_time": "2025-03-12T22:31:25.092821Z"
    }
   },
   "cell_type": "code",
   "source": "df = df.drop(columns=['name', 'group'])",
   "outputs": [],
   "execution_count": 10
  },
  {
   "metadata": {},
   "cell_type": "markdown",
   "source": "**Fill Missing Values in Numerical Columns**"
  },
  {
   "metadata": {
    "ExecuteTime": {
     "end_time": "2025-03-12T22:31:25.223510Z",
     "start_time": "2025-03-12T22:31:25.200828Z"
    }
   },
   "cell_type": "code",
   "source": [
    "# Handling missing values for numerical columns (imputing with median value)\n",
    "numerical_columns = ['survival', 'still_alive', 'age_at_heart_attack', \n",
    "                     'fractional_shortening', 'epss', 'lvdd', \n",
    "                     'wall_motion_score', 'wall_motion_index', 'mult']\n",
    "\n",
    "# Fill missing values with median\n",
    "for col in numerical_columns:\n",
    "    df[col] = df[col].fillna(df[col].median())\n"
   ],
   "outputs": [],
   "execution_count": 11
  },
  {
   "metadata": {},
   "cell_type": "markdown",
   "source": [
    "**Handling missing values in alive_at_1 column.**\n",
    "- This column have missing values and being a target variable, looking for ways to fill it.\n",
    "- As alive_at_1 is derived from survival and still_alive, we can manually infer missing values:\n",
    "    * If survival >= 12 months, the patient survived at least one year, so alive_at_1 = 1.\n",
    "    * If survival < 12 months and still_alive == 0, the patient did not survive a year, so alive_at_1 = 0."
   ]
  },
  {
   "metadata": {
    "ExecuteTime": {
     "end_time": "2025-03-12T22:31:25.241176Z",
     "start_time": "2025-03-12T22:31:25.232001Z"
    }
   },
   "cell_type": "code",
   "source": [
    "# Handling missing values in alive_at_1 column.\n",
    "df['alive_at_1'] = df.apply(lambda row: 1 if row['survival'] >= 12 else (0 if row['still_alive'] == 0 else np.nan), axis=1)"
   ],
   "outputs": [],
   "execution_count": 12
  },
  {
   "metadata": {
    "ExecuteTime": {
     "end_time": "2025-03-12T22:31:25.292732Z",
     "start_time": "2025-03-12T22:31:25.279051Z"
    }
   },
   "cell_type": "code",
   "source": [
    "# Now, let's check how many missing values are left\n",
    "print(df.isnull().sum())"
   ],
   "outputs": [
    {
     "name": "stdout",
     "output_type": "stream",
     "text": [
      "survival                  0\n",
      "still_alive               0\n",
      "age_at_heart_attack       0\n",
      "pericardial_effusion      0\n",
      "fractional_shortening     0\n",
      "epss                      0\n",
      "lvdd                      0\n",
      "wall_motion_score         0\n",
      "wall_motion_index         0\n",
      "mult                      0\n",
      "alive_at_1               34\n",
      "dtype: int64\n"
     ]
    }
   ],
   "execution_count": 13
  },
  {
   "metadata": {},
   "cell_type": "markdown",
   "source": [
    "**Insights after handling the missing values:**\n",
    "As we still have 34 missing entries in the alive_at_1 column after handling other missing values, there are a few possible reasons why they should not be imputed or modified:\n",
    "\n",
    "- These values might be genuinely missing because the survival status at one year was not recorded for those patients. Imputing such critical outcome data could introduce bias.\n",
    "- Since alive_at_1 is the target variable (dependent variable in survival analysis), modifying or imputing it could distort the analysis and lead to incorrect conclusions.\n",
    "- Some patients may have been lost to follow-up before reaching one year. In survival analysis, such cases are considered \"censored\" rather than missing, meaning their time-to-event data should be handled accordingly rather than imputed."
   ]
  },
  {
   "metadata": {
    "ExecuteTime": {
     "end_time": "2025-03-12T22:31:25.399983Z",
     "start_time": "2025-03-12T22:31:25.333188Z"
    }
   },
   "cell_type": "code",
   "source": [
    "# Descriptive statistics for numerical columns\n",
    "descriptive_stats = df.describe()\n",
    "print(descriptive_stats)"
   ],
   "outputs": [
    {
     "name": "stdout",
     "output_type": "stream",
     "text": [
      "         survival  still_alive  age_at_heart_attack  pericardial_effusion  \\\n",
      "count  127.000000   127.000000           127.000000            127.000000   \n",
      "mean    22.136063     0.299213            62.594717              0.795276   \n",
      "std     15.963318     0.459727             8.058497              6.827045   \n",
      "min      0.030000     0.000000            35.000000              0.000000   \n",
      "25%      7.250000     0.000000            57.500000              0.000000   \n",
      "50%     24.000000     0.000000            62.000000              0.000000   \n",
      "75%     33.000000     1.000000            67.000000              0.000000   \n",
      "max     57.000000     1.000000            86.000000             77.000000   \n",
      "\n",
      "       fractional_shortening        epss        lvdd  wall_motion_score  \\\n",
      "count             127.000000  127.000000  127.000000         127.000000   \n",
      "mean                0.220748   11.829748    4.727740          14.484882   \n",
      "std                 0.103740    6.945170    0.767609           4.964225   \n",
      "min                 0.010000    0.000000    2.320000           2.000000   \n",
      "25%                 0.150000    7.550000    4.280000          11.585000   \n",
      "50%                 0.220000   10.300000    4.650000          14.000000   \n",
      "75%                 0.270000   14.550000    5.225000          16.000000   \n",
      "max                 0.610000   40.000000    6.780000          39.000000   \n",
      "\n",
      "       wall_motion_index        mult  alive_at_1  \n",
      "count         127.000000  127.000000   93.000000  \n",
      "mean            1.372890    0.790732    0.956989  \n",
      "std             0.449869    0.223069    0.203981  \n",
      "min             1.000000    0.140000    0.000000  \n",
      "25%             1.000000    0.714000    1.000000  \n",
      "50%             1.200000    0.786000    1.000000  \n",
      "75%             1.505000    0.857000    1.000000  \n",
      "max             3.000000    2.000000    1.000000  \n"
     ]
    }
   ],
   "execution_count": 14
  },
  {
   "metadata": {},
   "cell_type": "markdown",
   "source": [
    "### Interpretation of Summary Statistics  \n",
    "The descriptive statistics provide insights into the distribution of numerical variables in the dataset. Here are some key observations: \n",
    "\n",
    "#### **Survival & Outcome Variables**  \n",
    "- **survival**: The average survival time is **22.14 months**, with a wide range from **0.03 to 57 months**. The high standard deviation (**15.96**) suggests a broad variation in survival times.  \n",
    "- **still_alive**: About **30% (mean = 0.299)** of the patients were still alive at the last follow-up, indicating a higher mortality rate in the dataset.  \n",
    "- **alive_at_1**: The **one-year survival rate is high (mean = 0.96)**, but only **93 out of 127 patients** have recorded values, meaning **34 entries are missing**.  \n",
    "\n",
    "#### **Demographics & Risk Factors**  \n",
    "- **age_at_heart_attack**: The average age at a heart attack is **62.59 years**, with a range from **35 to 86 years**. The interquartile range (IQR) indicates that most patients had a heart attack between **57.5 and 67 years**.  \n",
    "- **pericardial_effusion**: The mean value is **0.79**, but the maximum is **77**, suggesting possible data entry errors or misinterpretation of the variable. Most patients (**75th percentile = 0**) do not have pericardial effusion.  \n",
    "\n",
    "#### **Cardiac Function Measurements**  \n",
    "- **fractional_shortening**: A key indicator of heart contractility, with a mean of **0.22** and a range from **0.01 to 0.61**. The median is **0.22**, aligning with the mean, indicating a relatively symmetric distribution.  \n",
    "- **epss (E-point septal separation)**: The average value is **11.83**, with a maximum of **40**, indicating significant variation among patients.  \n",
    "- **lvdd (Left Ventricular Diastolic Dimension)**: The mean is **4.73**, with most values falling between **4.28 and 5.23**, suggesting moderate variation.  \n",
    "\n",
    "#### **Wall Motion & Heart Function**  \n",
    "- **wall_motion_score**: The average is **14.48**, but the maximum is **39**, showing substantial variability in heart wall motion among patients.  \n",
    "- **wall_motion_index**: The mean value of **1.37** suggests most patients had mild-to-moderate wall motion abnormalities, with a maximum of **3.00**.  \n",
    "- **mult**: The mean value is **0.79**, indicating most patients fall within a close range, but the maximum of **2.00** suggests some outliers.  \n",
    "\n",
    "### **Key Observations**  \n",
    "- **Significant missing values in alive_at_1 (34 missing entries)**: These should be carefully handled, as imputing survival outcomes may introduce bias.  \n",
    "- **Potential data inconsistencies**: The extreme value of **77 in pericardial_effusion** may require further investigation.  \n",
    "- **Survival distribution is highly variable**, with some patients having very short survival times while others survive up to 57 months.  \n",
    "- **Most cardiac function measures (e.g., fractional shortening, epss, wall motion index) have reasonable distributions**, but some exhibit high variability.  \n",
    "\n"
   ]
  },
  {
   "metadata": {
    "ExecuteTime": {
     "end_time": "2025-03-12T22:31:25.471651Z",
     "start_time": "2025-03-12T22:31:25.460378Z"
    }
   },
   "cell_type": "code",
   "source": [
    "# Define numerical and binary columns\n",
    "numerical_cols = ['survival', 'age_at_heart_attack', 'fractional_shortening', 'epss', 'lvdd', \n",
    "                  'wall_motion_score', 'wall_motion_index', 'mult']\n",
    "binary_cols = ['still_alive', 'pericardial_effusion', 'alive_at_1']"
   ],
   "outputs": [],
   "execution_count": 15
  },
  {
   "metadata": {
    "ExecuteTime": {
     "end_time": "2025-03-12T22:31:28.525679Z",
     "start_time": "2025-03-12T22:31:25.531908Z"
    }
   },
   "cell_type": "code",
   "source": [
    "# Create a figure for numerical variables\n",
    "plt.figure(figsize=(12, 8))\n",
    "df[numerical_cols].hist(bins=20, figsize=(12, 8), layout=(3, 3), edgecolor='black')\n",
    "plt.tight_layout()\n",
    "plt.show()\n"
   ],
   "outputs": [
    {
     "data": {
      "text/plain": [
       "<Figure size 1200x800 with 0 Axes>"
      ]
     },
     "metadata": {},
     "output_type": "display_data"
    },
    {
     "data": {
      "text/plain": [
       "<Figure size 1200x800 with 9 Axes>"
      ],
      "image/png": "[encoded data removed]"
     },
     "metadata": {},
     "output_type": "display_data"
    }
   ],
   "execution_count": 16
  },
  {
   "metadata": {},
   "cell_type": "markdown",
   "source": [
    "**Insights from Histogram Distributions**\n",
    "\n",
    "Survival Distribution (Top-left plot):\n",
    "- The distribution appears right-skewed, with a large number of individuals having low survival times.\n",
    "- This suggests that many patients do not survive long after a heart attack, with a smaller proportion achieving longer survival times.\n",
    "\n",
    "Age at Heart Attack (Top-middle plot):\n",
    "- The distribution is centered around 60 years old, indicating most heart attack occurrences are in this age group.\n",
    "- Older age at heart attack could correlate with lower survival rates.\n",
    "\n",
    "Fractional Shortening (Top-right plot):\n",
    "- A key measure of heart function, with values clustering around 0.2.\n",
    "- Lower fractional shortening could be associated with worse heart function, possibly leading to lower survival.\n",
    "\n",
    "EPSS (Middle-left plot):\n",
    "- Elevated EPSS (E-point septal separation) is often linked with poor cardiac function.\n",
    "- A right-skewed distribution suggests that some patients have very high EPSS, which may indicate higher mortality risk.\n",
    "\n",
    "LVDD (Middle-center plot):\n",
    "- Left ventricular diastolic diameter (LVDD) is a measure of heart size.\n",
    "- A normal distribution suggests varying heart conditions, but significantly high LVDD may relate to heart failure and lower survival.\n",
    "\n",
    "Wall Motion Score (Middle-right plot):\n",
    "- Higher wall motion scores suggest worse heart function.\n",
    "- The distribution peaks around 15-20, indicating a common range, but very high values could relate to lower survival.\n",
    "\n",
    "Wall Motion Index (Bottom-left plot):\n",
    "- A highly skewed distribution with a peak at 1.0 suggests most patients have a moderate wall motion index.\n",
    "- Higher values could indicate severe heart dysfunction and lower survival.\n",
    "\n",
    "Mult (Bottom-right plot):\n",
    "- Most values cluster around 1.0, suggesting a common multiplier for a certain measurement.\n",
    "- Any deviations from this might influence survival outcomes.\n"
   ]
  },
  {
   "metadata": {
    "ExecuteTime": {
     "end_time": "2025-03-12T22:31:29.167457Z",
     "start_time": "2025-03-12T22:31:28.630872Z"
    }
   },
   "cell_type": "code",
   "source": [
    "# Create a figure for binary variables\n",
    "fig, axes = plt.subplots(1, len(binary_cols), figsize=(12, 4))\n",
    "\n",
    "for i, col in enumerate(binary_cols):\n",
    "    sns.countplot(x=df[col], ax=axes[i], hue=df[col], palette=\"viridis\", legend=False)\n",
    "    axes[i].set_title(f\"Distribution of {col}\")\n",
    "\n",
    "plt.tight_layout()\n",
    "plt.show()\n"
   ],
   "outputs": [
    {
     "data": {
      "text/plain": [
       "<Figure size 1200x400 with 3 Axes>"
      ],
      "image/png": "[encoded data removed]"
     },
     "metadata": {},
     "output_type": "display_data"
    }
   ],
   "execution_count": 17
  },
  {
   "metadata": {},
   "cell_type": "markdown",
   "source": [
    "**Inference from the Bar Charts**\n",
    "\n",
    "Still Alive Distribution (Left Chart):\n",
    "- The majority of individuals have a value of 0 (not alive).\n",
    "- A smaller portion has a value of 1 (still alive).\n",
    "- This suggests a high mortality rate among the observed patients.\n",
    "\n",
    "Pericardial Effusion Distribution (Middle Chart):\n",
    "- Most individuals have a value of 0 (no pericardial effusion).\n",
    "- A smaller proportion has 1 (presence of pericardial effusion).\n",
    "- There is an unusual 77 value, which could be an outlier or a data entry error.\n",
    "- Pericardial effusion (fluid around the heart) is a serious condition that might correlate with lower survival rates.\n",
    "\n",
    "Alive at 1 Year Distribution (Right Chart):\n",
    "- The vast majority of individuals have a value of 1 (alive at 1 year).\n",
    "- A small proportion has a value of 0 (not alive at 1 year).\n",
    "- This suggests that while most patients survive the first year after a heart event, long-term survival (as seen in the first chart) is lower.\n"
   ]
  },
  {
   "metadata": {
    "ExecuteTime": {
     "end_time": "2025-03-12T22:31:29.205286Z",
     "start_time": "2025-03-12T22:31:29.198795Z"
    }
   },
   "cell_type": "code",
   "source": [
    "# Count rows where 'pericardial_effusion' = 77\n",
    "outlier_count = df[df['pericardial_effusion'] == 77].shape[0]\n",
    "print(f\"Number of rows with 'pericardial_effusion' = 77: {outlier_count}\")\n"
   ],
   "outputs": [
    {
     "name": "stdout",
     "output_type": "stream",
     "text": [
      "Number of rows with 'pericardial_effusion' = 77: 1\n"
     ]
    }
   ],
   "execution_count": 18
  },
  {
   "metadata": {
    "ExecuteTime": {
     "end_time": "2025-03-12T22:31:29.267076Z",
     "start_time": "2025-03-12T22:31:29.254172Z"
    }
   },
   "cell_type": "code",
   "source": [
    "# Drop the row where 'pericardial_effusion' = 77\n",
    "df = df[df['pericardial_effusion'] != 77]"
   ],
   "outputs": [],
   "execution_count": 19
  },
  {
   "metadata": {
    "ExecuteTime": {
     "end_time": "2025-03-12T22:31:29.413533Z",
     "start_time": "2025-03-12T22:31:29.346240Z"
    }
   },
   "cell_type": "code",
   "source": [
    "# Calculating the descriptive statistics\n",
    "print(df.describe())"
   ],
   "outputs": [
    {
     "name": "stdout",
     "output_type": "stream",
     "text": [
      "        survival  still_alive  age_at_heart_attack  pericardial_effusion  \\\n",
      "count  126.00000   126.000000           126.000000            126.000000   \n",
      "mean    22.12127     0.301587            62.599437              0.190476   \n",
      "std     16.02617     0.460779             8.090491              0.394244   \n",
      "min      0.03000     0.000000            35.000000              0.000000   \n",
      "25%      7.12500     0.000000            57.250000              0.000000   \n",
      "50%     24.00000     0.000000            62.000000              0.000000   \n",
      "75%     33.00000     1.000000            67.000000              0.000000   \n",
      "max     57.00000     1.000000            86.000000              1.000000   \n",
      "\n",
      "       fractional_shortening        epss        lvdd  wall_motion_score  \\\n",
      "count             126.000000  126.000000  126.000000         126.000000   \n",
      "mean                0.220754   11.841889    4.728357          14.488730   \n",
      "std                 0.104154    6.971542    0.770641           4.983852   \n",
      "min                 0.010000    0.000000    2.320000           2.000000   \n",
      "25%                 0.150000    7.525000    4.275000          11.542500   \n",
      "50%                 0.220000   10.300000    4.650000          14.000000   \n",
      "75%                 0.270000   14.675000    5.237500          16.000000   \n",
      "max                 0.610000   40.000000    6.780000          39.000000   \n",
      "\n",
      "       wall_motion_index        mult  alive_at_1  \n",
      "count         126.000000  126.000000   92.000000  \n",
      "mean            1.374262    0.781135    0.956522  \n",
      "std             0.451398    0.195873    0.205049  \n",
      "min             1.000000    0.140000    0.000000  \n",
      "25%             1.000000    0.714000    1.000000  \n",
      "50%             1.200000    0.786000    1.000000  \n",
      "75%             1.507500    0.857000    1.000000  \n",
      "max             3.000000    2.000000    1.000000  \n"
     ]
    }
   ],
   "execution_count": 20
  },
  {
   "metadata": {},
   "cell_type": "markdown",
   "source": [
    "**Insights from Descriptive Statistics after handling outlier**\n",
    "\n",
    "**Survival & Outcome Variables**\n",
    "- **survival**: The average survival time is **22.12 months**, with a minimum of **0.03 months** and a maximum of **57 months**. This indicates a wide variability in survival times, with some individuals surviving for only a short period and others living much longer.\n",
    "- **still_alive**: On average, about **30% of individuals (mean = 0.30)** are still alive at the last observation. The 75th percentile shows that a larger portion of individuals are not alive by the end of the observation period.\n",
    "- **alive_at_1**: The variable **alive_at_1** indicates whether individuals survived one year after the heart attack. The mean is **0.96**, meaning most individuals (92 out of 126) survived at least one year. However, there are still **34 missing values**, which will need to be handled as censored observations in survival models.\n",
    "\n",
    "**Demographics & Risk Factors**\n",
    "- **age_at_heart_attack**: The average age at heart attack is **62.60 years**, with a range from **35 to 86 years**. The interquartile range (IQR) suggests that most individuals experienced a heart attack between **57.25 and 67 years**.\n",
    "- **pericardial_effusion**: Around **19% (mean = 0.19)** of the individuals had pericardial effusion, which means that the majority did not have fluid around the heart. The maximum value of **1** indicates that some patients were recorded with pericardial effusion.\n",
    "  \n",
    "**Cardiac Function Measurements**\n",
    "- **fractional_shortening**: The average fractional shortening is **0.22**, suggesting moderate heart function, with the minimum value of **0.01** (indicating severe dysfunction in some cases) and a maximum of **0.61**.\n",
    "- **epss (E-point septal separation)**: The mean value is **11.84**, with a significant spread, as the minimum is **0** (likely an extreme case or outlier), and the maximum is **40**.\n",
    "- **lvdd (Left Ventricular Diastolic Dimension)**: The mean value of **4.73** shows that the left ventricle's diastolic dimension is relatively stable, but the data includes a range from **2.32 to 6.78**.\n",
    "  \n",
    "**Wall Motion & Heart Function**\n",
    "- **wall_motion_score**: The average value is **14.49**, with a wide range (from **2 to 39**). This suggests a considerable variability in the heart wall's motion, with some patients exhibiting normal motion while others show severe abnormalities.\n",
    "- **wall_motion_index**: The average value is **1.37**, suggesting a low level of wall motion abnormalities on average. The values range from **1.00 to 3.00**, indicating that most patients have mild-to-moderate wall motion problems.\n",
    "- **mult**: The average value is **0.78**, indicating that the majority of patients have relatively low values for this measure, with a range from **0.14 to 2.00**.\n",
    "\n",
    "**Key Observations**\n",
    "- **Censoring**: There are **34 missing entries** in `alive_at_1`, meaning that **those patients are considered censored** in survival analysis. They were lost to follow-up before the one-year mark, and their data will be treated accordingly."
   ]
  },
  {
   "metadata": {},
   "cell_type": "markdown",
   "source": [
    "### Task 2: Formulate a Question for Survival Analysis\n",
    "1. **Formulate a question**: Develop a research question that can be answered using survival analysis (e.g., comparing survival times across groups, evaluating the effect of a predictor on survival).\n"
   ]
  },
  {
   "metadata": {},
   "cell_type": "markdown",
   "source": [
    "**Research Question:**\n",
    "Does the presence of pericardial effusion (fluid around the heart) impact survival time after a heart attack?\n",
    "\n",
    "I believe that:\n",
    "- The Pericardial effusion is an important clinical indicator of heart health. The presence of fluid around the heart can impair its function and potentially affect the patient’s survival rate.\n",
    "- This question is valuable because it helps determine whether pericardial effusion is a significant predictor of survival time.\n",
    "- Survival Time can be measured by the survival variable, while the presence of pericardial effusion is a binary variable (0 = no, 1 = yes)."
   ]
  },
  {
   "metadata": {},
   "cell_type": "markdown",
   "source": [
    "### Task 3: Calculate the Kaplan-Meier Estimator in Python\n",
    "1. **Import necessary packages**: Import the `lifelines` and `matplotlib` libraries in Python.\n",
    "2. **Explore `KaplanMeierFitter`**: Learn how to use `KaplanMeierFitter` from the `lifelines` library to create a Kaplan-Meier fit object.\n",
    "3. **Build a `kmf` object**: Use the response variable (e.g., time-to-event data) to create a `KaplanMeierFitter` object.\n",
    "4. **Print the `kmf` object**: Display the Kaplan-Meier fit object.\n",
    "5. **Analyze the data with `kmf.fit()`**: Fit the Kaplan-Meier estimator to the data using the `fit()` method.\n",
    "6. **Generate the Kaplan-Meier curve**: Plot the Kaplan-Meier survival curve.\n",
    "\n",
    "### Task 4: Visualize Survival Data in Python\n",
    "1. **Familiarize with `matplotlib`**: Understand how to use `matplotlib` to create detailed plots.\n",
    "2. **Create a detailed survival plot**: Use `kmf.plot(title='Kaplan-Meier Survival Curve', xlabel='Time', ylabel='Survival Probability')` to generate the survival plot.\n",
    "\n",
    "### Taks 3 and 4 have been combined in the following code blocks."
   ]
  },
  {
   "metadata": {
    "ExecuteTime": {
     "end_time": "2025-03-12T22:31:29.482991Z",
     "start_time": "2025-03-12T22:31:29.474748Z"
    }
   },
   "cell_type": "code",
   "source": [
    "# Initialize the KaplanMeierFitter object\n",
    "kmf = KaplanMeierFitter()\n",
    "\n",
    "# The KaplanMeierFitter object is created and is now ready for use.\n",
    "print(kmf)"
   ],
   "outputs": [
    {
     "name": "stdout",
     "output_type": "stream",
     "text": [
      "<lifelines.KaplanMeierFitter>\n"
     ]
    }
   ],
   "execution_count": 21
  },
  {
   "metadata": {
    "ExecuteTime": {
     "end_time": "2025-03-12T22:31:29.579690Z",
     "start_time": "2025-03-12T22:31:29.534608Z"
    }
   },
   "cell_type": "code",
   "source": [
    "# Fit the Kaplan-Meier estimator to the data\n",
    "kmf.fit(df['survival'], event_observed=df['still_alive'])"
   ],
   "outputs": [
    {
     "data": {
      "text/plain": [
       "<lifelines.KaplanMeierFitter:\"KM_estimate\", fitted with 126 total observations, 88 right-censored observations>"
      ]
     },
     "execution_count": 22,
     "metadata": {},
     "output_type": "execute_result"
    }
   ],
   "execution_count": 22
  },
  {
   "metadata": {},
   "cell_type": "markdown",
   "source": [
    "**Interpretation:**\n",
    "- 126 total observations: This means there are 126 data points (patients) in the dataset.\n",
    "- 88 right-censored observations: This refers to the 88 patients whose survival data was censored. In survival analysis, right-censorship means that these patients were still alive at the end of the study period or lost to follow-up before experiencing the event of interest (e.g., death, recurrence, etc.)."
   ]
  },
  {
   "metadata": {
    "ExecuteTime": {
     "end_time": "2025-03-12T22:31:29.965492Z",
     "start_time": "2025-03-12T22:31:29.648477Z"
    }
   },
   "cell_type": "code",
   "source": [
    "# Fit the Kaplan-Meier model to the entire dataset (no grouping)\n",
    "kmf.fit(df['survival'], event_observed=df['still_alive'], label='All Patients')\n",
    "\n",
    "# Create the survival plot for all patients\n",
    "plt.figure(figsize=(10, 6))\n",
    "kmf.plot()\n",
    "\n",
    "# Adding titles and labels to make the plot more informative\n",
    "plt.title(\"Kaplan-Meier Survival Curve for All Patients\", fontsize=16)\n",
    "plt.xlabel(\"Survival Time (Months)\", fontsize=12)\n",
    "plt.ylabel(\"Survival Probability\", fontsize=12)\n",
    "plt.legend(title='Patient Group', loc='upper right', fontsize=12)\n",
    "plt.grid(True)\n",
    "\n",
    "# Show the plot\n",
    "plt.show()\n"
   ],
   "outputs": [
    {
     "data": {
      "text/plain": [
       "<Figure size 1000x600 with 1 Axes>"
      ],
      "image/png": "[encoded data removed]"
     },
     "metadata": {},
     "output_type": "display_data"
    }
   ],
   "execution_count": 23
  },
  {
   "metadata": {},
   "cell_type": "markdown",
   "source": [
    "#### **Kaplan-Meier Survival Analysis for All Patients**\n",
    "\n",
    "The Kaplan-Meier survival curve provides an estimate of survival probability over time for all patients in the dataset. This visualization helps assess the overall survival trend and variability within the population.\n",
    "\n",
    "**Key Findings**\n",
    "1. **Initial Survival Drop**:\n",
    "   - The survival probability starts at 1.0 (100%) at time zero.\n",
    "   - There is a sharp decline in survival probability within the first few months, indicating a high early mortality rate.\n",
    "\n",
    "2. **Stabilization Over Time**:\n",
    "   - After the initial drop, the survival probability decreases at a slower rate.\n",
    "   - Around 10–20 months, the survival curve flattens, suggesting a subset of patients with prolonged survival.\n",
    "\n",
    "3. **Confidence Interval Analysis**:\n",
    "   - The shaded region represents the confidence interval (uncertainty) around the survival estimate.\n",
    "   - The confidence interval is wider at later time points, indicating greater uncertainty due to fewer surviving patients.\n",
    "\n",
    "4. **Long-term Survival Estimate**:\n",
    "   - By 30–50 months, the survival probability is approximately **70%**.\n",
    "   - The long-term survival suggests that while a significant proportion of patients do not survive the early period, those who do tend to have better outcomes.\n",
    "\n",
    "**Conclusion**\n",
    "- The Kaplan-Meier survival curve provides critical insights into patient survival over time.\n",
    "- Early mortality appears to be a significant concern, while later survival stabilizes.\n",
    "\n"
   ]
  },
  {
   "metadata": {
    "ExecuteTime": {
     "end_time": "2025-03-12T22:31:30.030564Z",
     "start_time": "2025-03-12T22:31:30.012695Z"
    }
   },
   "cell_type": "code",
   "source": [
    "# Print the summary of the Kaplan-Meier fit\n",
    "print(\"\\nKaplan-Meier Estimator Summary for All Patients:\")\n",
    "print(kmf.event_table)\n",
    "print(kmf.survival_function_)"
   ],
   "outputs": [
    {
     "name": "stdout",
     "output_type": "stream",
     "text": [
      "\n",
      "Kaplan-Meier Estimator Summary for All Patients:\n",
      "          removed  observed  censored  entrance  at_risk\n",
      "event_at                                                \n",
      "0.00            0         0         0       126      126\n",
      "0.03            1         1         0         0      126\n",
      "0.25            4         4         0         0      125\n",
      "0.50            6         6         0         0      121\n",
      "0.75            6         6         0         0      115\n",
      "1.00            6         6         0         0      109\n",
      "1.25            1         1         0         0      103\n",
      "2.00            2         2         0         0      102\n",
      "3.00            2         2         0         0      100\n",
      "4.00            1         1         0         0       98\n",
      "5.00            2         2         0         0       97\n",
      "7.00            1         1         0         0       95\n",
      "7.50            1         1         0         0       94\n",
      "9.00            1         0         1         0       93\n",
      "10.00           3         1         2         0       92\n",
      "11.00           1         0         1         0       89\n",
      "12.00           4         0         4         0       88\n",
      "13.00           2         0         2         0       84\n",
      "15.00           2         1         1         0       82\n",
      "16.00           3         0         3         0       80\n",
      "17.00           2         0         2         0       77\n",
      "19.00           3         0         3         0       75\n",
      "20.00           1         0         1         0       72\n",
      "21.00           2         1         1         0       71\n",
      "22.00           3         0         3         0       69\n",
      "23.00           1         0         1         0       66\n",
      "24.00           4         1         3         0       65\n",
      "25.00           4         0         4         0       61\n",
      "26.00           5         0         5         0       57\n",
      "27.00           4         0         4         0       52\n",
      "28.00           2         1         1         0       48\n",
      "29.00           4         0         4         0       46\n",
      "31.00           3         0         3         0       42\n",
      "32.00           3         0         3         0       39\n",
      "33.00           5         0         5         0       36\n",
      "34.00           3         0         3         0       31\n",
      "35.00           2         0         2         0       28\n",
      "36.00           4         0         4         0       26\n",
      "37.00           2         0         2         0       22\n",
      "38.00           2         0         2         0       20\n",
      "40.00           1         0         1         0       18\n",
      "41.00           3         0         3         0       17\n",
      "44.00           1         0         1         0       14\n",
      "45.00           1         0         1         0       13\n",
      "46.00           1         0         1         0       12\n",
      "47.00           1         0         1         0       11\n",
      "48.00           1         0         1         0       10\n",
      "49.00           2         0         2         0        9\n",
      "50.00           1         0         1         0        7\n",
      "52.00           2         0         2         0        6\n",
      "53.00           2         0         2         0        4\n",
      "55.00           1         0         1         0        2\n",
      "57.00           1         0         1         0        1\n",
      "          All Patients\n",
      "timeline              \n",
      "0.00          1.000000\n",
      "0.03          0.992063\n",
      "0.25          0.960317\n",
      "0.50          0.912698\n",
      "0.75          0.865079\n",
      "1.00          0.817460\n",
      "1.25          0.809524\n",
      "2.00          0.793651\n",
      "3.00          0.777778\n",
      "4.00          0.769841\n",
      "5.00          0.753968\n",
      "7.00          0.746032\n",
      "7.50          0.738095\n",
      "9.00          0.738095\n",
      "10.00         0.730072\n",
      "11.00         0.730072\n",
      "12.00         0.730072\n",
      "13.00         0.730072\n",
      "15.00         0.721169\n",
      "16.00         0.721169\n",
      "17.00         0.721169\n",
      "19.00         0.721169\n",
      "20.00         0.721169\n",
      "21.00         0.711012\n",
      "22.00         0.711012\n",
      "23.00         0.711012\n",
      "24.00         0.700073\n",
      "25.00         0.700073\n",
      "26.00         0.700073\n",
      "27.00         0.700073\n",
      "28.00         0.685488\n",
      "29.00         0.685488\n",
      "31.00         0.685488\n",
      "32.00         0.685488\n",
      "33.00         0.685488\n",
      "34.00         0.685488\n",
      "35.00         0.685488\n",
      "36.00         0.685488\n",
      "37.00         0.685488\n",
      "38.00         0.685488\n",
      "40.00         0.685488\n",
      "41.00         0.685488\n",
      "44.00         0.685488\n",
      "45.00         0.685488\n",
      "46.00         0.685488\n",
      "47.00         0.685488\n",
      "48.00         0.685488\n",
      "49.00         0.685488\n",
      "50.00         0.685488\n",
      "52.00         0.685488\n",
      "53.00         0.685488\n",
      "55.00         0.685488\n",
      "57.00         0.685488\n"
     ]
    }
   ],
   "execution_count": 24
  },
  {
   "metadata": {},
   "cell_type": "markdown",
   "source": [
    "### Kaplan-Meier Estimator Summary for All Patients\n",
    "\n",
    "The following is the Kaplan-Meier summary for all patients in the dataset, with a focus on survival probabilities over time. Here’s an interpretation of the results:\n",
    "\n",
    "Summary of the Kaplan-Meier Event Table:\n",
    "\n",
    "- **Event Table**: The `event_table` provides the number of patients observed, censored, and at risk at each time point.\n",
    "    - **Removed**: The number of patients who were removed from the study at each time point.\n",
    "    - **Observed**: The number of patients who experienced the event (e.g., death or still alive) at each time point.\n",
    "    - **Censored**: The number of patients who were censored at that time point (i.e., no event observed for those patients up to that point).\n",
    "    - **At Risk**: The number of patients still at risk of experiencing the event at each time point.\n",
    "\n",
    "Survival Probability:\n",
    "\n",
    "- **Survival Function**: The `survival_function_` represents the probability of survival over time for all patients.\n",
    "    - At time 0 (the beginning), all patients have a 100% survival probability.\n",
    "    - As time progresses, the survival probability decreases. For example:\n",
    "        - At 0.03 months (early on), the survival probability is still very high at approximately 99.2%.\n",
    "        - After 5 months, the survival probability is around 75.4%.\n",
    "        - At 57 months, the survival probability stabilizes at about 68.5%, indicating that many patients have already experienced the event by this point.\n",
    "\n",
    "Key Insights:\n",
    "\n",
    "- **Initial Survival**: The survival probability starts at 100% at time 0, which is typical for any survival analysis.\n",
    "- **Survival Decline**: As time progresses, the survival probability decreases. There is a steady decline, with the most notable decreases occurring in the first few months.\n",
    "- **Late-Stage Survival**: After about 30 months, the survival probability plateaus at around 68.5%, which suggests that the rate of events (deaths) slows down after this point.\n",
    "- **Censoring**: Censoring is present in the dataset, meaning that some patients did not experience the event during the study period (they are still alive at the time of last observation).\n",
    "\n",
    "The Kaplan-Meier survival analysis for all patients suggests a gradual decline in survival probability over time, with a noticeable decrease in the first few months. The survival probability continues to decrease but at a slower rate as time progresses, stabilizing after about 30 months. This kind of survival curve is typical in medical datasets, where the majority of events occur within the first few months or years, and survival becomes more stable in the long term.\n"
   ]
  },
  {
   "metadata": {},
   "cell_type": "markdown",
   "source": "### Task 5: Generate K-M Curves with a Predictor in Python using Stratification"
  },
  {
   "metadata": {
    "ExecuteTime": {
     "end_time": "2025-03-12T22:31:30.079208Z",
     "start_time": "2025-03-12T22:31:30.068713Z"
    }
   },
   "cell_type": "code",
   "source": "print(\"Strata (Unique Groups in Pericardial Effusion):\", df['pericardial_effusion'].unique())",
   "outputs": [
    {
     "name": "stdout",
     "output_type": "stream",
     "text": [
      "Strata (Unique Groups in Pericardial Effusion): [0 1]\n"
     ]
    }
   ],
   "execution_count": 25
  },
  {
   "metadata": {
    "ExecuteTime": {
     "end_time": "2025-03-12T22:31:30.172288Z",
     "start_time": "2025-03-12T22:31:30.150585Z"
    }
   },
   "cell_type": "code",
   "source": [
    "# Print the summary of the Kaplan-Meier fit\n",
    "print(\"\\nKaplan-Meier Estimator Summary for Pericardial Effusion (1):\")\n",
    "\n",
    "# Display number of patients at risk and number of events at each time point\n",
    "print(kmf.event_table)  \n",
    "\n",
    "# Display survival probabilities at each time point\n",
    "print(kmf.survival_function_)"
   ],
   "outputs": [
    {
     "name": "stdout",
     "output_type": "stream",
     "text": [
      "\n",
      "Kaplan-Meier Estimator Summary for Pericardial Effusion (1):\n",
      "          removed  observed  censored  entrance  at_risk\n",
      "event_at                                                \n",
      "0.00            0         0         0       126      126\n",
      "0.03            1         1         0         0      126\n",
      "0.25            4         4         0         0      125\n",
      "0.50            6         6         0         0      121\n",
      "0.75            6         6         0         0      115\n",
      "1.00            6         6         0         0      109\n",
      "1.25            1         1         0         0      103\n",
      "2.00            2         2         0         0      102\n",
      "3.00            2         2         0         0      100\n",
      "4.00            1         1         0         0       98\n",
      "5.00            2         2         0         0       97\n",
      "7.00            1         1         0         0       95\n",
      "7.50            1         1         0         0       94\n",
      "9.00            1         0         1         0       93\n",
      "10.00           3         1         2         0       92\n",
      "11.00           1         0         1         0       89\n",
      "12.00           4         0         4         0       88\n",
      "13.00           2         0         2         0       84\n",
      "15.00           2         1         1         0       82\n",
      "16.00           3         0         3         0       80\n",
      "17.00           2         0         2         0       77\n",
      "19.00           3         0         3         0       75\n",
      "20.00           1         0         1         0       72\n",
      "21.00           2         1         1         0       71\n",
      "22.00           3         0         3         0       69\n",
      "23.00           1         0         1         0       66\n",
      "24.00           4         1         3         0       65\n",
      "25.00           4         0         4         0       61\n",
      "26.00           5         0         5         0       57\n",
      "27.00           4         0         4         0       52\n",
      "28.00           2         1         1         0       48\n",
      "29.00           4         0         4         0       46\n",
      "31.00           3         0         3         0       42\n",
      "32.00           3         0         3         0       39\n",
      "33.00           5         0         5         0       36\n",
      "34.00           3         0         3         0       31\n",
      "35.00           2         0         2         0       28\n",
      "36.00           4         0         4         0       26\n",
      "37.00           2         0         2         0       22\n",
      "38.00           2         0         2         0       20\n",
      "40.00           1         0         1         0       18\n",
      "41.00           3         0         3         0       17\n",
      "44.00           1         0         1         0       14\n",
      "45.00           1         0         1         0       13\n",
      "46.00           1         0         1         0       12\n",
      "47.00           1         0         1         0       11\n",
      "48.00           1         0         1         0       10\n",
      "49.00           2         0         2         0        9\n",
      "50.00           1         0         1         0        7\n",
      "52.00           2         0         2         0        6\n",
      "53.00           2         0         2         0        4\n",
      "55.00           1         0         1         0        2\n",
      "57.00           1         0         1         0        1\n",
      "          All Patients\n",
      "timeline              \n",
      "0.00          1.000000\n",
      "0.03          0.992063\n",
      "0.25          0.960317\n",
      "0.50          0.912698\n",
      "0.75          0.865079\n",
      "1.00          0.817460\n",
      "1.25          0.809524\n",
      "2.00          0.793651\n",
      "3.00          0.777778\n",
      "4.00          0.769841\n",
      "5.00          0.753968\n",
      "7.00          0.746032\n",
      "7.50          0.738095\n",
      "9.00          0.738095\n",
      "10.00         0.730072\n",
      "11.00         0.730072\n",
      "12.00         0.730072\n",
      "13.00         0.730072\n",
      "15.00         0.721169\n",
      "16.00         0.721169\n",
      "17.00         0.721169\n",
      "19.00         0.721169\n",
      "20.00         0.721169\n",
      "21.00         0.711012\n",
      "22.00         0.711012\n",
      "23.00         0.711012\n",
      "24.00         0.700073\n",
      "25.00         0.700073\n",
      "26.00         0.700073\n",
      "27.00         0.700073\n",
      "28.00         0.685488\n",
      "29.00         0.685488\n",
      "31.00         0.685488\n",
      "32.00         0.685488\n",
      "33.00         0.685488\n",
      "34.00         0.685488\n",
      "35.00         0.685488\n",
      "36.00         0.685488\n",
      "37.00         0.685488\n",
      "38.00         0.685488\n",
      "40.00         0.685488\n",
      "41.00         0.685488\n",
      "44.00         0.685488\n",
      "45.00         0.685488\n",
      "46.00         0.685488\n",
      "47.00         0.685488\n",
      "48.00         0.685488\n",
      "49.00         0.685488\n",
      "50.00         0.685488\n",
      "52.00         0.685488\n",
      "53.00         0.685488\n",
      "55.00         0.685488\n",
      "57.00         0.685488\n"
     ]
    }
   ],
   "execution_count": 26
  },
  {
   "metadata": {},
   "cell_type": "markdown",
   "source": [
    "#### Kaplan-Meier Survival Analysis Results for Patients with Pericardial Effusion\n",
    "\n",
    "The Kaplan-Meier estimator was used to analyze the survival probabilities of patients with pericardial effusion (fluid around the heart) after a heart attack. Below is a summary of the key findings:\n",
    "\n",
    "1. **Event Table**:\n",
    "The event table shows the number of patients at risk, the number of observed events (deaths), and the number of censored observations (patients who were lost to follow-up or survived beyond the study period) at each time point.\n",
    "\n",
    "- **At time 0 (Start)**: All 126 patients are alive and at risk.\n",
    "- **Time points**: As time progresses, patients experience events (deaths) or are censored (lost to follow-up or survive). For example, at time 0.03 months, one patient died, and the number of patients at risk dropped to 125.\n",
    "- **Censoring**: The number of censored patients gradually increases as more patients are lost to follow-up or remain alive beyond the study's duration.\n",
    "\n",
    "2. **Survival Function**:\n",
    "The survival function represents the probability that a patient survives (does not experience an event) at each time point. It decreases over time, reflecting the natural progression of the condition after a heart attack in patients with pericardial effusion.\n",
    "\n",
    "- **At time 0**: The survival probability is 1.0 (100%), meaning all patients are alive at the start of the study.\n",
    "- **At 1 year (time 1.00)**: The survival probability drops to approximately 0.817, indicating that 81.7% of the patients are still alive after one year.\n",
    "- **At 57 months**: The survival probability drops to around 0.685, meaning 68.5% of patients remain alive at this point.\n",
    "\n",
    "3. **Overall Trend**:\n",
    "- The survival curve shows a stepwise decline as time progresses, with drops corresponding to the occurrence of deaths.\n",
    "- The survival probability steadily decreases, indicating that a proportion of patients with pericardial effusion do not survive beyond a certain point after a heart attack.\n"
   ]
  },
  {
   "metadata": {
    "ExecuteTime": {
     "end_time": "2025-03-12T22:31:30.249726Z",
     "start_time": "2025-03-12T22:31:30.220734Z"
    }
   },
   "cell_type": "code",
   "source": [
    "# Print the summary of the Kaplan-Meier fit for patients without pericardial effusion\n",
    "print(\"\\nKaplan-Meier Estimator Summary for No Pericardial Effusion (0):\")\n",
    "\n",
    "# Display number of patients at risk and number of events at each time point\n",
    "print(kmf.event_table) \n",
    "\n",
    "# Display survival probabilities at each time point\n",
    "print(kmf.survival_function_)  "
   ],
   "outputs": [
    {
     "name": "stdout",
     "output_type": "stream",
     "text": [
      "\n",
      "Kaplan-Meier Estimator Summary for No Pericardial Effusion (0):\n",
      "          removed  observed  censored  entrance  at_risk\n",
      "event_at                                                \n",
      "0.00            0         0         0       126      126\n",
      "0.03            1         1         0         0      126\n",
      "0.25            4         4         0         0      125\n",
      "0.50            6         6         0         0      121\n",
      "0.75            6         6         0         0      115\n",
      "1.00            6         6         0         0      109\n",
      "1.25            1         1         0         0      103\n",
      "2.00            2         2         0         0      102\n",
      "3.00            2         2         0         0      100\n",
      "4.00            1         1         0         0       98\n",
      "5.00            2         2         0         0       97\n",
      "7.00            1         1         0         0       95\n",
      "7.50            1         1         0         0       94\n",
      "9.00            1         0         1         0       93\n",
      "10.00           3         1         2         0       92\n",
      "11.00           1         0         1         0       89\n",
      "12.00           4         0         4         0       88\n",
      "13.00           2         0         2         0       84\n",
      "15.00           2         1         1         0       82\n",
      "16.00           3         0         3         0       80\n",
      "17.00           2         0         2         0       77\n",
      "19.00           3         0         3         0       75\n",
      "20.00           1         0         1         0       72\n",
      "21.00           2         1         1         0       71\n",
      "22.00           3         0         3         0       69\n",
      "23.00           1         0         1         0       66\n",
      "24.00           4         1         3         0       65\n",
      "25.00           4         0         4         0       61\n",
      "26.00           5         0         5         0       57\n",
      "27.00           4         0         4         0       52\n",
      "28.00           2         1         1         0       48\n",
      "29.00           4         0         4         0       46\n",
      "31.00           3         0         3         0       42\n",
      "32.00           3         0         3         0       39\n",
      "33.00           5         0         5         0       36\n",
      "34.00           3         0         3         0       31\n",
      "35.00           2         0         2         0       28\n",
      "36.00           4         0         4         0       26\n",
      "37.00           2         0         2         0       22\n",
      "38.00           2         0         2         0       20\n",
      "40.00           1         0         1         0       18\n",
      "41.00           3         0         3         0       17\n",
      "44.00           1         0         1         0       14\n",
      "45.00           1         0         1         0       13\n",
      "46.00           1         0         1         0       12\n",
      "47.00           1         0         1         0       11\n",
      "48.00           1         0         1         0       10\n",
      "49.00           2         0         2         0        9\n",
      "50.00           1         0         1         0        7\n",
      "52.00           2         0         2         0        6\n",
      "53.00           2         0         2         0        4\n",
      "55.00           1         0         1         0        2\n",
      "57.00           1         0         1         0        1\n",
      "          All Patients\n",
      "timeline              \n",
      "0.00          1.000000\n",
      "0.03          0.992063\n",
      "0.25          0.960317\n",
      "0.50          0.912698\n",
      "0.75          0.865079\n",
      "1.00          0.817460\n",
      "1.25          0.809524\n",
      "2.00          0.793651\n",
      "3.00          0.777778\n",
      "4.00          0.769841\n",
      "5.00          0.753968\n",
      "7.00          0.746032\n",
      "7.50          0.738095\n",
      "9.00          0.738095\n",
      "10.00         0.730072\n",
      "11.00         0.730072\n",
      "12.00         0.730072\n",
      "13.00         0.730072\n",
      "15.00         0.721169\n",
      "16.00         0.721169\n",
      "17.00         0.721169\n",
      "19.00         0.721169\n",
      "20.00         0.721169\n",
      "21.00         0.711012\n",
      "22.00         0.711012\n",
      "23.00         0.711012\n",
      "24.00         0.700073\n",
      "25.00         0.700073\n",
      "26.00         0.700073\n",
      "27.00         0.700073\n",
      "28.00         0.685488\n",
      "29.00         0.685488\n",
      "31.00         0.685488\n",
      "32.00         0.685488\n",
      "33.00         0.685488\n",
      "34.00         0.685488\n",
      "35.00         0.685488\n",
      "36.00         0.685488\n",
      "37.00         0.685488\n",
      "38.00         0.685488\n",
      "40.00         0.685488\n",
      "41.00         0.685488\n",
      "44.00         0.685488\n",
      "45.00         0.685488\n",
      "46.00         0.685488\n",
      "47.00         0.685488\n",
      "48.00         0.685488\n",
      "49.00         0.685488\n",
      "50.00         0.685488\n",
      "52.00         0.685488\n",
      "53.00         0.685488\n",
      "55.00         0.685488\n",
      "57.00         0.685488\n"
     ]
    }
   ],
   "execution_count": 27
  },
  {
   "metadata": {},
   "cell_type": "markdown",
   "source": [
    "#### Kaplan-Meier Survival Analysis Results for Patients Without Pericardial Effusion\n",
    "\n",
    "The Kaplan-Meier estimator was used to analyze the survival probabilities of patients without pericardial effusion (fluid around the heart) after a heart attack. Below is a summary of the key findings:\n",
    "\n",
    "1. **Event Table**:\n",
    "The event table shows the number of patients at risk, the number of observed events (deaths), and the number of censored observations (patients lost to follow-up or survived beyond the study period) at each time point.\n",
    "\n",
    "- **At time 0 (Start)**: All 126 patients are alive and at risk.\n",
    "- **Time points**: As time progresses, patients experience events (deaths) or are censored. For example, at time 0.03 months, one patient died, and the number of patients at risk decreased to 125.\n",
    "- **Censoring**: The number of censored patients increases over time as more patients are lost to follow-up or remain alive beyond the study period.\n",
    "\n",
    "2. **Survival Function**:\n",
    "The survival function represents the probability that a patient survives (does not experience an event) at each time point. The survival probability decreases over time, reflecting the natural progression after a heart attack for patients without pericardial effusion.\n",
    "\n",
    "- **At time 0**: The survival probability is 1.0 (100%), meaning all patients are alive at the start.\n",
    "- **At 1 year (time 1.00)**: The survival probability is approximately 0.817, meaning 81.7% of patients remain alive after one year.\n",
    "- **At 57 months**: The survival probability is approximately 0.685, meaning 68.5% of patients are still alive at this point.\n",
    "\n",
    "3. **Overall Trend**:\n",
    "- The survival curve shows a gradual decline as time progresses, with stepwise reductions corresponding to deaths or censoring.\n",
    "- The survival probability gradually decreases over time, indicating that a proportion of patients without pericardial effusion do not survive beyond a certain point after the heart attack.\n"
   ]
  },
  {
   "metadata": {
    "ExecuteTime": {
     "end_time": "2025-03-12T22:31:30.942610Z",
     "start_time": "2025-03-12T22:31:30.375194Z"
    }
   },
   "cell_type": "code",
   "source": [
    "# This code will provide a Kaplan-Meier survival curve that compares the survival probabilities of patients with pericardial effusion vs. those without it\n",
    "plt.figure(figsize=(10,6))\n",
    "\n",
    "# For patients with pericardial effusion (1)\n",
    "kmf.fit(df[df['pericardial_effusion'] == 1]['survival'], \n",
    "        event_observed=df[df['pericardial_effusion'] == 1]['still_alive'], \n",
    "        label='Pericardial Effusion (1)')\n",
    "kmf.plot(ci_show=True)  # Plot with confidence interval\n",
    "\n",
    "# For patients without pericardial effusion (0)\n",
    "kmf.fit(df[df['pericardial_effusion'] == 0]['survival'], \n",
    "        event_observed=df[df['pericardial_effusion'] == 0]['still_alive'], \n",
    "        label='No Pericardial Effusion (0)')\n",
    "kmf.plot(ci_show=True)  # Plot with confidence interval\n",
    "\n",
    "# Graph settings\n",
    "plt.title(\"Kaplan-Meier Survival Curve by Pericardial Effusion\")\n",
    "plt.xlabel(\"Survival Time (Months)\")\n",
    "plt.ylabel(\"Survival Probability\")\n",
    "plt.legend()\n",
    "plt.grid(True)\n",
    "\n",
    "# Show the plot\n",
    "plt.show()\n"
   ],
   "outputs": [
    {
     "data": {
      "text/plain": [
       "<Figure size 1000x600 with 1 Axes>"
      ],
      "image/png": "[encoded data removed]"
     },
     "metadata": {},
     "output_type": "display_data"
    }
   ],
   "execution_count": 28
  },
  {
   "metadata": {},
   "cell_type": "markdown",
   "source": [
    "### Kaplan-Meier Survival Curve Interpretation: Patients With and Without Pericardial Effusion\n",
    "\n",
    "The Kaplan-Meier (KM) survival curve in your plot compares the survival probabilities of patients with and without pericardial effusion over time. Here’s how to interpret it:\n",
    "\n",
    "1. **Survival Probabilities**:\n",
    "   - The y-axis represents survival probability (ranging from 0 to 1).\n",
    "   - The x-axis represents survival time in months.\n",
    "   - The **blue curve** represents patients with pericardial effusion (label: \"Pericardial Effusion (1)\").\n",
    "   - The **orange curve** represents patients without pericardial effusion (label: \"No Pericardial Effusion (0)\").\n",
    "\n",
    "2. **Curve Interpretation**:\n",
    "   - Both curves start at a survival probability of 1 (100% survival at time zero).\n",
    "   - The blue curve (pericardial effusion) declines more steeply than the orange curve, indicating that patients with pericardial effusion have lower survival rates over time.\n",
    "   - The orange curve remains higher, suggesting better survival for patients without pericardial effusion.\n",
    "\n",
    "3. **Confidence Intervals (Shaded Regions)**:\n",
    "   - The shaded regions around each curve represent confidence intervals.\n",
    "   - A wider shaded area means more uncertainty in survival estimates.\n",
    "   - The blue shaded area is wider at later time points, indicating greater variability and uncertainty in survival estimates for patients with pericardial effusion.\n",
    "\n",
    "**Overall conclusion**:\n",
    "   - Patients with pericardial effusion (blue curve) have a worse survival probability over time compared to those without it.\n",
    "   - The separation of the two curves suggests that pericardial effusion is associated with a poorer prognosis."
   ]
  },
  {
   "metadata": {},
   "cell_type": "markdown",
   "source": [
    "### Task 6: Perform Log-Rank Analysis in Python\n",
    "1. **Familiarize with `logrank_test()`**: Understand how to use `logrank_test()` from `lifelines` to compare survival curves.\n",
    "2. **Perform the Log-Rank Test**: Test the difference between survival curves using `logrank_test(durations_A, durations_B, event_observed_A=event_A, event_observed_B=event_B)`.\n",
    "3. **Examine and interpret the output**: Review the results from the Log-Rank test and interpret the findings.\n",
    "4. **Plot the Kaplan-Meier curve with Log-Rank test**: Create a Kaplan-Meier curve and include the results of the Log-Rank test.\n"
   ]
  },
  {
   "metadata": {},
   "cell_type": "markdown",
   "source": [
    "The Log-Rank Test is a statistical test used to compare the survival distributions of two groups. It helps determine whether there is a significant difference in survival between groups.\n",
    "\n",
    "In this task, we are testing:\n",
    "\n",
    "- Patients with pericardial effusion (fluid around the heart)\n",
    "- Patients without pericardial effusion\n",
    "\n",
    "The goal is to see if the presence of pericardial effusion significantly affects survival after a heart attack."
   ]
  },
  {
   "metadata": {},
   "cell_type": "markdown",
   "source": [
    "Here, we extract survival data for two groups:\n",
    "\n",
    "Patients with pericardial effusion (pericardial_effusion == 1)\n",
    "\n",
    "Patients without pericardial effusion (pericardial_effusion == 0)\n",
    "\n",
    "- durations_effusion: Contains survival times of patients with pericardial effusion.\n",
    "- event_effusion: Whether these patients died (1 = died, 0 = alive).\n",
    "- durations_no_effusion: Contains survival times of patients without pericardial effusion.\n",
    "- event_no_effusion: Whether these patients died (1 = died, 0 = alive)."
   ]
  },
  {
   "metadata": {},
   "cell_type": "markdown",
   "source": [
    "### Hypotheses for the Log-Rank Test\n",
    "\n",
    "The Log-Rank test is used to compare the survival distributions of two groups. In this case, we are comparing the survival of patients with and without pericardial effusion. The hypotheses for the Log-Rank test are as follows:\n",
    "\n",
    "- **Null Hypothesis (H₀)**: There is no difference in the survival distributions between the two groups. In other words, the presence of pericardial effusion does not affect survival time after a heart attack.\n",
    "\n",
    "- **Alternative Hypothesis (H₁)**: There is a significant difference in the survival distributions between the two groups. This suggests that the presence of pericardial effusion does have an effect on survival time after a heart attack.\n",
    "\n",
    "The Log-Rank test evaluates whether the observed differences in survival times are statistically significant enough to reject the null hypothesis.\n"
   ]
  },
  {
   "metadata": {
    "ExecuteTime": {
     "end_time": "2025-03-12T22:31:31.006663Z",
     "start_time": "2025-03-12T22:31:30.993331Z"
    }
   },
   "cell_type": "code",
   "source": [
    "#  Defining Survival Data for Log-Rank Test\n",
    "# Separate survival times and event observations for each group\n",
    "# Patients with pericardial effusion\n",
    "durations_effusion = df[df['pericardial_effusion'] == 1]['survival']\n",
    "# Death indicator for this group\n",
    "event_effusion = df[df['pericardial_effusion'] == 1]['still_alive']\n",
    "\n",
    "# Patients without pericardial effusion\n",
    "durations_no_effusion = df[df['pericardial_effusion'] == 0]['survival'] \n",
    "# Death indicator for this group\n",
    "event_no_effusion = df[df['pericardial_effusion'] == 0]['still_alive']   \n"
   ],
   "outputs": [],
   "execution_count": 29
  },
  {
   "metadata": {
    "ExecuteTime": {
     "end_time": "2025-03-12T22:31:31.118087Z",
     "start_time": "2025-03-12T22:31:31.052229Z"
    }
   },
   "cell_type": "code",
   "source": [
    "# Performing the Log-Rank Test\n",
    "logrank_results = logrank_test(durations_effusion, durations_no_effusion, \n",
    "                               event_observed_A=event_effusion, \n",
    "                               event_observed_B=event_no_effusion)\n",
    "\n",
    "# Print the p-value and test results\n",
    "print(\"Log-Rank Test Results:\")\n",
    "print(logrank_results.summary)\n"
   ],
   "outputs": [
    {
     "name": "stdout",
     "output_type": "stream",
     "text": [
      "Log-Rank Test Results:\n",
      "   test_statistic         p  -log2(p)\n",
      "0        5.378828  0.020383  5.616521\n"
     ]
    }
   ],
   "execution_count": 30
  },
  {
   "metadata": {},
   "cell_type": "markdown",
   "source": [
    "### Log-Rank Test Results\n",
    "\n",
    "The Log-Rank test was performed to compare the survival curves of patients with and without pericardial effusion. Here are the results:\n",
    "\n",
    "- **Test Statistic**: The test statistic is 5.378828. This value quantifies the difference between the survival curves of the two groups.\n",
    "- **p-value**: The p-value is 0.020383. This is the probability of observing a difference as large as the one seen in the data, assuming there is no actual difference between the groups.\n",
    "- **-log2(p)**: The value is 5.616521, which is the logarithmic transformation of the p-value (log base 2). This value helps to highlight the significance of the test result.\n",
    "\n",
    "#### Interpretation:\n",
    "\n",
    "- Since the p-value is **less than 0.05**, we can **reject the null hypothesis** that there is no difference in survival between patients with and without pericardial effusion.\n",
    "- The result suggests a **statistically significant difference** in survival between the two groups, with pericardial effusion likely having an impact on survival time.\n",
    "\n",
    "In conclusion, the presence of pericardial effusion significantly affects survival time after a heart attack, and this difference is supported by the Log-Rank test.\n"
   ]
  },
  {
   "metadata": {
    "ExecuteTime": {
     "end_time": "2025-03-12T22:31:31.498691Z",
     "start_time": "2025-03-12T22:31:31.170433Z"
    }
   },
   "cell_type": "code",
   "source": [
    "# Plotting the Kaplan-Meier curve with the Log-Rank test results\n",
    "kmf = KaplanMeierFitter()\n",
    "\n",
    "plt.figure(figsize=(10, 6))\n",
    "\n",
    "# Fit and plot for patients with pericardial effusion\n",
    "kmf.fit(durations_effusion, event_observed=event_effusion, label=\"Pericardial Effusion (1)\")\n",
    "kmf.plot()\n",
    "\n",
    "# Fit and plot for patients without pericardial effusion\n",
    "kmf.fit(durations_no_effusion, event_observed=event_no_effusion, label=\"No Pericardial Effusion (0)\")\n",
    "kmf.plot()\n",
    "\n",
    "# Add Log-Rank Test results\n",
    "plt.title(\"Kaplan-Meier Survival Curve by Pericardial Effusion\\n(Log-Rank Test p-value: {:.4f})\".format(logrank_results.p_value), fontsize=14)\n",
    "plt.xlabel(\"Survival Time (Months)\", fontsize=12)\n",
    "plt.ylabel(\"Survival Probability\", fontsize=12)\n",
    "plt.legend(title=\"Pericardial Effusion\", loc=\"upper right\", fontsize=12)\n",
    "plt.grid(True)\n",
    "\n",
    "# Show the plot\n",
    "plt.show()\n"
   ],
   "outputs": [
    {
     "data": {
      "text/plain": [
       "<Figure size 1000x600 with 1 Axes>"
      ],
      "image/png": "[encoded data removed]"
     },
     "metadata": {},
     "output_type": "display_data"
    }
   ],
   "execution_count": 31
  },
  {
   "metadata": {},
   "cell_type": "markdown",
   "source": [
    "**Key Findings**\n",
    "- Patients with **pericardial effusion (blue curve)** have a significantly lower survival probability over time compared to those without it (orange curve).\n",
    "- The **log-rank test p-value = 0.0204**, indicating a statistically significant difference in survival between the two groups.\n",
    "- The initial survival drop is steep in both groups, but **patients with pericardial effusion experience worse long-term survival**.\n",
    "- The confidence interval (shaded regions) is wider at later time points, reflecting increased uncertainty due to fewer patients at risk.\n",
    "\n",
    "**Conclusion**\n",
    "- **Pericardial effusion is associated with worse survival outcomes**, and the statistical test confirms the difference is unlikely due to chance.\n"
   ]
  },
  {
   "metadata": {},
   "cell_type": "markdown",
   "source": [
    "### Task 7: Answer the Formulated Question\n",
    "1. **Answer your research question**: Based on the analyses, determine whether you can answer the question you formulated in Task 2\n",
    "2. **Explain the findings**: If you can answer the question, explain how the analysis led to the conclusion. If not, continue refining the analysis until you can answer the question.\n"
   ]
  },
  {
   "metadata": {},
   "cell_type": "markdown",
   "source": [
    "**Research Question:**\n",
    "\n",
    "1. **Answer your research question**:  \n",
    "   Based on the analyses, we can answer the research question: *Does the presence of pericardial effusion (fluid around the heart) impact survival time after a heart attack?*\n",
    "\n",
    "   The Kaplan-Meier survival curves show a clear difference in survival probabilities between patients with and without pericardial effusion. The curve for patients with pericardial effusion declines more steeply, indicating lower survival probabilities over time compared to patients without pericardial effusion. This suggests that pericardial effusion is associated with a poorer survival outcome after a heart attack.\n",
    "\n",
    "   Furthermore, the results of the Log-Rank test provide statistical evidence supporting this conclusion. The p-value from the Log-Rank test is **0.020383**, which is below the typical threshold of 0.05. This indicates that there is a statistically significant difference in survival between the two groups, with pericardial effusion being associated with lower survival.\n",
    "\n",
    "2. **Explain the findings**:  \n",
    "   The analysis supports the hypothesis that the presence of pericardial effusion negatively impacts survival time after a heart attack. The Kaplan-Meier curves show that patients with pericardial effusion have a lower survival probability over time. This is further confirmed by the Log-Rank test, which provides statistical evidence of a significant difference between the two groups.\n",
    "\n",
    "   Since the p-value from the Log-Rank test is less than 0.05, we reject the null hypothesis that there is no difference in survival between the two groups. This suggests that the presence of pericardial effusion has a measurable effect on survival, supporting the conclusion that it impacts survival time after a heart attack.\n",
    "\n",
    "Thus, we can confidently answer the research question with the evidence from the Kaplan-Meier survival analysis and the Log-Rank test.\n"
   ]
  }
 ],
 "metadata": {
  "kernelspec": {
   "display_name": ".venv",
   "language": "python",
   "name": "python3"
  },
  "language_info": {
   "codemirror_mode": {
    "name": "ipython",
    "version": 3
   },
   "file_extension": ".py",
   "mimetype": "text/x-python",
   "name": "python",
   "nbconvert_exporter": "python",
   "pygments_lexer": "ipython3",
   "version": "3.12.7"
  }
 },
 "nbformat": 4,
 "nbformat_minor": 4
}
